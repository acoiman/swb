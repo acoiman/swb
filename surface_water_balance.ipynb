{
  "nbformat": 4,
  "nbformat_minor": 0,
  "metadata": {
    "colab": {
      "name": "surface_water_balance.ipynb",
      "provenance": [],
      "collapsed_sections": [],
      "include_colab_link": true
    },
    "kernelspec": {
      "display_name": "Python 3",
      "language": "python",
      "name": "python3"
    },
    "language_info": {
      "codemirror_mode": {
        "name": "ipython",
        "version": 3
      },
      "file_extension": ".py",
      "mimetype": "text/x-python",
      "name": "python",
      "nbconvert_exporter": "python",
      "pygments_lexer": "ipython3",
      "version": "3.7.3"
    }
  },
  "cells": [
    {
      "cell_type": "markdown",
      "metadata": {
        "id": "view-in-github",
        "colab_type": "text"
      },
      "source": [
        "<a href=\"https://colab.research.google.com/github/acoiman/swb/blob/main/surface_water_balance.ipynb\" target=\"_parent\"><img src=\"https://colab.research.google.com/assets/colab-badge.svg\" alt=\"Open In Colab\"/></a>"
      ]
    },
    {
      "cell_type": "markdown",
      "metadata": {
        "id": "SrgVY2JHi3Gr"
      },
      "source": [
        "## Estimación el Balance de Agua Superficial y el Volumen de Agua de las Cuencas en Sur América (WWF HydroSHEDS Nivel 2).\n",
        "\n",
        "A través de esta notebook vamos a usa a hacer el cálculo aproximado del Balance de Agua Superficial (BAS) y el Volumen de Agua (VA) en las cuencas de sur américa correspondientes al nivel 2 de conjunto de datos WWF HydroSHEDS. Este análisis lo vamos a efectuar en una serie temporal mensual entre enero del 2000 y diciembre del 2019. \n",
        "\n",
        "Para lograr este objetivo vamos a usar la API Python de Google Earh Engine (GEE) y otras librerías Python. El conjunto de datos que vamos a emplear es el siguiente:\n",
        "\n",
        "- Cuencas nivel 2  de [WWF HydroSHEDS](https://developers.google.com/earth-engine/datasets/catalog/WWF_HydroSHEDS_v1_Basins_hybas_2)\n",
        "- [GLDAS-2.1: Global Land Data Assimilation System](https://developers.google.com/earth-engine/datasets/catalog/NASA_GLDAS_V021_NOAH_G025_T3H). De los datos  GLDAS-2.1  vamos a selecionar la proporción total de precipitación (`Rainf_f_tavg`), la evapotranspiración (`Evap_tavg`) y la escorrentía superficial de la lluvia (`Qs_acc`). La resolución espacial de estos datos es de 0.25 grados de arco, aproximadamente 30 Km.\n",
        "\n",
        "El cálculo del BAS es el siguiente:\n",
        "\n",
        "$${BAS(mm/mes)} = {{precipitación} - {evapotranspiración} - {escorrentía}}.$$\n",
        "\n",
        "Es una primera aproximación al cálculo del volumen de agua en la cuenca porque no se tomaron otros factores como el suelo y las aguas subterráneas.\n",
        "\n",
        "El cálculo del VA es el siguiente: \n",
        "\n",
        "$${VA(m^3/mes)} = {{BS(mm/mes)} * 1000 * {Area Cuenca(m^2)}}.$$\n",
        "\n",
        "Estos datos se cruzarán con otros datos de puntos de calor y área quemadas por cuenca con el fin de establecer patrones entre los incendios forestales y la disponibilidad de agua."
      ]
    },
    {
      "cell_type": "markdown",
      "metadata": {
        "id": "47joa7kmi3G7"
      },
      "source": [
        "Para iniciar procedamos a instalar algunos paquetes necesarios."
      ]
    },
    {
      "cell_type": "code",
      "metadata": {
        "id": "b1BjbJ0DJkxc"
      },
      "source": [
        "# installl packages\n",
        "!pip install geopandas\n",
        "!pip install eeconvert\n",
        "!pip install geemap\n",
        "!pip install arrow"
      ],
      "execution_count": null,
      "outputs": []
    },
    {
      "cell_type": "markdown",
      "metadata": {
        "id": "WW-cYLkdi3G-"
      },
      "source": [
        "Accedemos a los servicios de GEE."
      ]
    },
    {
      "cell_type": "code",
      "metadata": {
        "colab": {
          "base_uri": "https://localhost:8080/"
        },
        "id": "DWAKkSq-MTfz",
        "outputId": "aec2f69a-82fc-42c3-99eb-aab84ad08a60"
      },
      "source": [
        "# Authenticate to Earth Engine\n",
        "!earthengine authenticate"
      ],
      "execution_count": null,
      "outputs": [
        {
          "output_type": "stream",
          "text": [
            "WARNING:tensorflow:From /usr/local/lib/python3.7/dist-packages/tensorflow/python/compat/v2_compat.py:96: disable_resource_variables (from tensorflow.python.ops.variable_scope) is deprecated and will be removed in a future version.\n",
            "Instructions for updating:\n",
            "non-resource variables are not supported in the long term\n",
            "Running command using Cloud API.  Set --no-use_cloud_api to go back to using the API\n",
            "\n",
            "To authorize access needed by Earth Engine, open the following URL in a web browser and follow the instructions. If the web browser does not start automatically, please manually browse the URL below.\n",
            "\n",
            "    https://accounts.google.com/o/oauth2/auth?client_id=517222506229-vsmmajv00ul0bs7p89v5m89qs8eb9359.apps.googleusercontent.com&scope=https%3A%2F%2Fwww.googleapis.com%2Fauth%2Fearthengine+https%3A%2F%2Fwww.googleapis.com%2Fauth%2Fdevstorage.full_control&redirect_uri=urn%3Aietf%3Awg%3Aoauth%3A2.0%3Aoob&response_type=code&code_challenge=8-HMnuJDEDOr6ihS1rVCbdh4q19bFzcsSkb7ACfhB4U&code_challenge_method=S256\n",
            "\n",
            "The authorization workflow will generate a code, which you should paste in the box below. \n",
            "Enter verification code: 4/1AY0e-g4rv3FQWPdUJkm4bR4DjmQV0xkd04EuMVObUG9QSBpvaqpyU9s-fzU\n",
            "\n",
            "Successfully saved authorization token.\n"
          ],
          "name": "stdout"
        }
      ]
    },
    {
      "cell_type": "markdown",
      "metadata": {
        "id": "KS_PwX_9i3HC"
      },
      "source": [
        "Procedamos a importar algunos paquetes necesarios."
      ]
    },
    {
      "cell_type": "code",
      "metadata": {
        "id": "vVGFiNtPOKJL"
      },
      "source": [
        "# import packages\n",
        "from IPython.display import Image \n",
        "import matplotlib.pyplot as plt\n",
        "from pprint import  pprint\n",
        "import eeconvert\n",
        "import ee\n",
        "import folium\n",
        "import geemap\n",
        "import geopandas\n",
        "from datetime import date\n",
        "from datetime import datetime\n",
        "import arrow\n",
        "import pandas as pd"
      ],
      "execution_count": null,
      "outputs": []
    },
    {
      "cell_type": "markdown",
      "metadata": {
        "id": "aeuBtWbYi3HE"
      },
      "source": [
        "Inicialicemos GEE. "
      ]
    },
    {
      "cell_type": "code",
      "metadata": {
        "id": "y5BpzmiucmEG"
      },
      "source": [
        "# initialize GEE\n",
        "ee.Initialize()"
      ],
      "execution_count": null,
      "outputs": []
    },
    {
      "cell_type": "markdown",
      "metadata": {
        "id": "UySpAquii3HF"
      },
      "source": [
        "Accedamos a los servicios de almacenamiento de Google Drive."
      ]
    },
    {
      "cell_type": "code",
      "metadata": {
        "colab": {
          "base_uri": "https://localhost:8080/"
        },
        "id": "1jYeYUR7DXVa",
        "outputId": "dfc16cbf-2c2f-4f01-ab7e-2e28289a4668"
      },
      "source": [
        "# Authenticate to Google Drive\n",
        "# Mount Google Drive\n",
        "from google.colab import drive # import drive from google colab\n",
        "\n",
        "# default location for the drive\n",
        "ROOT = \"/content/drive\" \n",
        "print(ROOT) # print content of ROOT (optional)\n",
        "\n",
        "drive.mount(ROOT) # we mount the google drive at /content/drive"
      ],
      "execution_count": null,
      "outputs": [
        {
          "output_type": "stream",
          "text": [
            "/content/drive\n",
            "Mounted at /content/drive\n"
          ],
          "name": "stdout"
        }
      ]
    },
    {
      "cell_type": "markdown",
      "metadata": {
        "id": "-0MHFy79i3HH"
      },
      "source": [
        "Cambiémonos a nuestra carpeta de trabajo"
      ]
    },
    {
      "cell_type": "code",
      "metadata": {
        "colab": {
          "base_uri": "https://localhost:8080/"
        },
        "id": "o9dIihyn3fu_",
        "outputId": "8fb04deb-03fb-4f27-81b9-801f3571cb49"
      },
      "source": [
        "%cd \"drive/MyDrive/Colab_Notebooks/Taller_GEE_Inc_2021\""
      ],
      "execution_count": null,
      "outputs": [
        {
          "output_type": "stream",
          "text": [
            "/content/drive/MyDrive/Colab_Notebooks/Taller_GEE_Inc_2021\n"
          ],
          "name": "stdout"
        }
      ]
    },
    {
      "cell_type": "markdown",
      "metadata": {
        "id": "fbCei0SUi3HI"
      },
      "source": [
        "Llamemos a la colección **WWF HydroSHEDS Basins nivel 2***"
      ]
    },
    {
      "cell_type": "code",
      "metadata": {
        "id": "w2Mz1LKoEdEq"
      },
      "source": [
        "# HydroSHEDS basins level 2\n",
        "basin_l2 = ee.FeatureCollection(\"WWF/HydroSHEDS/v1/Basins/hybas_2\")"
      ],
      "execution_count": null,
      "outputs": []
    },
    {
      "cell_type": "markdown",
      "metadata": {
        "id": "_vpyt0RXi3HJ"
      },
      "source": [
        "Crear una lista con el ID de las cuencas Suramérica nivel 2"
      ]
    },
    {
      "cell_type": "code",
      "metadata": {
        "id": "FC6km3tWFHKz"
      },
      "source": [
        "mainBasiIDs = [6020029280, 6020017370, 6020021870, 6020008320,  6020014330, 6020000010, 6020006540]"
      ],
      "execution_count": null,
      "outputs": []
    },
    {
      "cell_type": "markdown",
      "metadata": {
        "id": "ncgONPPri3HK"
      },
      "source": [
        "Seleccionaremos ahora las cuencas Suramérica de la colección  HydroSHEDS"
      ]
    },
    {
      "cell_type": "code",
      "metadata": {
        "id": "Ohfg79g0FMHL"
      },
      "source": [
        "Basin00 = basin_l2.filter(ee.Filter.eq(\"HYBAS_ID\", mainBasiIDs[0]))\n",
        "Basin01 = basin_l2.filter(ee.Filter.eq(\"HYBAS_ID\", mainBasiIDs[1]))\n",
        "Basin02 = basin_l2.filter(ee.Filter.eq(\"HYBAS_ID\", mainBasiIDs[2]))\n",
        "Basin03 = basin_l2.filter(ee.Filter.eq(\"HYBAS_ID\", mainBasiIDs[3]))\n",
        "Basin04 = basin_l2.filter(ee.Filter.eq(\"HYBAS_ID\", mainBasiIDs[4]))\n",
        "Basin05 = basin_l2.filter(ee.Filter.eq(\"HYBAS_ID\", mainBasiIDs[5]))\n",
        "Basin06 = basin_l2.filter(ee.Filter.eq(\"HYBAS_ID\", mainBasiIDs[6]))"
      ],
      "execution_count": null,
      "outputs": []
    },
    {
      "cell_type": "markdown",
      "metadata": {
        "id": "7r1cPkB4i3HK"
      },
      "source": [
        "Procedamos a unir todas las cuencas."
      ]
    },
    {
      "cell_type": "code",
      "metadata": {
        "id": "vuTqHlv1Feko"
      },
      "source": [
        "saBasins = Basin00.merge(Basin01)\\\n",
        "                .merge(Basin02).merge(Basin03)\\\n",
        "                .merge(Basin04).merge(Basin05).merge(Basin06)"
      ],
      "execution_count": null,
      "outputs": []
    },
    {
      "cell_type": "markdown",
      "metadata": {
        "id": "StZl58SEi3HL"
      },
      "source": [
        "Disolvamos las líneas entre cuencas para obtener el polígono de Suramérica."
      ]
    },
    {
      "cell_type": "code",
      "metadata": {
        "id": "6q9Od75-Fv6F"
      },
      "source": [
        "southAmer = saBasins.union()"
      ],
      "execution_count": null,
      "outputs": []
    },
    {
      "cell_type": "markdown",
      "metadata": {
        "id": "5iBWQmvzi3HM"
      },
      "source": [
        "Ahora visualicemos el polígono de Suramérica y las cuencas Suramérica en un mapa."
      ]
    },
    {
      "cell_type": "code",
      "metadata": {
        "colab": {
          "base_uri": "https://localhost:8080/",
          "height": 689
        },
        "id": "syLpbaysLMcv",
        "outputId": "a4bff759-4d8a-40b0-e6c2-c56775c30822"
      },
      "source": [
        "# create map\n",
        "Map = geemap.Map(center=(-9.84, -62.45), zoom=3)\n",
        "\n",
        "# add layers to map\n",
        "Map.addLayer(southAmer, {}, 'Sur América', False)\n",
        "Map.addLayer(saBasins, {}, 'Cuenca Nivel 2', True)\n",
        "Map.addLayerControl()\n",
        "Map"
      ],
      "execution_count": null,
      "outputs": [
        {
          "output_type": "execute_result",
          "data": {
            "text/html": [
              "<div style=\"width:100%;\"><div style=\"position:relative;width:100%;height:0;padding-bottom:60%;\"><span style=\"color:#565656\">Make this Notebook Trusted to load map: File -> Trust Notebook</span><iframe src=\"about:blank\" style=\"position:absolute;width:100%;height:100%;left:0;top:0;border:none !important;\" data-html=%3C%21DOCTYPE%20html%3E%0A%3Chead%3E%20%20%20%20%0A%20%20%20%20%3Cmeta%20http-equiv%3D%22content-type%22%20content%3D%22text/html%3B%20charset%3DUTF-8%22%20/%3E%0A%20%20%20%20%0A%20%20%20%20%20%20%20%20%3Cscript%3E%0A%20%20%20%20%20%20%20%20%20%20%20%20L_NO_TOUCH%20%3D%20false%3B%0A%20%20%20%20%20%20%20%20%20%20%20%20L_DISABLE_3D%20%3D%20false%3B%0A%20%20%20%20%20%20%20%20%3C/script%3E%0A%20%20%20%20%0A%20%20%20%20%3Cstyle%3Ehtml%2C%20body%20%7Bwidth%3A%20100%25%3Bheight%3A%20100%25%3Bmargin%3A%200%3Bpadding%3A%200%3B%7D%3C/style%3E%0A%20%20%20%20%3Cstyle%3E%23map%20%7Bposition%3Aabsolute%3Btop%3A0%3Bbottom%3A0%3Bright%3A0%3Bleft%3A0%3B%7D%3C/style%3E%0A%20%20%20%20%3Cscript%20src%3D%22https%3A//cdn.jsdelivr.net/npm/leaflet%401.6.0/dist/leaflet.js%22%3E%3C/script%3E%0A%20%20%20%20%3Cscript%20src%3D%22https%3A//code.jquery.com/jquery-1.12.4.min.js%22%3E%3C/script%3E%0A%20%20%20%20%3Cscript%20src%3D%22https%3A//maxcdn.bootstrapcdn.com/bootstrap/3.2.0/js/bootstrap.min.js%22%3E%3C/script%3E%0A%20%20%20%20%3Cscript%20src%3D%22https%3A//cdnjs.cloudflare.com/ajax/libs/Leaflet.awesome-markers/2.0.2/leaflet.awesome-markers.js%22%3E%3C/script%3E%0A%20%20%20%20%3Clink%20rel%3D%22stylesheet%22%20href%3D%22https%3A//cdn.jsdelivr.net/npm/leaflet%401.6.0/dist/leaflet.css%22/%3E%0A%20%20%20%20%3Clink%20rel%3D%22stylesheet%22%20href%3D%22https%3A//maxcdn.bootstrapcdn.com/bootstrap/3.2.0/css/bootstrap.min.css%22/%3E%0A%20%20%20%20%3Clink%20rel%3D%22stylesheet%22%20href%3D%22https%3A//maxcdn.bootstrapcdn.com/bootstrap/3.2.0/css/bootstrap-theme.min.css%22/%3E%0A%20%20%20%20%3Clink%20rel%3D%22stylesheet%22%20href%3D%22https%3A//maxcdn.bootstrapcdn.com/font-awesome/4.6.3/css/font-awesome.min.css%22/%3E%0A%20%20%20%20%3Clink%20rel%3D%22stylesheet%22%20href%3D%22https%3A//cdnjs.cloudflare.com/ajax/libs/Leaflet.awesome-markers/2.0.2/leaflet.awesome-markers.css%22/%3E%0A%20%20%20%20%3Clink%20rel%3D%22stylesheet%22%20href%3D%22https%3A//cdn.jsdelivr.net/gh/python-visualization/folium/folium/templates/leaflet.awesome.rotate.min.css%22/%3E%0A%20%20%20%20%0A%20%20%20%20%20%20%20%20%20%20%20%20%3Cmeta%20name%3D%22viewport%22%20content%3D%22width%3Ddevice-width%2C%0A%20%20%20%20%20%20%20%20%20%20%20%20%20%20%20%20initial-scale%3D1.0%2C%20maximum-scale%3D1.0%2C%20user-scalable%3Dno%22%20/%3E%0A%20%20%20%20%20%20%20%20%20%20%20%20%3Cstyle%3E%0A%20%20%20%20%20%20%20%20%20%20%20%20%20%20%20%20%23map_a216dc7bb09b450ba54ce9d9dfca4eed%20%7B%0A%20%20%20%20%20%20%20%20%20%20%20%20%20%20%20%20%20%20%20%20position%3A%20relative%3B%0A%20%20%20%20%20%20%20%20%20%20%20%20%20%20%20%20%20%20%20%20width%3A%20100.0%25%3B%0A%20%20%20%20%20%20%20%20%20%20%20%20%20%20%20%20%20%20%20%20height%3A%20100.0%25%3B%0A%20%20%20%20%20%20%20%20%20%20%20%20%20%20%20%20%20%20%20%20left%3A%200.0%25%3B%0A%20%20%20%20%20%20%20%20%20%20%20%20%20%20%20%20%20%20%20%20top%3A%200.0%25%3B%0A%20%20%20%20%20%20%20%20%20%20%20%20%20%20%20%20%7D%0A%20%20%20%20%20%20%20%20%20%20%20%20%3C/style%3E%0A%20%20%20%20%20%20%20%20%0A%20%20%20%20%3Cscript%20src%3D%22https%3A//cdnjs.cloudflare.com/ajax/libs/leaflet.fullscreen/1.4.2/Control.FullScreen.min.js%22%3E%3C/script%3E%0A%20%20%20%20%3Clink%20rel%3D%22stylesheet%22%20href%3D%22https%3A//cdnjs.cloudflare.com/ajax/libs/leaflet.fullscreen/1.4.2/Control.FullScreen.min.css%22/%3E%0A%3C/head%3E%0A%3Cbody%3E%20%20%20%20%0A%20%20%20%20%0A%20%20%20%20%20%20%20%20%20%20%20%20%3Cdiv%20class%3D%22folium-map%22%20id%3D%22map_a216dc7bb09b450ba54ce9d9dfca4eed%22%20%3E%3C/div%3E%0A%20%20%20%20%20%20%20%20%0A%3C/body%3E%0A%3Cscript%3E%20%20%20%20%0A%20%20%20%20%0A%20%20%20%20%20%20%20%20%20%20%20%20var%20map_a216dc7bb09b450ba54ce9d9dfca4eed%20%3D%20L.map%28%0A%20%20%20%20%20%20%20%20%20%20%20%20%20%20%20%20%22map_a216dc7bb09b450ba54ce9d9dfca4eed%22%2C%0A%20%20%20%20%20%20%20%20%20%20%20%20%20%20%20%20%7B%0A%20%20%20%20%20%20%20%20%20%20%20%20%20%20%20%20%20%20%20%20center%3A%20%5B-9.84%2C%20-62.45%5D%2C%0A%20%20%20%20%20%20%20%20%20%20%20%20%20%20%20%20%20%20%20%20crs%3A%20L.CRS.EPSG3857%2C%0A%20%20%20%20%20%20%20%20%20%20%20%20%20%20%20%20%20%20%20%20zoom%3A%203%2C%0A%20%20%20%20%20%20%20%20%20%20%20%20%20%20%20%20%20%20%20%20zoomControl%3A%20true%2C%0A%20%20%20%20%20%20%20%20%20%20%20%20%20%20%20%20%20%20%20%20preferCanvas%3A%20false%2C%0A%20%20%20%20%20%20%20%20%20%20%20%20%20%20%20%20%20%20%20%20eeInitialize%3A%20true%2C%0A%20%20%20%20%20%20%20%20%20%20%20%20%20%20%20%20%20%20%20%20addGoogleMap%3A%20true%2C%0A%20%20%20%20%20%20%20%20%20%20%20%20%20%20%20%20%20%20%20%20pluginLatlngpopup%3A%20true%2C%0A%20%20%20%20%20%20%20%20%20%20%20%20%20%20%20%20%20%20%20%20pluginFullscreen%3A%20true%2C%0A%20%20%20%20%20%20%20%20%20%20%20%20%20%20%20%20%20%20%20%20pluginDraw%3A%20false%2C%0A%20%20%20%20%20%20%20%20%20%20%20%20%20%20%20%20%20%20%20%20DrawExport%3A%20true%2C%0A%20%20%20%20%20%20%20%20%20%20%20%20%20%20%20%20%20%20%20%20pluginMinimap%3A%20false%2C%0A%20%20%20%20%20%20%20%20%20%20%20%20%20%20%20%20%20%20%20%20pluginLayercontrol%3A%20false%2C%0A%20%20%20%20%20%20%20%20%20%20%20%20%20%20%20%20%7D%0A%20%20%20%20%20%20%20%20%20%20%20%20%29%3B%0A%0A%20%20%20%20%20%20%20%20%20%20%20%20%0A%0A%20%20%20%20%20%20%20%20%0A%20%20%20%20%0A%20%20%20%20%20%20%20%20%20%20%20%20var%20tile_layer_8750fbe5d5df482f9ec3de5f01bf4c73%20%3D%20L.tileLayer%28%0A%20%20%20%20%20%20%20%20%20%20%20%20%20%20%20%20%22https%3A//%7Bs%7D.tile.openstreetmap.org/%7Bz%7D/%7Bx%7D/%7By%7D.png%22%2C%0A%20%20%20%20%20%20%20%20%20%20%20%20%20%20%20%20%7B%22attribution%22%3A%20%22Data%20by%20%5Cu0026copy%3B%20%5Cu003ca%20href%3D%5C%22http%3A//openstreetmap.org%5C%22%5Cu003eOpenStreetMap%5Cu003c/a%5Cu003e%2C%20under%20%5Cu003ca%20href%3D%5C%22http%3A//www.openstreetmap.org/copyright%5C%22%5Cu003eODbL%5Cu003c/a%5Cu003e.%22%2C%20%22detectRetina%22%3A%20false%2C%20%22maxNativeZoom%22%3A%2018%2C%20%22maxZoom%22%3A%2018%2C%20%22minZoom%22%3A%200%2C%20%22noWrap%22%3A%20false%2C%20%22opacity%22%3A%201%2C%20%22subdomains%22%3A%20%22abc%22%2C%20%22tms%22%3A%20false%7D%0A%20%20%20%20%20%20%20%20%20%20%20%20%29.addTo%28map_a216dc7bb09b450ba54ce9d9dfca4eed%29%3B%0A%20%20%20%20%20%20%20%20%0A%20%20%20%20%0A%20%20%20%20%20%20%20%20%20%20%20%20var%20tile_layer_b311db036f7241ea97395c7c4d6c7eb1%20%3D%20L.tileLayer%28%0A%20%20%20%20%20%20%20%20%20%20%20%20%20%20%20%20%22https%3A//mt1.google.com/vt/lyrs%3Dm%5Cu0026x%3D%7Bx%7D%5Cu0026y%3D%7By%7D%5Cu0026z%3D%7Bz%7D%22%2C%0A%20%20%20%20%20%20%20%20%20%20%20%20%20%20%20%20%7B%22attribution%22%3A%20%22Google%22%2C%20%22detectRetina%22%3A%20false%2C%20%22maxNativeZoom%22%3A%2018%2C%20%22maxZoom%22%3A%2018%2C%20%22minZoom%22%3A%200%2C%20%22noWrap%22%3A%20false%2C%20%22opacity%22%3A%201%2C%20%22subdomains%22%3A%20%22abc%22%2C%20%22tms%22%3A%20false%7D%0A%20%20%20%20%20%20%20%20%20%20%20%20%29.addTo%28map_a216dc7bb09b450ba54ce9d9dfca4eed%29%3B%0A%20%20%20%20%20%20%20%20%0A%20%20%20%20%0A%20%20%20%20%20%20%20%20%20%20%20%20%20%20%20%20var%20lat_lng_popup_461a3ab3e868466b8c8e71cc5dd2a32b%20%3D%20L.popup%28%29%3B%0A%20%20%20%20%20%20%20%20%20%20%20%20%20%20%20%20function%20latLngPop%28e%29%20%7B%0A%20%20%20%20%20%20%20%20%20%20%20%20%20%20%20%20%20%20%20%20lat_lng_popup_461a3ab3e868466b8c8e71cc5dd2a32b%0A%20%20%20%20%20%20%20%20%20%20%20%20%20%20%20%20%20%20%20%20%20%20%20%20.setLatLng%28e.latlng%29%0A%20%20%20%20%20%20%20%20%20%20%20%20%20%20%20%20%20%20%20%20%20%20%20%20.setContent%28%22Latitude%3A%20%22%20%2B%20e.latlng.lat.toFixed%284%29%20%2B%0A%20%20%20%20%20%20%20%20%20%20%20%20%20%20%20%20%20%20%20%20%20%20%20%20%20%20%20%20%20%20%20%20%20%20%20%20%22%3Cbr%3ELongitude%3A%20%22%20%2B%20e.latlng.lng.toFixed%284%29%29%0A%20%20%20%20%20%20%20%20%20%20%20%20%20%20%20%20%20%20%20%20%20%20%20%20.openOn%28map_a216dc7bb09b450ba54ce9d9dfca4eed%29%3B%0A%20%20%20%20%20%20%20%20%20%20%20%20%20%20%20%20%20%20%20%20%7D%0A%20%20%20%20%20%20%20%20%20%20%20%20%20%20%20%20map_a216dc7bb09b450ba54ce9d9dfca4eed.on%28%27click%27%2C%20latLngPop%29%3B%0A%20%20%20%20%20%20%20%20%20%20%20%20%0A%20%20%20%20%0A%20%20%20%20%20%20%20%20%20%20%20%20L.control.fullscreen%28%0A%20%20%20%20%20%20%20%20%20%20%20%20%20%20%20%20%7B%22forceSeparateButton%22%3A%20false%2C%20%22position%22%3A%20%22topleft%22%2C%20%22title%22%3A%20%22Full%20Screen%22%2C%20%22titleCancel%22%3A%20%22Exit%20Full%20Screen%22%7D%0A%20%20%20%20%20%20%20%20%20%20%20%20%29.addTo%28map_a216dc7bb09b450ba54ce9d9dfca4eed%29%3B%0A%20%20%20%20%20%20%20%20%0A%20%20%20%20%0A%20%20%20%20%20%20%20%20%20%20%20%20map_a216dc7bb09b450ba54ce9d9dfca4eed.fitBounds%28%0A%20%20%20%20%20%20%20%20%20%20%20%20%20%20%20%20%5B%5B-9.84%2C%20-62.45%5D%2C%20%5B-9.84%2C%20-62.45%5D%5D%2C%0A%20%20%20%20%20%20%20%20%20%20%20%20%20%20%20%20%7B%22maxZoom%22%3A%203%7D%0A%20%20%20%20%20%20%20%20%20%20%20%20%29%3B%0A%20%20%20%20%20%20%20%20%0A%20%20%20%20%0A%20%20%20%20%20%20%20%20%20%20%20%20var%20tile_layer_5c09f49a38ac4f32ab24fdb7a582a32f%20%3D%20L.tileLayer%28%0A%20%20%20%20%20%20%20%20%20%20%20%20%20%20%20%20%22https%3A//earthengine.googleapis.com/v1alpha/projects/earthengine-legacy/maps/55288656ebfc04e60fbe127f1f507f27-038b75ccaffb1446621dcaaaa37ddfc0/tiles/%7Bz%7D/%7Bx%7D/%7By%7D%22%2C%0A%20%20%20%20%20%20%20%20%20%20%20%20%20%20%20%20%7B%22attribution%22%3A%20%22Google%20Earth%20Engine%22%2C%20%22detectRetina%22%3A%20false%2C%20%22maxNativeZoom%22%3A%2018%2C%20%22maxZoom%22%3A%2018%2C%20%22minZoom%22%3A%200%2C%20%22noWrap%22%3A%20false%2C%20%22opacity%22%3A%201.0%2C%20%22subdomains%22%3A%20%22abc%22%2C%20%22tms%22%3A%20false%7D%0A%20%20%20%20%20%20%20%20%20%20%20%20%29.addTo%28map_a216dc7bb09b450ba54ce9d9dfca4eed%29%3B%0A%20%20%20%20%20%20%20%20%0A%20%20%20%20%0A%20%20%20%20%20%20%20%20%20%20%20%20var%20tile_layer_68b2b1d8b4b7439895b318c7d3710184%20%3D%20L.tileLayer%28%0A%20%20%20%20%20%20%20%20%20%20%20%20%20%20%20%20%22https%3A//earthengine.googleapis.com/v1alpha/projects/earthengine-legacy/maps/fe54bf09bfd8247fa244d36d273437f7-182128a13c68dd53b49a573f23c5b92d/tiles/%7Bz%7D/%7Bx%7D/%7By%7D%22%2C%0A%20%20%20%20%20%20%20%20%20%20%20%20%20%20%20%20%7B%22attribution%22%3A%20%22Google%20Earth%20Engine%22%2C%20%22detectRetina%22%3A%20false%2C%20%22maxNativeZoom%22%3A%2018%2C%20%22maxZoom%22%3A%2018%2C%20%22minZoom%22%3A%200%2C%20%22noWrap%22%3A%20false%2C%20%22opacity%22%3A%201.0%2C%20%22subdomains%22%3A%20%22abc%22%2C%20%22tms%22%3A%20false%7D%0A%20%20%20%20%20%20%20%20%20%20%20%20%29.addTo%28map_a216dc7bb09b450ba54ce9d9dfca4eed%29%3B%0A%20%20%20%20%20%20%20%20%0A%20%20%20%20%0A%20%20%20%20%20%20%20%20%20%20%20%20var%20layer_control_80793ce9d4af4c838f3069372a6e485e%20%3D%20%7B%0A%20%20%20%20%20%20%20%20%20%20%20%20%20%20%20%20base_layers%20%3A%20%7B%0A%20%20%20%20%20%20%20%20%20%20%20%20%20%20%20%20%20%20%20%20%22openstreetmap%22%20%3A%20tile_layer_8750fbe5d5df482f9ec3de5f01bf4c73%2C%0A%20%20%20%20%20%20%20%20%20%20%20%20%20%20%20%20%7D%2C%0A%20%20%20%20%20%20%20%20%20%20%20%20%20%20%20%20overlays%20%3A%20%20%7B%0A%20%20%20%20%20%20%20%20%20%20%20%20%20%20%20%20%20%20%20%20%22Google%20Maps%22%20%3A%20tile_layer_b311db036f7241ea97395c7c4d6c7eb1%2C%0A%20%20%20%20%20%20%20%20%20%20%20%20%20%20%20%20%20%20%20%20%22Sur%20Am%5Cu00e9rica%22%20%3A%20tile_layer_5c09f49a38ac4f32ab24fdb7a582a32f%2C%0A%20%20%20%20%20%20%20%20%20%20%20%20%20%20%20%20%20%20%20%20%22Cuenca%20Nivel%202%22%20%3A%20tile_layer_68b2b1d8b4b7439895b318c7d3710184%2C%0A%20%20%20%20%20%20%20%20%20%20%20%20%20%20%20%20%7D%2C%0A%20%20%20%20%20%20%20%20%20%20%20%20%7D%3B%0A%20%20%20%20%20%20%20%20%20%20%20%20L.control.layers%28%0A%20%20%20%20%20%20%20%20%20%20%20%20%20%20%20%20layer_control_80793ce9d4af4c838f3069372a6e485e.base_layers%2C%0A%20%20%20%20%20%20%20%20%20%20%20%20%20%20%20%20layer_control_80793ce9d4af4c838f3069372a6e485e.overlays%2C%0A%20%20%20%20%20%20%20%20%20%20%20%20%20%20%20%20%7B%22autoZIndex%22%3A%20true%2C%20%22collapsed%22%3A%20true%2C%20%22position%22%3A%20%22topright%22%7D%0A%20%20%20%20%20%20%20%20%20%20%20%20%29.addTo%28map_a216dc7bb09b450ba54ce9d9dfca4eed%29%3B%0A%20%20%20%20%20%20%20%20%20%20%20%20tile_layer_5c09f49a38ac4f32ab24fdb7a582a32f.remove%28%29%3B%0A%20%20%20%20%20%20%20%20%0A%3C/script%3E onload=\"this.contentDocument.open();this.contentDocument.write(    decodeURIComponent(this.getAttribute('data-html')));this.contentDocument.close();\" allowfullscreen webkitallowfullscreen mozallowfullscreen></iframe></div></div>"
            ],
            "text/plain": [
              "<geemap.eefolium.Map at 0x7fef6e472a10>"
            ]
          },
          "metadata": {
            "tags": []
          },
          "execution_count": 12
        }
      ]
    },
    {
      "cell_type": "markdown",
      "metadata": {
        "id": "Ba67VBZfi3HM"
      },
      "source": [
        "Calculemos las fechas del primer día del mes entre un periodo de tiempo determinado."
      ]
    },
    {
      "cell_type": "code",
      "metadata": {
        "id": "7ss1DulrK_yb"
      },
      "source": [
        "def ini_dates(start, end):\n",
        "    \n",
        "    '''function to create a pandas series containing the first day of a month for given period\n",
        "    Argumets:\n",
        "    start: initial date in format 'year-month-day'\n",
        "    end: final date in format 'year-month-day'\n",
        "    \n",
        "    return: a pandas Series with dates in format 'year-month-day'\n",
        "        \n",
        "    Example: if you want to get the first day between January and February you should enter \n",
        "    '2000-01-01' as initial date and '2000-03-01' as final date\n",
        "    '''\n",
        "    range= pd.date_range(start,end , freq='1M')-pd.offsets.MonthBegin(1)\n",
        "    serie = pd.Series(range.format())\n",
        "    \n",
        "    return serie"
      ],
      "execution_count": null,
      "outputs": []
    },
    {
      "cell_type": "code",
      "metadata": {
        "id": "mTqmuvydi3HN"
      },
      "source": [
        "startDates = ini_dates('2000-01-01','2020-01-01')"
      ],
      "execution_count": null,
      "outputs": []
    },
    {
      "cell_type": "code",
      "metadata": {
        "colab": {
          "base_uri": "https://localhost:8080/"
        },
        "id": "Uh8e55S9i3HO",
        "outputId": "98c5614b-f264-4525-9da4-bc80cae74083"
      },
      "source": [
        "startDates"
      ],
      "execution_count": null,
      "outputs": [
        {
          "output_type": "execute_result",
          "data": {
            "text/plain": [
              "0      2000-01-01\n",
              "1      2000-02-01\n",
              "2      2000-03-01\n",
              "3      2000-04-01\n",
              "4      2000-05-01\n",
              "          ...    \n",
              "235    2019-08-01\n",
              "236    2019-09-01\n",
              "237    2019-10-01\n",
              "238    2019-11-01\n",
              "239    2019-12-01\n",
              "Length: 240, dtype: object"
            ]
          },
          "metadata": {
            "tags": []
          },
          "execution_count": 37
        }
      ]
    },
    {
      "cell_type": "markdown",
      "metadata": {
        "id": "6Qw2Gd-8i3HO"
      },
      "source": [
        "Calculemos las fechas del último día del mes entre un periodo de tiempo determinado."
      ]
    },
    {
      "cell_type": "code",
      "metadata": {
        "id": "X-x3oOb0i3HP"
      },
      "source": [
        "def fin_dates(start, end):\n",
        "    \n",
        "    '''function to create a pandas series containing the last day of a month for given period\n",
        "    Argumets:\n",
        "    start: initial date in format 'year-month-day'\n",
        "    end: final date in format 'year-month-day'\n",
        "    \n",
        "    return: a pandas Series with dates in format 'year-month-day'\n",
        "        \n",
        "    Example: if you want to get the last day between January and February you should enter \n",
        "    '2000-01-01' as initial date and '2000-03-01' as final date\n",
        "    '''\n",
        "    range= pd.date_range(start,end , freq='1M')-pd.offsets.MonthEnd(0)\n",
        "    serie = pd.Series(range.format())\n",
        "    \n",
        "    return serie"
      ],
      "execution_count": null,
      "outputs": []
    },
    {
      "cell_type": "code",
      "metadata": {
        "id": "XE4Ih7vRi3HQ"
      },
      "source": [
        "endDates = fin_dates('2000-01-01','2020-01-01')"
      ],
      "execution_count": null,
      "outputs": []
    },
    {
      "cell_type": "code",
      "metadata": {
        "colab": {
          "base_uri": "https://localhost:8080/"
        },
        "id": "Jr_uZQtGi3HQ",
        "outputId": "e052aa33-3dd6-499f-ffc1-890880474d56"
      },
      "source": [
        "endDates"
      ],
      "execution_count": null,
      "outputs": [
        {
          "output_type": "execute_result",
          "data": {
            "text/plain": [
              "0      2000-01-31\n",
              "1      2000-02-29\n",
              "2      2000-03-31\n",
              "3      2000-04-30\n",
              "4      2000-05-31\n",
              "          ...    \n",
              "235    2019-08-31\n",
              "236    2019-09-30\n",
              "237    2019-10-31\n",
              "238    2019-11-30\n",
              "239    2019-12-31\n",
              "Length: 240, dtype: object"
            ]
          },
          "metadata": {
            "tags": []
          },
          "execution_count": 39
        }
      ]
    },
    {
      "cell_type": "markdown",
      "metadata": {
        "id": "v4DA6WvQi3HQ"
      },
      "source": [
        "En esta sección vamos a calcular Balance de Agua Superficial y el Volumen de Agua por mes para el período y área de estudio. Luego calcularemos las estadísticas zonales (media) del BAS para cada cuenca. Convertiremos el FeatureCollection a un GeoDataFrame para calcular el área por cuenca y el volumen de agua por cuenca. Luego se almacenará toda esta serie temporal en una lista."
      ]
    },
    {
      "cell_type": "code",
      "metadata": {
        "colab": {
          "base_uri": "https://localhost:8080/"
        },
        "id": "T_CPKUH0Xq78",
        "scrolled": true,
        "outputId": "4d70df96-4fd4-4eeb-df61-d229a0b00204"
      },
      "source": [
        "# list to store dataframe values\n",
        "lst = []\n",
        " \n",
        "for d1, d2 in zip(startDates, endDates):\n",
        "    # d1: start date\n",
        "    # d2: end date\n",
        "\n",
        "    # calculate number of days between d1 and d2\n",
        "    a = arrow.get(d1)\n",
        "    b = arrow.get(d2)\n",
        "    delta = (b-a)\n",
        "    numdays = delta.days\n",
        "\n",
        "    # GLDAS-2.1: Global Land Data Assimilation System\n",
        "    # https://developers.google.com/earth-engine/datasets/catalog/NASA_GLDAS_V021_NOAH_G025_T3H\n",
        "    dataset = ee.ImageCollection('NASA/GLDAS/V021/NOAH/G025/T3H').filter(ee.Filter.date(d1, d2)) \n",
        "    # select total precipitation rate and calculate the mean\n",
        "    precip_rate = dataset.select('Rainf_f_tavg').mean()\n",
        "    # clip to all basins\n",
        "    precip_clip = precip_rate.clip(southAmer)\n",
        "    # convert units to get monthly data\n",
        "    # precipitation is in kg m^2 s^-1  accumulated over 3 hour interval \n",
        "    # Rainf_f_tavg (month){kg/m2} =\n",
        "    # Rainf_f_tavg (month){kg/m2/sec} * 10800{sec/3hr} * 8{3hr/day} * 30{days}\n",
        "    precip = precip_clip.multiply(10800).multiply(8).multiply(numdays)\n",
        "   \n",
        "    # select evapotranspiration and calculate the mean\n",
        "    evap = dataset.select('Evap_tavg').mean()\n",
        "    # clip to all basins\n",
        "    evap_clip =  evap.clip(southAmer)  \n",
        "    # convert units to get monthly data\n",
        "    # evapotraspiration is in kg m^2 s^-1  accumulated over 3 hour interval \n",
        "    # Evap_tavg (month){kg/m2} =\n",
        "    # Evap_tavg (month){kg/m2/sec} * 10800{sec/3hr} * 8{3hr/day} * 30{days}\n",
        "    ET =  evap_clip.multiply(10800).multiply(8).multiply(numdays) \n",
        "   \n",
        "    # select storm surface runoff and calculate the mean\n",
        "    ssr = dataset.select('Qs_acc').mean()\n",
        "    # clip to all basins\n",
        "    ssr_clip  =  ssr.clip(southAmer)\n",
        "    # convert units to get monthly data\n",
        "    # runoff is in kg m^2  accumulated over 3 hour interval \n",
        "    # Qs_acc (month){kg/m2} = Qs_acc (month){kg/m2/3hr} * 8{3hr/day} * 30{days}\n",
        "    runoff =  ssr_clip.multiply(8).multiply(30)\n",
        "   \n",
        "    # calculate Surface Water Balance\n",
        "    SWB= precip.subtract(ET);\n",
        "    WB = SWB.subtract(runoff).rename('WB');\n",
        "   \n",
        "    # add reducer output to the features in the collection.\n",
        "    # add the mean of  Surface Water Balance to each basin\n",
        "    saBasinsWB = WB.reduceRegions(**{\n",
        "        'collection': saBasins,\n",
        "        'reducer': ee.Reducer.mean(),\n",
        "        'scale': 30000\n",
        "    })\n",
        "    # conver fc to gdf\n",
        "    df = eeconvert.fcToGdf(saBasinsWB)\n",
        "\n",
        "    # create FECHA column\n",
        "    df['FECHA'] =  d1.replace('-', '')[:-2]\n",
        "   \n",
        "    # reproject to South America Albers Equal Area Conic\n",
        "    df_proj= df.to_crs(\"+proj=aea +lat_1=-5 +lat_2=-42 +lat_0=-32 +lon_0=-60 +x_0=0 +y_0=0 +ellps=aust_SA +units=m +no_defs\")\n",
        "   \n",
        "    # calculate area in m^2\n",
        "    df_proj[\"AREA_M2\"] = df_proj['geometry'].area\n",
        "\n",
        "    # calculate water volume in m^3\n",
        "    df_proj[\"VOLUMEN_AGUA_M3\"] =  (df_proj['mean'] / 1000) * df_proj['AREA_M2']\n",
        "   \n",
        "    # select and rename columns\n",
        "    df_proj = df_proj[['HYBAS_ID', 'mean', 'FECHA', 'VOLUMEN_AGUA_M3']]\n",
        "    df_proj = df_proj.rename(columns={'mean': 'WB'})\n",
        "\n",
        "    # reorder columns\n",
        "    df_final = df_proj[['FECHA', 'HYBAS_ID','WB', 'VOLUMEN_AGUA_M3']]\n",
        "   \n",
        "    # df values to list\n",
        "    dflist = df_final.values.tolist()\n",
        "    # append dflist to another list\n",
        "    lst.append(dflist)"
      ],
      "execution_count": null,
      "outputs": [
        {
          "output_type": "stream",
          "text": [
            "/usr/local/lib/python3.7/dist-packages/pyproj/crs/crs.py:53: FutureWarning: '+init=<authority>:<code>' syntax is deprecated. '<authority>:<code>' is the preferred initialization method. When making the change, be mindful of axis order changes: https://pyproj4.github.io/pyproj/stable/gotchas.html#axis-order-changes-in-proj-6\n",
            "  return _prepare_from_string(\" \".join(pjargs))\n"
          ],
          "name": "stderr"
        }
      ]
    },
    {
      "cell_type": "markdown",
      "metadata": {
        "id": "9N0fnhQci3HS"
      },
      "source": [
        "Eliminemos los paréntesis adicionales de la lista."
      ]
    },
    {
      "cell_type": "code",
      "metadata": {
        "id": "X6KIByLikiV8"
      },
      "source": [
        "# flatten list\n",
        "final_list = [i for sublist in lst for i in sublist]"
      ],
      "execution_count": null,
      "outputs": []
    },
    {
      "cell_type": "markdown",
      "metadata": {
        "id": "LXGvTqFei3HT"
      },
      "source": [
        "A partir de la lista anterior vamos a crear una DataFrame, luego los visualizaremos. "
      ]
    },
    {
      "cell_type": "code",
      "metadata": {
        "id": "mYEZI6NYkLuq"
      },
      "source": [
        "# create  new dataframe from final_list\n",
        "df2 = pd.DataFrame(final_list, columns =['FECHA', 'HYBAS_ID','WB', 'VOLUMEN_AGUA_M3'])"
      ],
      "execution_count": null,
      "outputs": []
    },
    {
      "cell_type": "code",
      "metadata": {
        "colab": {
          "base_uri": "https://localhost:8080/",
          "height": 198
        },
        "id": "xiH0w8rlk29w",
        "outputId": "d2bd88fd-8a2b-4ac5-e0de-c1d2ee192098"
      },
      "source": [
        "# visualize new dataframe\n",
        "df2.head()"
      ],
      "execution_count": null,
      "outputs": [
        {
          "output_type": "execute_result",
          "data": {
            "text/html": [
              "<div>\n",
              "<style scoped>\n",
              "    .dataframe tbody tr th:only-of-type {\n",
              "        vertical-align: middle;\n",
              "    }\n",
              "\n",
              "    .dataframe tbody tr th {\n",
              "        vertical-align: top;\n",
              "    }\n",
              "\n",
              "    .dataframe thead th {\n",
              "        text-align: right;\n",
              "    }\n",
              "</style>\n",
              "<table border=\"1\" class=\"dataframe\">\n",
              "  <thead>\n",
              "    <tr style=\"text-align: right;\">\n",
              "      <th></th>\n",
              "      <th>FECHA</th>\n",
              "      <th>HYBAS_ID</th>\n",
              "      <th>WB</th>\n",
              "      <th>VOLUMEN_AGUA_M3</th>\n",
              "    </tr>\n",
              "  </thead>\n",
              "  <tbody>\n",
              "    <tr>\n",
              "      <th>0</th>\n",
              "      <td>200301</td>\n",
              "      <td>6020029280</td>\n",
              "      <td>38.400772</td>\n",
              "      <td>1.953174e+10</td>\n",
              "    </tr>\n",
              "    <tr>\n",
              "      <th>1</th>\n",
              "      <td>200301</td>\n",
              "      <td>6020017370</td>\n",
              "      <td>-23.417259</td>\n",
              "      <td>-3.544312e+10</td>\n",
              "    </tr>\n",
              "    <tr>\n",
              "      <th>2</th>\n",
              "      <td>200301</td>\n",
              "      <td>6020021870</td>\n",
              "      <td>12.810889</td>\n",
              "      <td>1.387266e+10</td>\n",
              "    </tr>\n",
              "    <tr>\n",
              "      <th>3</th>\n",
              "      <td>200301</td>\n",
              "      <td>6020008320</td>\n",
              "      <td>85.343679</td>\n",
              "      <td>1.790697e+11</td>\n",
              "    </tr>\n",
              "    <tr>\n",
              "      <th>4</th>\n",
              "      <td>200301</td>\n",
              "      <td>6020014330</td>\n",
              "      <td>63.349821</td>\n",
              "      <td>2.282604e+11</td>\n",
              "    </tr>\n",
              "  </tbody>\n",
              "</table>\n",
              "</div>"
            ],
            "text/plain": [
              "    FECHA    HYBAS_ID         WB  VOLUMEN_AGUA_M3\n",
              "0  200301  6020029280  38.400772     1.953174e+10\n",
              "1  200301  6020017370 -23.417259    -3.544312e+10\n",
              "2  200301  6020021870  12.810889     1.387266e+10\n",
              "3  200301  6020008320  85.343679     1.790697e+11\n",
              "4  200301  6020014330  63.349821     2.282604e+11"
            ]
          },
          "metadata": {
            "tags": []
          },
          "execution_count": 33
        }
      ]
    },
    {
      "cell_type": "markdown",
      "metadata": {
        "id": "rdQ1jrNJg1M_"
      },
      "source": [
        "Verifiquemos la consistencia de los datos"
      ]
    },
    {
      "cell_type": "code",
      "metadata": {
        "colab": {
          "base_uri": "https://localhost:8080/"
        },
        "id": "MX0WTtElg3UD",
        "outputId": "8fd3ff31-b1bc-48a3-b58f-f55440645e2a"
      },
      "source": [
        "len(df2)==(len(startDates)*7)"
      ],
      "execution_count": null,
      "outputs": [
        {
          "output_type": "execute_result",
          "data": {
            "text/plain": [
              "True"
            ]
          },
          "metadata": {
            "tags": []
          },
          "execution_count": 34
        }
      ]
    },
    {
      "cell_type": "markdown",
      "metadata": {
        "id": "Y1gc_gkvQQOt",
        "outputId": "dd96af01-55d0-472d-bc72-5df8da446675"
      },
      "source": [
        "Finalmente exportemos los datos en formato csv"
      ]
    },
    {
      "cell_type": "code",
      "metadata": {
        "id": "6Seul4mCi3HW"
      },
      "source": [
        "df2.to_csv('wb2000_2019.csv', index=False)"
      ],
      "execution_count": null,
      "outputs": []
    }
  ]
}