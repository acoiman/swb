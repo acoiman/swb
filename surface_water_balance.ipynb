{
  "nbformat": 4,
  "nbformat_minor": 0,
  "metadata": {
    "colab": {
      "name": "surface_water_balance.ipynb",
      "provenance": [],
      "collapsed_sections": [],
      "include_colab_link": true
    },
    "kernelspec": {
      "display_name": "Python 3",
      "language": "python",
      "name": "python3"
    },
    "language_info": {
      "codemirror_mode": {
        "name": "ipython",
        "version": 3
      },
      "file_extension": ".py",
      "mimetype": "text/x-python",
      "name": "python",
      "nbconvert_exporter": "python",
      "pygments_lexer": "ipython3",
      "version": "3.7.3"
    },
    "widgets": {
      "application/vnd.jupyter.widget-state+json": {
        "8d9b2b6496d847d8af171a196a55ae73": {
          "model_module": "@jupyter-widgets/controls",
          "model_name": "DropdownModel",
          "model_module_version": "1.5.0",
          "state": {
            "_dom_classes": [],
            "_model_module": "@jupyter-widgets/controls",
            "_model_module_version": "1.5.0",
            "_model_name": "DropdownModel",
            "_options_labels": [
              "Nivel 2",
              "Nivel 3",
              "Nivel 4",
              "Nivel 5",
              "Nivel 6",
              "Nivel 7",
              "Nivel 8",
              "Nivel 9",
              "Nivel 10",
              "Nivel 11",
              "Nivel 12"
            ],
            "_view_count": null,
            "_view_module": "@jupyter-widgets/controls",
            "_view_module_version": "1.5.0",
            "_view_name": "DropdownView",
            "description": "",
            "description_tooltip": null,
            "disabled": false,
            "index": 0,
            "layout": "IPY_MODEL_d8461539a797418ba0a7e3544298d624",
            "style": "IPY_MODEL_b448f83560ba4221bbafc2322d4e5174"
          }
        },
        "d8461539a797418ba0a7e3544298d624": {
          "model_module": "@jupyter-widgets/base",
          "model_name": "LayoutModel",
          "model_module_version": "1.2.0",
          "state": {
            "_model_module": "@jupyter-widgets/base",
            "_model_module_version": "1.2.0",
            "_model_name": "LayoutModel",
            "_view_count": null,
            "_view_module": "@jupyter-widgets/base",
            "_view_module_version": "1.2.0",
            "_view_name": "LayoutView",
            "align_content": null,
            "align_items": null,
            "align_self": null,
            "border": null,
            "bottom": null,
            "display": null,
            "flex": null,
            "flex_flow": null,
            "grid_area": null,
            "grid_auto_columns": null,
            "grid_auto_flow": null,
            "grid_auto_rows": null,
            "grid_column": null,
            "grid_gap": null,
            "grid_row": null,
            "grid_template_areas": null,
            "grid_template_columns": null,
            "grid_template_rows": null,
            "height": null,
            "justify_content": null,
            "justify_items": null,
            "left": null,
            "margin": null,
            "max_height": null,
            "max_width": null,
            "min_height": null,
            "min_width": null,
            "object_fit": null,
            "object_position": null,
            "order": null,
            "overflow": null,
            "overflow_x": null,
            "overflow_y": null,
            "padding": null,
            "right": null,
            "top": null,
            "visibility": null,
            "width": null
          }
        },
        "b448f83560ba4221bbafc2322d4e5174": {
          "model_module": "@jupyter-widgets/controls",
          "model_name": "DescriptionStyleModel",
          "model_module_version": "1.5.0",
          "state": {
            "_model_module": "@jupyter-widgets/controls",
            "_model_module_version": "1.5.0",
            "_model_name": "DescriptionStyleModel",
            "_view_count": null,
            "_view_module": "@jupyter-widgets/base",
            "_view_module_version": "1.2.0",
            "_view_name": "StyleView",
            "description_width": ""
          }
        },
        "a936a386b7684cf7aedeaf1e20ae6822": {
          "model_module": "jupyter-leaflet",
          "model_name": "LeafletMapModel",
          "model_module_version": "^0.17",
          "state": {
            "_dom_classes": [],
            "_model_module": "jupyter-leaflet",
            "_model_module_version": "^0.17",
            "_model_name": "LeafletMapModel",
            "_view_count": null,
            "_view_module": "jupyter-leaflet",
            "_view_module_version": "^0.17",
            "_view_name": "LeafletMapView",
            "bottom": 856,
            "bounce_at_zoom_limits": true,
            "box_zoom": true,
            "center": [
              -15.284185114076433,
              -34.80468750000001
            ],
            "close_popup_on_click": true,
            "controls": [
              "IPY_MODEL_ad034ed2128e421b8fd3819a74317561",
              "IPY_MODEL_7cd0089dd57446478b861e7a507b5212",
              "IPY_MODEL_0a2c7bed85f54652a6767eed375ee12f",
              "IPY_MODEL_aff04841ef134bdd826a92b542cf4c29",
              "IPY_MODEL_b7048aaca0d94a2f9a6655a89ccc1f46",
              "IPY_MODEL_9ea44058e6134d20b4ad2026c36573c4",
              "IPY_MODEL_a694eb25dc5a447d9ba0a31f9d586f7a",
              "IPY_MODEL_e6ffd04e71fe423395046e4c14ca0e1b"
            ],
            "crs": {
              "name": "EPSG3857",
              "custom": false
            },
            "default_style": "IPY_MODEL_063ba5945d7f453ba825d11588406fe4",
            "double_click_zoom": true,
            "dragging": true,
            "dragging_style": "IPY_MODEL_267990c33c2d49a7943f5edf58600eea",
            "east": 183.16406250000003,
            "fullscreen": false,
            "inertia": true,
            "inertia_deceleration": 3000,
            "inertia_max_speed": 1500,
            "interpolation": "bilinear",
            "keyboard": true,
            "keyboard_pan_offset": 80,
            "keyboard_zoom_offset": 1,
            "layers": [
              "IPY_MODEL_d12e022c2def477d83de964e22b97394",
              "IPY_MODEL_7d2da0ce727a478dabbb4d1ae3e3cd2b",
              "IPY_MODEL_b3eb7290c725458c93644dde8f9634fc"
            ],
            "layout": "IPY_MODEL_b20100d5f34944e3bdffbdfa53ed36b5",
            "left": -207,
            "max_zoom": 24,
            "min_zoom": null,
            "modisdate": "2022-10-19",
            "north": 66.51326044311188,
            "options": [
              "bounce_at_zoom_limits",
              "box_zoom",
              "center",
              "close_popup_on_click",
              "double_click_zoom",
              "dragging",
              "fullscreen",
              "inertia",
              "inertia_deceleration",
              "inertia_max_speed",
              "interpolation",
              "keyboard",
              "keyboard_pan_offset",
              "keyboard_zoom_offset",
              "max_zoom",
              "min_zoom",
              "prefer_canvas",
              "scroll_wheel_zoom",
              "tap",
              "tap_tolerance",
              "touch_zoom",
              "world_copy_jump",
              "zoom",
              "zoom_animation_threshold",
              "zoom_delta",
              "zoom_snap"
            ],
            "panes": {},
            "prefer_canvas": false,
            "right": 1033,
            "scroll_wheel_zoom": true,
            "south": -76.18499546094715,
            "style": "IPY_MODEL_063ba5945d7f453ba825d11588406fe4",
            "tap": true,
            "tap_tolerance": 15,
            "top": 256,
            "touch_zoom": true,
            "west": -252.77343750000003,
            "window_url": "https://hk4jwhv9tw-496ff2e9c6d22116-0-colab.googleusercontent.com/outputframe.html?vrz=colab-20221019-060049-RC01_482247909",
            "world_copy_jump": false,
            "zoom": 2,
            "zoom_animation_threshold": 4,
            "zoom_delta": 1,
            "zoom_snap": 1
          }
        },
        "ad034ed2128e421b8fd3819a74317561": {
          "model_module": "jupyter-leaflet",
          "model_name": "LeafletWidgetControlModel",
          "model_module_version": "^0.17",
          "state": {
            "_model_module": "jupyter-leaflet",
            "_model_module_version": "^0.17",
            "_model_name": "LeafletWidgetControlModel",
            "_view_count": null,
            "_view_module": "jupyter-leaflet",
            "_view_module_version": "^0.17",
            "_view_name": "LeafletWidgetControlView",
            "max_height": null,
            "max_width": null,
            "min_height": null,
            "min_width": null,
            "options": [
              "position",
              "transparent_bg"
            ],
            "position": "topleft",
            "transparent_bg": false,
            "widget": "IPY_MODEL_3fc14cfaff5a4773be388c53a0bb548d"
          }
        },
        "7cd0089dd57446478b861e7a507b5212": {
          "model_module": "jupyter-leaflet",
          "model_name": "LeafletZoomControlModel",
          "model_module_version": "^0.17",
          "state": {
            "_model_module": "jupyter-leaflet",
            "_model_module_version": "^0.17",
            "_model_name": "LeafletZoomControlModel",
            "_view_count": null,
            "_view_module": "jupyter-leaflet",
            "_view_module_version": "^0.17",
            "_view_name": "LeafletZoomControlView",
            "options": [
              "position",
              "zoom_in_text",
              "zoom_in_title",
              "zoom_out_text",
              "zoom_out_title"
            ],
            "position": "topleft",
            "zoom_in_text": "+",
            "zoom_in_title": "Zoom in",
            "zoom_out_text": "-",
            "zoom_out_title": "Zoom out"
          }
        },
        "0a2c7bed85f54652a6767eed375ee12f": {
          "model_module": "jupyter-leaflet",
          "model_name": "LeafletScaleControlModel",
          "model_module_version": "^0.17",
          "state": {
            "_model_module": "jupyter-leaflet",
            "_model_module_version": "^0.17",
            "_model_name": "LeafletScaleControlModel",
            "_view_count": null,
            "_view_module": "jupyter-leaflet",
            "_view_module_version": "^0.17",
            "_view_name": "LeafletScaleControlView",
            "imperial": true,
            "max_width": 100,
            "metric": true,
            "options": [
              "imperial",
              "max_width",
              "metric",
              "position",
              "update_when_idle"
            ],
            "position": "bottomleft",
            "update_when_idle": false
          }
        },
        "aff04841ef134bdd826a92b542cf4c29": {
          "model_module": "jupyter-leaflet",
          "model_name": "LeafletFullScreenControlModel",
          "model_module_version": "^0.17",
          "state": {
            "_model_module": "jupyter-leaflet",
            "_model_module_version": "^0.17",
            "_model_name": "LeafletFullScreenControlModel",
            "_view_count": null,
            "_view_module": "jupyter-leaflet",
            "_view_module_version": "^0.17",
            "_view_name": "LeafletFullScreenControlView",
            "options": [
              "position"
            ],
            "position": "topleft"
          }
        },
        "b7048aaca0d94a2f9a6655a89ccc1f46": {
          "model_module": "jupyter-leaflet",
          "model_name": "LeafletMeasureControlModel",
          "model_module_version": "^0.17",
          "state": {
            "_custom_units": {},
            "_model_module": "jupyter-leaflet",
            "_model_module_version": "^0.17",
            "_model_name": "LeafletMeasureControlModel",
            "_view_count": null,
            "_view_module": "jupyter-leaflet",
            "_view_module_version": "^0.17",
            "_view_name": "LeafletMeasureControlView",
            "active_color": "orange",
            "capture_z_index": 10000,
            "completed_color": "#C8F2BE",
            "options": [
              "active_color",
              "capture_z_index",
              "completed_color",
              "popup_options",
              "position",
              "primary_area_unit",
              "primary_length_unit",
              "secondary_area_unit",
              "secondary_length_unit"
            ],
            "popup_options": {
              "className": "leaflet-measure-resultpopup",
              "autoPanPadding": [
                10,
                10
              ]
            },
            "position": "bottomleft",
            "primary_area_unit": "acres",
            "primary_length_unit": "kilometers",
            "secondary_area_unit": null,
            "secondary_length_unit": null
          }
        },
        "9ea44058e6134d20b4ad2026c36573c4": {
          "model_module": "jupyter-leaflet",
          "model_name": "LeafletAttributionControlModel",
          "model_module_version": "^0.17",
          "state": {
            "_model_module": "jupyter-leaflet",
            "_model_module_version": "^0.17",
            "_model_name": "LeafletAttributionControlModel",
            "_view_count": null,
            "_view_module": "jupyter-leaflet",
            "_view_module_version": "^0.17",
            "_view_name": "LeafletAttributionControlView",
            "options": [
              "position",
              "prefix"
            ],
            "position": "bottomright",
            "prefix": "ipyleaflet"
          }
        },
        "a694eb25dc5a447d9ba0a31f9d586f7a": {
          "model_module": "jupyter-leaflet",
          "model_name": "LeafletDrawControlModel",
          "model_module_version": "^0.17",
          "state": {
            "_model_module": "jupyter-leaflet",
            "_model_module_version": "^0.17",
            "_model_name": "LeafletDrawControlModel",
            "_view_count": null,
            "_view_module": "jupyter-leaflet",
            "_view_module_version": "^0.17",
            "_view_name": "LeafletDrawControlView",
            "circle": {
              "shapeOptions": {
                "color": "#3388ff"
              }
            },
            "circlemarker": {},
            "data": [],
            "edit": true,
            "marker": {
              "shapeOptions": {
                "color": "#3388ff"
              }
            },
            "options": [
              "position"
            ],
            "polygon": {
              "shapeOptions": {}
            },
            "polyline": {
              "shapeOptions": {}
            },
            "position": "topleft",
            "rectangle": {
              "shapeOptions": {
                "color": "#3388ff"
              }
            },
            "remove": true
          }
        },
        "e6ffd04e71fe423395046e4c14ca0e1b": {
          "model_module": "jupyter-leaflet",
          "model_name": "LeafletWidgetControlModel",
          "model_module_version": "^0.17",
          "state": {
            "_model_module": "jupyter-leaflet",
            "_model_module_version": "^0.17",
            "_model_name": "LeafletWidgetControlModel",
            "_view_count": null,
            "_view_module": "jupyter-leaflet",
            "_view_module_version": "^0.17",
            "_view_name": "LeafletWidgetControlView",
            "max_height": null,
            "max_width": null,
            "min_height": null,
            "min_width": null,
            "options": [
              "position",
              "transparent_bg"
            ],
            "position": "topright",
            "transparent_bg": false,
            "widget": "IPY_MODEL_7f81dc69d57f4b8f82d50bd00edc5651"
          }
        },
        "063ba5945d7f453ba825d11588406fe4": {
          "model_module": "jupyter-leaflet",
          "model_name": "LeafletMapStyleModel",
          "model_module_version": "^0.17",
          "state": {
            "_model_module": "jupyter-leaflet",
            "_model_module_version": "^0.17",
            "_model_name": "LeafletMapStyleModel",
            "_view_count": null,
            "_view_module": "@jupyter-widgets/base",
            "_view_module_version": "1.2.0",
            "_view_name": "StyleView",
            "cursor": "grab"
          }
        },
        "267990c33c2d49a7943f5edf58600eea": {
          "model_module": "jupyter-leaflet",
          "model_name": "LeafletMapStyleModel",
          "model_module_version": "^0.17",
          "state": {
            "_model_module": "jupyter-leaflet",
            "_model_module_version": "^0.17",
            "_model_name": "LeafletMapStyleModel",
            "_view_count": null,
            "_view_module": "@jupyter-widgets/base",
            "_view_module_version": "1.2.0",
            "_view_name": "StyleView",
            "cursor": "move"
          }
        },
        "d12e022c2def477d83de964e22b97394": {
          "model_module": "jupyter-leaflet",
          "model_name": "LeafletTileLayerModel",
          "model_module_version": "^0.17",
          "state": {
            "_model_module": "jupyter-leaflet",
            "_model_module_version": "^0.17",
            "_model_name": "LeafletTileLayerModel",
            "_view_count": null,
            "_view_module": "jupyter-leaflet",
            "_view_module_version": "^0.17",
            "_view_name": "LeafletTileLayerView",
            "attribution": "&copy; <a href=\"https://www.openstreetmap.org/copyright\">OpenStreetMap</a> contributors",
            "base": true,
            "bottom": true,
            "bounds": null,
            "detect_retina": false,
            "loading": false,
            "max_native_zoom": null,
            "max_zoom": 19,
            "min_native_zoom": null,
            "min_zoom": 1,
            "name": "OpenStreetMap.Mapnik",
            "no_wrap": false,
            "opacity": 1,
            "options": [
              "attribution",
              "bounds",
              "detect_retina",
              "max_native_zoom",
              "max_zoom",
              "min_native_zoom",
              "min_zoom",
              "no_wrap",
              "tile_size",
              "tms",
              "zoom_offset"
            ],
            "pane": "",
            "popup": null,
            "popup_max_height": null,
            "popup_max_width": 300,
            "popup_min_width": 50,
            "show_loading": false,
            "subitems": [],
            "tile_size": 256,
            "tms": false,
            "url": "https://tile.openstreetmap.org/{z}/{x}/{y}.png",
            "visible": true,
            "zoom_offset": 0
          }
        },
        "7d2da0ce727a478dabbb4d1ae3e3cd2b": {
          "model_module": "jupyter-leaflet",
          "model_name": "LeafletTileLayerModel",
          "model_module_version": "^0.17",
          "state": {
            "_model_module": "jupyter-leaflet",
            "_model_module_version": "^0.17",
            "_model_name": "LeafletTileLayerModel",
            "_view_count": null,
            "_view_module": "jupyter-leaflet",
            "_view_module_version": "^0.17",
            "_view_name": "LeafletTileLayerView",
            "attribution": "Google",
            "base": false,
            "bottom": true,
            "bounds": null,
            "detect_retina": false,
            "loading": false,
            "max_native_zoom": null,
            "max_zoom": 22,
            "min_native_zoom": null,
            "min_zoom": 0,
            "name": "Google Maps",
            "no_wrap": false,
            "opacity": 1,
            "options": [
              "attribution",
              "bounds",
              "detect_retina",
              "max_native_zoom",
              "max_zoom",
              "min_native_zoom",
              "min_zoom",
              "no_wrap",
              "tile_size",
              "tms",
              "zoom_offset"
            ],
            "pane": "",
            "popup": null,
            "popup_max_height": null,
            "popup_max_width": 300,
            "popup_min_width": 50,
            "show_loading": false,
            "subitems": [],
            "tile_size": 256,
            "tms": false,
            "url": "https://mt1.google.com/vt/lyrs=m&x={x}&y={y}&z={z}",
            "visible": true,
            "zoom_offset": 0
          }
        },
        "b3eb7290c725458c93644dde8f9634fc": {
          "model_module": "jupyter-leaflet",
          "model_name": "LeafletTileLayerModel",
          "model_module_version": "^0.17",
          "state": {
            "_model_module": "jupyter-leaflet",
            "_model_module_version": "^0.17",
            "_model_name": "LeafletTileLayerModel",
            "_view_count": null,
            "_view_module": "jupyter-leaflet",
            "_view_module_version": "^0.17",
            "_view_name": "LeafletTileLayerView",
            "attribution": "Google Earth Engine",
            "base": false,
            "bottom": true,
            "bounds": null,
            "detect_retina": false,
            "loading": false,
            "max_native_zoom": null,
            "max_zoom": 24,
            "min_native_zoom": null,
            "min_zoom": 0,
            "name": "Polígono",
            "no_wrap": false,
            "opacity": 1,
            "options": [
              "attribution",
              "bounds",
              "detect_retina",
              "max_native_zoom",
              "max_zoom",
              "min_native_zoom",
              "min_zoom",
              "no_wrap",
              "tile_size",
              "tms",
              "zoom_offset"
            ],
            "pane": "",
            "popup": null,
            "popup_max_height": null,
            "popup_max_width": 300,
            "popup_min_width": 50,
            "show_loading": false,
            "subitems": [],
            "tile_size": 256,
            "tms": false,
            "url": "https://earthengine.googleapis.com/v1alpha/projects/earthengine-legacy/maps/dcd7245d72e26cdc868282ce1dacabc3-2d1db8fa8a739e7db37fe917a17e9265/tiles/{z}/{x}/{y}",
            "visible": true,
            "zoom_offset": 0
          }
        },
        "b20100d5f34944e3bdffbdfa53ed36b5": {
          "model_module": "@jupyter-widgets/base",
          "model_name": "LayoutModel",
          "model_module_version": "1.2.0",
          "state": {
            "_model_module": "@jupyter-widgets/base",
            "_model_module_version": "1.2.0",
            "_model_name": "LayoutModel",
            "_view_count": null,
            "_view_module": "@jupyter-widgets/base",
            "_view_module_version": "1.2.0",
            "_view_name": "LayoutView",
            "align_content": null,
            "align_items": null,
            "align_self": null,
            "border": null,
            "bottom": null,
            "display": null,
            "flex": null,
            "flex_flow": null,
            "grid_area": null,
            "grid_auto_columns": null,
            "grid_auto_flow": null,
            "grid_auto_rows": null,
            "grid_column": null,
            "grid_gap": null,
            "grid_row": null,
            "grid_template_areas": null,
            "grid_template_columns": null,
            "grid_template_rows": null,
            "height": "600px",
            "justify_content": null,
            "justify_items": null,
            "left": null,
            "margin": null,
            "max_height": null,
            "max_width": null,
            "min_height": null,
            "min_width": null,
            "object_fit": null,
            "object_position": null,
            "order": null,
            "overflow": null,
            "overflow_x": null,
            "overflow_y": null,
            "padding": null,
            "right": null,
            "top": null,
            "visibility": null,
            "width": null
          }
        },
        "c57ddecfb4f0408093b035c5940453b7": {
          "model_module": "jupyter-leaflet",
          "model_name": "LeafletMapStyleModel",
          "model_module_version": "^0.17",
          "state": {
            "_model_module": "jupyter-leaflet",
            "_model_module_version": "^0.17",
            "_model_name": "LeafletMapStyleModel",
            "_view_count": null,
            "_view_module": "@jupyter-widgets/base",
            "_view_module_version": "1.2.0",
            "_view_name": "StyleView",
            "cursor": "grab"
          }
        },
        "3fc14cfaff5a4773be388c53a0bb548d": {
          "model_module": "@jupyter-widgets/controls",
          "model_name": "HBoxModel",
          "model_module_version": "1.5.0",
          "state": {
            "_dom_classes": [],
            "_model_module": "@jupyter-widgets/controls",
            "_model_module_version": "1.5.0",
            "_model_name": "HBoxModel",
            "_view_count": null,
            "_view_module": "@jupyter-widgets/controls",
            "_view_module_version": "1.5.0",
            "_view_name": "HBoxView",
            "box_style": "",
            "children": [
              "IPY_MODEL_fc4011ba8092436c954c5ceb4ef2820f"
            ],
            "layout": "IPY_MODEL_d2a5927c8d514e2a8f201e9b7828f4d4"
          }
        },
        "7f81dc69d57f4b8f82d50bd00edc5651": {
          "model_module": "@jupyter-widgets/controls",
          "model_name": "VBoxModel",
          "model_module_version": "1.5.0",
          "state": {
            "_dom_classes": [],
            "_model_module": "@jupyter-widgets/controls",
            "_model_module_version": "1.5.0",
            "_model_name": "VBoxModel",
            "_view_count": null,
            "_view_module": "@jupyter-widgets/controls",
            "_view_module_version": "1.5.0",
            "_view_name": "VBoxView",
            "box_style": "",
            "children": [
              "IPY_MODEL_5e77dddbab524a02ae4dfef8e93c400b"
            ],
            "layout": "IPY_MODEL_d9c989fb28d84504982ac10ff5ceddce"
          }
        },
        "fc4011ba8092436c954c5ceb4ef2820f": {
          "model_module": "@jupyter-widgets/controls",
          "model_name": "ToggleButtonModel",
          "model_module_version": "1.5.0",
          "state": {
            "_dom_classes": [],
            "_model_module": "@jupyter-widgets/controls",
            "_model_module_version": "1.5.0",
            "_model_name": "ToggleButtonModel",
            "_view_count": null,
            "_view_module": "@jupyter-widgets/controls",
            "_view_module_version": "1.5.0",
            "_view_name": "ToggleButtonView",
            "button_style": "",
            "description": "",
            "description_tooltip": null,
            "disabled": false,
            "icon": "globe",
            "layout": "IPY_MODEL_9ad11c9ca37540bbbe479d675d7efd70",
            "style": "IPY_MODEL_ba03defa48284beba2a413b2760b501d",
            "tooltip": "Search location/data",
            "value": false
          }
        },
        "d2a5927c8d514e2a8f201e9b7828f4d4": {
          "model_module": "@jupyter-widgets/base",
          "model_name": "LayoutModel",
          "model_module_version": "1.2.0",
          "state": {
            "_model_module": "@jupyter-widgets/base",
            "_model_module_version": "1.2.0",
            "_model_name": "LayoutModel",
            "_view_count": null,
            "_view_module": "@jupyter-widgets/base",
            "_view_module_version": "1.2.0",
            "_view_name": "LayoutView",
            "align_content": null,
            "align_items": null,
            "align_self": null,
            "border": null,
            "bottom": null,
            "display": null,
            "flex": null,
            "flex_flow": null,
            "grid_area": null,
            "grid_auto_columns": null,
            "grid_auto_flow": null,
            "grid_auto_rows": null,
            "grid_column": null,
            "grid_gap": null,
            "grid_row": null,
            "grid_template_areas": null,
            "grid_template_columns": null,
            "grid_template_rows": null,
            "height": null,
            "justify_content": null,
            "justify_items": null,
            "left": null,
            "margin": null,
            "max_height": null,
            "max_width": null,
            "min_height": null,
            "min_width": null,
            "object_fit": null,
            "object_position": null,
            "order": null,
            "overflow": null,
            "overflow_x": null,
            "overflow_y": null,
            "padding": null,
            "right": null,
            "top": null,
            "visibility": null,
            "width": null
          }
        },
        "5e77dddbab524a02ae4dfef8e93c400b": {
          "model_module": "@jupyter-widgets/controls",
          "model_name": "ToggleButtonModel",
          "model_module_version": "1.5.0",
          "state": {
            "_dom_classes": [],
            "_model_module": "@jupyter-widgets/controls",
            "_model_module_version": "1.5.0",
            "_model_name": "ToggleButtonModel",
            "_view_count": null,
            "_view_module": "@jupyter-widgets/controls",
            "_view_module_version": "1.5.0",
            "_view_name": "ToggleButtonView",
            "button_style": "",
            "description": "",
            "description_tooltip": null,
            "disabled": false,
            "icon": "wrench",
            "layout": "IPY_MODEL_d6963f0f0b2f484c8feb1ab4e74ce24f",
            "style": "IPY_MODEL_ee5621313fb742378b58f6bb8e982add",
            "tooltip": "Toolbar",
            "value": false
          }
        },
        "d9c989fb28d84504982ac10ff5ceddce": {
          "model_module": "@jupyter-widgets/base",
          "model_name": "LayoutModel",
          "model_module_version": "1.2.0",
          "state": {
            "_model_module": "@jupyter-widgets/base",
            "_model_module_version": "1.2.0",
            "_model_name": "LayoutModel",
            "_view_count": null,
            "_view_module": "@jupyter-widgets/base",
            "_view_module_version": "1.2.0",
            "_view_name": "LayoutView",
            "align_content": null,
            "align_items": null,
            "align_self": null,
            "border": null,
            "bottom": null,
            "display": null,
            "flex": null,
            "flex_flow": null,
            "grid_area": null,
            "grid_auto_columns": null,
            "grid_auto_flow": null,
            "grid_auto_rows": null,
            "grid_column": null,
            "grid_gap": null,
            "grid_row": null,
            "grid_template_areas": null,
            "grid_template_columns": null,
            "grid_template_rows": null,
            "height": null,
            "justify_content": null,
            "justify_items": null,
            "left": null,
            "margin": null,
            "max_height": null,
            "max_width": null,
            "min_height": null,
            "min_width": null,
            "object_fit": null,
            "object_position": null,
            "order": null,
            "overflow": null,
            "overflow_x": null,
            "overflow_y": null,
            "padding": null,
            "right": null,
            "top": null,
            "visibility": null,
            "width": null
          }
        },
        "9ad11c9ca37540bbbe479d675d7efd70": {
          "model_module": "@jupyter-widgets/base",
          "model_name": "LayoutModel",
          "model_module_version": "1.2.0",
          "state": {
            "_model_module": "@jupyter-widgets/base",
            "_model_module_version": "1.2.0",
            "_model_name": "LayoutModel",
            "_view_count": null,
            "_view_module": "@jupyter-widgets/base",
            "_view_module_version": "1.2.0",
            "_view_name": "LayoutView",
            "align_content": null,
            "align_items": null,
            "align_self": null,
            "border": null,
            "bottom": null,
            "display": null,
            "flex": null,
            "flex_flow": null,
            "grid_area": null,
            "grid_auto_columns": null,
            "grid_auto_flow": null,
            "grid_auto_rows": null,
            "grid_column": null,
            "grid_gap": null,
            "grid_row": null,
            "grid_template_areas": null,
            "grid_template_columns": null,
            "grid_template_rows": null,
            "height": "28px",
            "justify_content": null,
            "justify_items": null,
            "left": null,
            "margin": null,
            "max_height": null,
            "max_width": null,
            "min_height": null,
            "min_width": null,
            "object_fit": null,
            "object_position": null,
            "order": null,
            "overflow": null,
            "overflow_x": null,
            "overflow_y": null,
            "padding": "0px 0px 0px 4px",
            "right": null,
            "top": null,
            "visibility": null,
            "width": "28px"
          }
        },
        "ba03defa48284beba2a413b2760b501d": {
          "model_module": "@jupyter-widgets/controls",
          "model_name": "DescriptionStyleModel",
          "model_module_version": "1.5.0",
          "state": {
            "_model_module": "@jupyter-widgets/controls",
            "_model_module_version": "1.5.0",
            "_model_name": "DescriptionStyleModel",
            "_view_count": null,
            "_view_module": "@jupyter-widgets/base",
            "_view_module_version": "1.2.0",
            "_view_name": "StyleView",
            "description_width": ""
          }
        },
        "d6963f0f0b2f484c8feb1ab4e74ce24f": {
          "model_module": "@jupyter-widgets/base",
          "model_name": "LayoutModel",
          "model_module_version": "1.2.0",
          "state": {
            "_model_module": "@jupyter-widgets/base",
            "_model_module_version": "1.2.0",
            "_model_name": "LayoutModel",
            "_view_count": null,
            "_view_module": "@jupyter-widgets/base",
            "_view_module_version": "1.2.0",
            "_view_name": "LayoutView",
            "align_content": null,
            "align_items": null,
            "align_self": null,
            "border": null,
            "bottom": null,
            "display": null,
            "flex": null,
            "flex_flow": null,
            "grid_area": null,
            "grid_auto_columns": null,
            "grid_auto_flow": null,
            "grid_auto_rows": null,
            "grid_column": null,
            "grid_gap": null,
            "grid_row": null,
            "grid_template_areas": null,
            "grid_template_columns": null,
            "grid_template_rows": null,
            "height": "28px",
            "justify_content": null,
            "justify_items": null,
            "left": null,
            "margin": null,
            "max_height": null,
            "max_width": null,
            "min_height": null,
            "min_width": null,
            "object_fit": null,
            "object_position": null,
            "order": null,
            "overflow": null,
            "overflow_x": null,
            "overflow_y": null,
            "padding": "0px 0px 0px 4px",
            "right": null,
            "top": null,
            "visibility": null,
            "width": "28px"
          }
        },
        "ee5621313fb742378b58f6bb8e982add": {
          "model_module": "@jupyter-widgets/controls",
          "model_name": "DescriptionStyleModel",
          "model_module_version": "1.5.0",
          "state": {
            "_model_module": "@jupyter-widgets/controls",
            "_model_module_version": "1.5.0",
            "_model_name": "DescriptionStyleModel",
            "_view_count": null,
            "_view_module": "@jupyter-widgets/base",
            "_view_module_version": "1.2.0",
            "_view_name": "StyleView",
            "description_width": ""
          }
        },
        "efb3083da9054f78abb98dc9d1804fac": {
          "model_module": "jupyter-leaflet",
          "model_name": "LeafletMapModel",
          "model_module_version": "^0.17",
          "state": {
            "_dom_classes": [],
            "_model_module": "jupyter-leaflet",
            "_model_module_version": "^0.17",
            "_model_name": "LeafletMapModel",
            "_view_count": null,
            "_view_module": "jupyter-leaflet",
            "_view_module_version": "^0.17",
            "_view_name": "LeafletMapView",
            "bottom": 1380,
            "bounce_at_zoom_limits": true,
            "box_zoom": true,
            "center": [
              -9.84,
              -62.45
            ],
            "close_popup_on_click": true,
            "controls": [
              "IPY_MODEL_2f7d3809463046a991f855002126b775",
              "IPY_MODEL_3b6ca99ed2064e2ab95b2e5bf90117d7",
              "IPY_MODEL_0db6de039a0f419796b721c71ef177cc",
              "IPY_MODEL_68bdd35a0c4d41e0841521176af088d9",
              "IPY_MODEL_20ec5381a578448ead5dd787552b6d6c",
              "IPY_MODEL_c7bf7ad3ba064c16bf57b6db464eb715",
              "IPY_MODEL_a0f5e7f7e1ea4d0e98c829796fcf8358",
              "IPY_MODEL_35611ffeb9f340f39748f19b7e3c565c",
              "IPY_MODEL_f39a41498ca24d4480aba1965499ef9e"
            ],
            "crs": {
              "name": "EPSG3857",
              "custom": false
            },
            "default_style": "IPY_MODEL_db9da626df6e406185c437adbd881ce5",
            "double_click_zoom": true,
            "dragging": true,
            "dragging_style": "IPY_MODEL_4c39e9043d6f4aaeaabe95e93689f4e7",
            "east": 46.58203125000001,
            "fullscreen": false,
            "inertia": true,
            "inertia_deceleration": 3000,
            "inertia_max_speed": 1500,
            "interpolation": "bilinear",
            "keyboard": true,
            "keyboard_pan_offset": 80,
            "keyboard_zoom_offset": 1,
            "layers": [
              "IPY_MODEL_afcd27ab77674c29ba3d5e5220c1b0a8",
              "IPY_MODEL_7d2da0ce727a478dabbb4d1ae3e3cd2b",
              "IPY_MODEL_fd8c8afc09304b76a3352b974b88d523",
              "IPY_MODEL_866bcd8af3224238b217b8a8f4cca04d",
              "IPY_MODEL_295e468a772c44bfb731838d64e72571"
            ],
            "layout": "IPY_MODEL_9bc9572a6e5e4380958f340f1d6e7181",
            "left": 49,
            "max_zoom": 24,
            "min_zoom": null,
            "modisdate": "2022-10-19",
            "north": 39.36827914916014,
            "options": [
              "bounce_at_zoom_limits",
              "box_zoom",
              "center",
              "close_popup_on_click",
              "double_click_zoom",
              "dragging",
              "fullscreen",
              "inertia",
              "inertia_deceleration",
              "inertia_max_speed",
              "interpolation",
              "keyboard",
              "keyboard_pan_offset",
              "keyboard_zoom_offset",
              "max_zoom",
              "min_zoom",
              "prefer_canvas",
              "scroll_wheel_zoom",
              "tap",
              "tap_tolerance",
              "touch_zoom",
              "world_copy_jump",
              "zoom",
              "zoom_animation_threshold",
              "zoom_delta",
              "zoom_snap"
            ],
            "panes": {},
            "prefer_canvas": false,
            "right": 1289,
            "scroll_wheel_zoom": true,
            "south": -52.908902047770255,
            "style": "IPY_MODEL_08e42d4c6b5c405c8f8629bc1660383a",
            "tap": true,
            "tap_tolerance": 15,
            "top": 780,
            "touch_zoom": true,
            "west": -171.38671875,
            "window_url": "https://hk4jwhv9tw-496ff2e9c6d22116-0-colab.googleusercontent.com/outputframe.html?vrz=colab-20221019-060049-RC01_482247909",
            "world_copy_jump": false,
            "zoom": 3,
            "zoom_animation_threshold": 4,
            "zoom_delta": 1,
            "zoom_snap": 1
          }
        },
        "2f7d3809463046a991f855002126b775": {
          "model_module": "jupyter-leaflet",
          "model_name": "LeafletWidgetControlModel",
          "model_module_version": "^0.17",
          "state": {
            "_model_module": "jupyter-leaflet",
            "_model_module_version": "^0.17",
            "_model_name": "LeafletWidgetControlModel",
            "_view_count": null,
            "_view_module": "jupyter-leaflet",
            "_view_module_version": "^0.17",
            "_view_name": "LeafletWidgetControlView",
            "max_height": null,
            "max_width": null,
            "min_height": null,
            "min_width": null,
            "options": [
              "position",
              "transparent_bg"
            ],
            "position": "topleft",
            "transparent_bg": false,
            "widget": "IPY_MODEL_faadf5c28c194de6b5665b9a844cc6d1"
          }
        },
        "3b6ca99ed2064e2ab95b2e5bf90117d7": {
          "model_module": "jupyter-leaflet",
          "model_name": "LeafletZoomControlModel",
          "model_module_version": "^0.17",
          "state": {
            "_model_module": "jupyter-leaflet",
            "_model_module_version": "^0.17",
            "_model_name": "LeafletZoomControlModel",
            "_view_count": null,
            "_view_module": "jupyter-leaflet",
            "_view_module_version": "^0.17",
            "_view_name": "LeafletZoomControlView",
            "options": [
              "position",
              "zoom_in_text",
              "zoom_in_title",
              "zoom_out_text",
              "zoom_out_title"
            ],
            "position": "topleft",
            "zoom_in_text": "+",
            "zoom_in_title": "Zoom in",
            "zoom_out_text": "-",
            "zoom_out_title": "Zoom out"
          }
        },
        "0db6de039a0f419796b721c71ef177cc": {
          "model_module": "jupyter-leaflet",
          "model_name": "LeafletScaleControlModel",
          "model_module_version": "^0.17",
          "state": {
            "_model_module": "jupyter-leaflet",
            "_model_module_version": "^0.17",
            "_model_name": "LeafletScaleControlModel",
            "_view_count": null,
            "_view_module": "jupyter-leaflet",
            "_view_module_version": "^0.17",
            "_view_name": "LeafletScaleControlView",
            "imperial": true,
            "max_width": 100,
            "metric": true,
            "options": [
              "imperial",
              "max_width",
              "metric",
              "position",
              "update_when_idle"
            ],
            "position": "bottomleft",
            "update_when_idle": false
          }
        },
        "68bdd35a0c4d41e0841521176af088d9": {
          "model_module": "jupyter-leaflet",
          "model_name": "LeafletFullScreenControlModel",
          "model_module_version": "^0.17",
          "state": {
            "_model_module": "jupyter-leaflet",
            "_model_module_version": "^0.17",
            "_model_name": "LeafletFullScreenControlModel",
            "_view_count": null,
            "_view_module": "jupyter-leaflet",
            "_view_module_version": "^0.17",
            "_view_name": "LeafletFullScreenControlView",
            "options": [
              "position"
            ],
            "position": "topleft"
          }
        },
        "20ec5381a578448ead5dd787552b6d6c": {
          "model_module": "jupyter-leaflet",
          "model_name": "LeafletMeasureControlModel",
          "model_module_version": "^0.17",
          "state": {
            "_custom_units": {},
            "_model_module": "jupyter-leaflet",
            "_model_module_version": "^0.17",
            "_model_name": "LeafletMeasureControlModel",
            "_view_count": null,
            "_view_module": "jupyter-leaflet",
            "_view_module_version": "^0.17",
            "_view_name": "LeafletMeasureControlView",
            "active_color": "orange",
            "capture_z_index": 10000,
            "completed_color": "#C8F2BE",
            "options": [
              "active_color",
              "capture_z_index",
              "completed_color",
              "popup_options",
              "position",
              "primary_area_unit",
              "primary_length_unit",
              "secondary_area_unit",
              "secondary_length_unit"
            ],
            "popup_options": {
              "className": "leaflet-measure-resultpopup",
              "autoPanPadding": [
                10,
                10
              ]
            },
            "position": "bottomleft",
            "primary_area_unit": "acres",
            "primary_length_unit": "kilometers",
            "secondary_area_unit": null,
            "secondary_length_unit": null
          }
        },
        "c7bf7ad3ba064c16bf57b6db464eb715": {
          "model_module": "jupyter-leaflet",
          "model_name": "LeafletAttributionControlModel",
          "model_module_version": "^0.17",
          "state": {
            "_model_module": "jupyter-leaflet",
            "_model_module_version": "^0.17",
            "_model_name": "LeafletAttributionControlModel",
            "_view_count": null,
            "_view_module": "jupyter-leaflet",
            "_view_module_version": "^0.17",
            "_view_name": "LeafletAttributionControlView",
            "options": [
              "position",
              "prefix"
            ],
            "position": "bottomright",
            "prefix": "ipyleaflet"
          }
        },
        "a0f5e7f7e1ea4d0e98c829796fcf8358": {
          "model_module": "jupyter-leaflet",
          "model_name": "LeafletDrawControlModel",
          "model_module_version": "^0.17",
          "state": {
            "_model_module": "jupyter-leaflet",
            "_model_module_version": "^0.17",
            "_model_name": "LeafletDrawControlModel",
            "_view_count": null,
            "_view_module": "jupyter-leaflet",
            "_view_module_version": "^0.17",
            "_view_name": "LeafletDrawControlView",
            "circle": {
              "shapeOptions": {
                "color": "#3388ff"
              }
            },
            "circlemarker": {},
            "data": [],
            "edit": true,
            "marker": {
              "shapeOptions": {
                "color": "#3388ff"
              }
            },
            "options": [
              "position"
            ],
            "polygon": {
              "shapeOptions": {}
            },
            "polyline": {
              "shapeOptions": {}
            },
            "position": "topleft",
            "rectangle": {
              "shapeOptions": {
                "color": "#3388ff"
              }
            },
            "remove": true
          }
        },
        "35611ffeb9f340f39748f19b7e3c565c": {
          "model_module": "jupyter-leaflet",
          "model_name": "LeafletWidgetControlModel",
          "model_module_version": "^0.17",
          "state": {
            "_model_module": "jupyter-leaflet",
            "_model_module_version": "^0.17",
            "_model_name": "LeafletWidgetControlModel",
            "_view_count": null,
            "_view_module": "jupyter-leaflet",
            "_view_module_version": "^0.17",
            "_view_name": "LeafletWidgetControlView",
            "max_height": null,
            "max_width": null,
            "min_height": null,
            "min_width": null,
            "options": [
              "position",
              "transparent_bg"
            ],
            "position": "topright",
            "transparent_bg": false,
            "widget": "IPY_MODEL_5d4fd5938e864cbdab88f6bfa1010358"
          }
        },
        "f39a41498ca24d4480aba1965499ef9e": {
          "model_module": "jupyter-leaflet",
          "model_name": "LeafletLayersControlModel",
          "model_module_version": "^0.17",
          "state": {
            "_model_module": "jupyter-leaflet",
            "_model_module_version": "^0.17",
            "_model_name": "LeafletLayersControlModel",
            "_view_count": null,
            "_view_module": "jupyter-leaflet",
            "_view_module_version": "^0.17",
            "_view_name": "LeafletLayersControlView",
            "options": [
              "position"
            ],
            "position": "topright"
          }
        },
        "db9da626df6e406185c437adbd881ce5": {
          "model_module": "jupyter-leaflet",
          "model_name": "LeafletMapStyleModel",
          "model_module_version": "^0.17",
          "state": {
            "_model_module": "jupyter-leaflet",
            "_model_module_version": "^0.17",
            "_model_name": "LeafletMapStyleModel",
            "_view_count": null,
            "_view_module": "@jupyter-widgets/base",
            "_view_module_version": "1.2.0",
            "_view_name": "StyleView",
            "cursor": "grab"
          }
        },
        "4c39e9043d6f4aaeaabe95e93689f4e7": {
          "model_module": "jupyter-leaflet",
          "model_name": "LeafletMapStyleModel",
          "model_module_version": "^0.17",
          "state": {
            "_model_module": "jupyter-leaflet",
            "_model_module_version": "^0.17",
            "_model_name": "LeafletMapStyleModel",
            "_view_count": null,
            "_view_module": "@jupyter-widgets/base",
            "_view_module_version": "1.2.0",
            "_view_name": "StyleView",
            "cursor": "move"
          }
        },
        "afcd27ab77674c29ba3d5e5220c1b0a8": {
          "model_module": "jupyter-leaflet",
          "model_name": "LeafletTileLayerModel",
          "model_module_version": "^0.17",
          "state": {
            "_model_module": "jupyter-leaflet",
            "_model_module_version": "^0.17",
            "_model_name": "LeafletTileLayerModel",
            "_view_count": null,
            "_view_module": "jupyter-leaflet",
            "_view_module_version": "^0.17",
            "_view_name": "LeafletTileLayerView",
            "attribution": "&copy; <a href=\"https://www.openstreetmap.org/copyright\">OpenStreetMap</a> contributors",
            "base": true,
            "bottom": true,
            "bounds": null,
            "detect_retina": false,
            "loading": false,
            "max_native_zoom": null,
            "max_zoom": 19,
            "min_native_zoom": null,
            "min_zoom": 1,
            "name": "OpenStreetMap.Mapnik",
            "no_wrap": false,
            "opacity": 1,
            "options": [
              "attribution",
              "bounds",
              "detect_retina",
              "max_native_zoom",
              "max_zoom",
              "min_native_zoom",
              "min_zoom",
              "no_wrap",
              "tile_size",
              "tms",
              "zoom_offset"
            ],
            "pane": "",
            "popup": null,
            "popup_max_height": null,
            "popup_max_width": 300,
            "popup_min_width": 50,
            "show_loading": false,
            "subitems": [],
            "tile_size": 256,
            "tms": false,
            "url": "https://tile.openstreetmap.org/{z}/{x}/{y}.png",
            "visible": true,
            "zoom_offset": 0
          }
        },
        "fd8c8afc09304b76a3352b974b88d523": {
          "model_module": "jupyter-leaflet",
          "model_name": "LeafletTileLayerModel",
          "model_module_version": "^0.17",
          "state": {
            "_model_module": "jupyter-leaflet",
            "_model_module_version": "^0.17",
            "_model_name": "LeafletTileLayerModel",
            "_view_count": null,
            "_view_module": "jupyter-leaflet",
            "_view_module_version": "^0.17",
            "_view_name": "LeafletTileLayerView",
            "attribution": "Google Earth Engine",
            "base": false,
            "bottom": true,
            "bounds": null,
            "detect_retina": false,
            "loading": false,
            "max_native_zoom": null,
            "max_zoom": 24,
            "min_native_zoom": null,
            "min_zoom": 0,
            "name": "Cuencas",
            "no_wrap": false,
            "opacity": 1,
            "options": [
              "attribution",
              "bounds",
              "detect_retina",
              "max_native_zoom",
              "max_zoom",
              "min_native_zoom",
              "min_zoom",
              "no_wrap",
              "tile_size",
              "tms",
              "zoom_offset"
            ],
            "pane": "",
            "popup": null,
            "popup_max_height": null,
            "popup_max_width": 300,
            "popup_min_width": 50,
            "show_loading": false,
            "subitems": [],
            "tile_size": 256,
            "tms": false,
            "url": "https://earthengine.googleapis.com/v1alpha/projects/earthengine-legacy/maps/04832f269fe5fd5a67bff2b3b76a490e-198836eb1789a461917f11403809b605/tiles/{z}/{x}/{y}",
            "visible": true,
            "zoom_offset": 0
          }
        },
        "866bcd8af3224238b217b8a8f4cca04d": {
          "model_module": "jupyter-leaflet",
          "model_name": "LeafletTileLayerModel",
          "model_module_version": "^0.17",
          "state": {
            "_model_module": "jupyter-leaflet",
            "_model_module_version": "^0.17",
            "_model_name": "LeafletTileLayerModel",
            "_view_count": null,
            "_view_module": "jupyter-leaflet",
            "_view_module_version": "^0.17",
            "_view_name": "LeafletTileLayerView",
            "attribution": "Google Earth Engine",
            "base": false,
            "bottom": true,
            "bounds": null,
            "detect_retina": false,
            "loading": false,
            "max_native_zoom": null,
            "max_zoom": 24,
            "min_native_zoom": null,
            "min_zoom": 0,
            "name": "Sur América ",
            "no_wrap": false,
            "opacity": 1,
            "options": [
              "attribution",
              "bounds",
              "detect_retina",
              "max_native_zoom",
              "max_zoom",
              "min_native_zoom",
              "min_zoom",
              "no_wrap",
              "tile_size",
              "tms",
              "zoom_offset"
            ],
            "pane": "",
            "popup": null,
            "popup_max_height": null,
            "popup_max_width": 300,
            "popup_min_width": 50,
            "show_loading": false,
            "subitems": [],
            "tile_size": 256,
            "tms": false,
            "url": "https://earthengine.googleapis.com/v1alpha/projects/earthengine-legacy/maps/afb888114015b1746e53b542545af140-c7805ec25e36ec39a33a4245d120afc9/tiles/{z}/{x}/{y}",
            "visible": true,
            "zoom_offset": 0
          }
        },
        "295e468a772c44bfb731838d64e72571": {
          "model_module": "jupyter-leaflet",
          "model_name": "LeafletLayerGroupModel",
          "model_module_version": "^0.17",
          "state": {
            "_model_module": "jupyter-leaflet",
            "_model_module_version": "^0.17",
            "_model_name": "LeafletLayerGroupModel",
            "_view_count": null,
            "_view_module": "jupyter-leaflet",
            "_view_module_version": "^0.17",
            "_view_name": "LeafletLayerGroupView",
            "base": false,
            "bottom": false,
            "layers": [
              "IPY_MODEL_8192f6e55a4e4d48a0fa790bf0618cc0",
              "IPY_MODEL_0026d2e494994f9eac46ee3e1eb32d48",
              "IPY_MODEL_b37a50ce04c54b208308db407060d3d5",
              "IPY_MODEL_4907978506894e8daebcd35b500ade3d",
              "IPY_MODEL_9acd2f11d2f545ac9682431b7dfc1282",
              "IPY_MODEL_d79baa7dc5d44803a6fb71d8a10cfdc7",
              "IPY_MODEL_834de8c553cd45d6849383389ef9624d"
            ],
            "name": "Labels",
            "options": [],
            "pane": "",
            "popup": null,
            "popup_max_height": null,
            "popup_max_width": 300,
            "popup_min_width": 50,
            "subitems": []
          }
        },
        "9bc9572a6e5e4380958f340f1d6e7181": {
          "model_module": "@jupyter-widgets/base",
          "model_name": "LayoutModel",
          "model_module_version": "1.2.0",
          "state": {
            "_model_module": "@jupyter-widgets/base",
            "_model_module_version": "1.2.0",
            "_model_name": "LayoutModel",
            "_view_count": null,
            "_view_module": "@jupyter-widgets/base",
            "_view_module_version": "1.2.0",
            "_view_name": "LayoutView",
            "align_content": null,
            "align_items": null,
            "align_self": null,
            "border": null,
            "bottom": null,
            "display": null,
            "flex": null,
            "flex_flow": null,
            "grid_area": null,
            "grid_auto_columns": null,
            "grid_auto_flow": null,
            "grid_auto_rows": null,
            "grid_column": null,
            "grid_gap": null,
            "grid_row": null,
            "grid_template_areas": null,
            "grid_template_columns": null,
            "grid_template_rows": null,
            "height": "600px",
            "justify_content": null,
            "justify_items": null,
            "left": null,
            "margin": null,
            "max_height": null,
            "max_width": null,
            "min_height": null,
            "min_width": null,
            "object_fit": null,
            "object_position": null,
            "order": null,
            "overflow": null,
            "overflow_x": null,
            "overflow_y": null,
            "padding": null,
            "right": null,
            "top": null,
            "visibility": null,
            "width": null
          }
        },
        "08e42d4c6b5c405c8f8629bc1660383a": {
          "model_module": "jupyter-leaflet",
          "model_name": "LeafletMapStyleModel",
          "model_module_version": "^0.17",
          "state": {
            "_model_module": "jupyter-leaflet",
            "_model_module_version": "^0.17",
            "_model_name": "LeafletMapStyleModel",
            "_view_count": null,
            "_view_module": "@jupyter-widgets/base",
            "_view_module_version": "1.2.0",
            "_view_name": "StyleView",
            "cursor": "grab"
          }
        },
        "faadf5c28c194de6b5665b9a844cc6d1": {
          "model_module": "@jupyter-widgets/controls",
          "model_name": "HBoxModel",
          "model_module_version": "1.5.0",
          "state": {
            "_dom_classes": [],
            "_model_module": "@jupyter-widgets/controls",
            "_model_module_version": "1.5.0",
            "_model_name": "HBoxModel",
            "_view_count": null,
            "_view_module": "@jupyter-widgets/controls",
            "_view_module_version": "1.5.0",
            "_view_name": "HBoxView",
            "box_style": "",
            "children": [
              "IPY_MODEL_3d0a5e7c528a4e2b9428237ddfd0e92d"
            ],
            "layout": "IPY_MODEL_e207e194c7c445c9a2ad4151a5724b56"
          }
        },
        "5d4fd5938e864cbdab88f6bfa1010358": {
          "model_module": "@jupyter-widgets/controls",
          "model_name": "VBoxModel",
          "model_module_version": "1.5.0",
          "state": {
            "_dom_classes": [],
            "_model_module": "@jupyter-widgets/controls",
            "_model_module_version": "1.5.0",
            "_model_name": "VBoxModel",
            "_view_count": null,
            "_view_module": "@jupyter-widgets/controls",
            "_view_module_version": "1.5.0",
            "_view_name": "VBoxView",
            "box_style": "",
            "children": [
              "IPY_MODEL_7ea295aa4b09400593d01d3d6e4aa2dd"
            ],
            "layout": "IPY_MODEL_285e892b185c49d5b1af2db06881b929"
          }
        },
        "8192f6e55a4e4d48a0fa790bf0618cc0": {
          "model_module": "jupyter-leaflet",
          "model_name": "LeafletMarkerModel",
          "model_module_version": "^0.17",
          "state": {
            "_model_module": "jupyter-leaflet",
            "_model_module_version": "^0.17",
            "_model_name": "LeafletMarkerModel",
            "_view_count": null,
            "_view_module": "jupyter-leaflet",
            "_view_module_version": "^0.17",
            "_view_name": "LeafletMarkerView",
            "alt": "",
            "base": false,
            "bottom": false,
            "draggable": true,
            "icon": "IPY_MODEL_14bcdd935a9d43f09869467892b1816f",
            "keyboard": true,
            "location": [
              6.0966152447252355,
              -66.00440316297683
            ],
            "name": "",
            "opacity": 1,
            "options": [
              "alt",
              "draggable",
              "keyboard",
              "rise_offset",
              "rise_on_hover",
              "rotation_angle",
              "rotation_origin",
              "title",
              "z_index_offset"
            ],
            "pane": "",
            "popup": null,
            "popup_max_height": null,
            "popup_max_width": 300,
            "popup_min_width": 50,
            "rise_offset": 250,
            "rise_on_hover": false,
            "rotation_angle": 0,
            "rotation_origin": "",
            "subitems": [],
            "title": "",
            "visible": true,
            "z_index_offset": 0
          }
        },
        "0026d2e494994f9eac46ee3e1eb32d48": {
          "model_module": "jupyter-leaflet",
          "model_name": "LeafletMarkerModel",
          "model_module_version": "^0.17",
          "state": {
            "_model_module": "jupyter-leaflet",
            "_model_module_version": "^0.17",
            "_model_name": "LeafletMarkerModel",
            "_view_count": null,
            "_view_module": "jupyter-leaflet",
            "_view_module_version": "^0.17",
            "_view_name": "LeafletMarkerView",
            "alt": "",
            "base": false,
            "bottom": false,
            "draggable": true,
            "icon": "IPY_MODEL_821aa17514c34b13958d7c7d810a286b",
            "keyboard": true,
            "location": [
              -7.0869979067499775,
              -62.41610980243941
            ],
            "name": "",
            "opacity": 1,
            "options": [
              "alt",
              "draggable",
              "keyboard",
              "rise_offset",
              "rise_on_hover",
              "rotation_angle",
              "rotation_origin",
              "title",
              "z_index_offset"
            ],
            "pane": "",
            "popup": null,
            "popup_max_height": null,
            "popup_max_width": 300,
            "popup_min_width": 50,
            "rise_offset": 250,
            "rise_on_hover": false,
            "rotation_angle": 0,
            "rotation_origin": "",
            "subitems": [],
            "title": "",
            "visible": true,
            "z_index_offset": 0
          }
        },
        "b37a50ce04c54b208308db407060d3d5": {
          "model_module": "jupyter-leaflet",
          "model_name": "LeafletMarkerModel",
          "model_module_version": "^0.17",
          "state": {
            "_model_module": "jupyter-leaflet",
            "_model_module_version": "^0.17",
            "_model_name": "LeafletMarkerModel",
            "_view_count": null,
            "_view_module": "jupyter-leaflet",
            "_view_module_version": "^0.17",
            "_view_name": "LeafletMarkerView",
            "alt": "",
            "base": false,
            "bottom": false,
            "draggable": true,
            "icon": "IPY_MODEL_fe78a9fbb9c4464aa9f8493d4cf463d3",
            "keyboard": true,
            "location": [
              -11.056749565248829,
              -42.19606546842588
            ],
            "name": "",
            "opacity": 1,
            "options": [
              "alt",
              "draggable",
              "keyboard",
              "rise_offset",
              "rise_on_hover",
              "rotation_angle",
              "rotation_origin",
              "title",
              "z_index_offset"
            ],
            "pane": "",
            "popup": null,
            "popup_max_height": null,
            "popup_max_width": 300,
            "popup_min_width": 50,
            "rise_offset": 250,
            "rise_on_hover": false,
            "rotation_angle": 0,
            "rotation_origin": "",
            "subitems": [],
            "title": "",
            "visible": true,
            "z_index_offset": 0
          }
        },
        "4907978506894e8daebcd35b500ade3d": {
          "model_module": "jupyter-leaflet",
          "model_name": "LeafletMarkerModel",
          "model_module_version": "^0.17",
          "state": {
            "_model_module": "jupyter-leaflet",
            "_model_module_version": "^0.17",
            "_model_name": "LeafletMarkerModel",
            "_view_count": null,
            "_view_module": "jupyter-leaflet",
            "_view_module_version": "^0.17",
            "_view_name": "LeafletMarkerView",
            "alt": "",
            "base": false,
            "bottom": false,
            "draggable": true,
            "icon": "IPY_MODEL_0b9fde7e2fbd421a8e25145c276cf251",
            "keyboard": true,
            "location": [
              -24.865056295317803,
              -56.86525507964681
            ],
            "name": "",
            "opacity": 1,
            "options": [
              "alt",
              "draggable",
              "keyboard",
              "rise_offset",
              "rise_on_hover",
              "rotation_angle",
              "rotation_origin",
              "title",
              "z_index_offset"
            ],
            "pane": "",
            "popup": null,
            "popup_max_height": null,
            "popup_max_width": 300,
            "popup_min_width": 50,
            "rise_offset": 250,
            "rise_on_hover": false,
            "rotation_angle": 0,
            "rotation_origin": "",
            "subitems": [],
            "title": "",
            "visible": true,
            "z_index_offset": 0
          }
        },
        "9acd2f11d2f545ac9682431b7dfc1282": {
          "model_module": "jupyter-leaflet",
          "model_name": "LeafletMarkerModel",
          "model_module_version": "^0.17",
          "state": {
            "_model_module": "jupyter-leaflet",
            "_model_module_version": "^0.17",
            "_model_name": "LeafletMarkerModel",
            "_view_count": null,
            "_view_module": "jupyter-leaflet",
            "_view_module_version": "^0.17",
            "_view_name": "LeafletMarkerView",
            "alt": "",
            "base": false,
            "bottom": false,
            "draggable": true,
            "icon": "IPY_MODEL_255773cc8e6b499ab810453fd82e9018",
            "keyboard": true,
            "location": [
              -39.657922073410134,
              -66.57806845680473
            ],
            "name": "",
            "opacity": 1,
            "options": [
              "alt",
              "draggable",
              "keyboard",
              "rise_offset",
              "rise_on_hover",
              "rotation_angle",
              "rotation_origin",
              "title",
              "z_index_offset"
            ],
            "pane": "",
            "popup": null,
            "popup_max_height": null,
            "popup_max_width": 300,
            "popup_min_width": 50,
            "rise_offset": 250,
            "rise_on_hover": false,
            "rotation_angle": 0,
            "rotation_origin": "",
            "subitems": [],
            "title": "",
            "visible": true,
            "z_index_offset": 0
          }
        },
        "d79baa7dc5d44803a6fb71d8a10cfdc7": {
          "model_module": "jupyter-leaflet",
          "model_name": "LeafletMarkerModel",
          "model_module_version": "^0.17",
          "state": {
            "_model_module": "jupyter-leaflet",
            "_model_module_version": "^0.17",
            "_model_name": "LeafletMarkerModel",
            "_view_count": null,
            "_view_module": "jupyter-leaflet",
            "_view_module_version": "^0.17",
            "_view_name": "LeafletMarkerView",
            "alt": "",
            "base": false,
            "bottom": false,
            "draggable": true,
            "icon": "IPY_MODEL_5e32add5395645f78ef3beee0f5e43d9",
            "keyboard": true,
            "location": [
              -33.047811654330246,
              -70.24813161890219
            ],
            "name": "",
            "opacity": 1,
            "options": [
              "alt",
              "draggable",
              "keyboard",
              "rise_offset",
              "rise_on_hover",
              "rotation_angle",
              "rotation_origin",
              "title",
              "z_index_offset"
            ],
            "pane": "",
            "popup": null,
            "popup_max_height": null,
            "popup_max_width": 300,
            "popup_min_width": 50,
            "rise_offset": 250,
            "rise_on_hover": false,
            "rotation_angle": 0,
            "rotation_origin": "",
            "subitems": [],
            "title": "",
            "visible": true,
            "z_index_offset": 0
          }
        },
        "834de8c553cd45d6849383389ef9624d": {
          "model_module": "jupyter-leaflet",
          "model_name": "LeafletMarkerModel",
          "model_module_version": "^0.17",
          "state": {
            "_model_module": "jupyter-leaflet",
            "_model_module_version": "^0.17",
            "_model_name": "LeafletMarkerModel",
            "_view_count": null,
            "_view_module": "jupyter-leaflet",
            "_view_module_version": "^0.17",
            "_view_name": "LeafletMarkerView",
            "alt": "",
            "base": false,
            "bottom": false,
            "draggable": true,
            "icon": "IPY_MODEL_42a8f7988fb14e028cd2f5309edb2982",
            "keyboard": true,
            "location": [
              -6.027267888435501,
              -77.26225635897475
            ],
            "name": "",
            "opacity": 1,
            "options": [
              "alt",
              "draggable",
              "keyboard",
              "rise_offset",
              "rise_on_hover",
              "rotation_angle",
              "rotation_origin",
              "title",
              "z_index_offset"
            ],
            "pane": "",
            "popup": null,
            "popup_max_height": null,
            "popup_max_width": 300,
            "popup_min_width": 50,
            "rise_offset": 250,
            "rise_on_hover": false,
            "rotation_angle": 0,
            "rotation_origin": "",
            "subitems": [],
            "title": "",
            "visible": true,
            "z_index_offset": 0
          }
        },
        "3d0a5e7c528a4e2b9428237ddfd0e92d": {
          "model_module": "@jupyter-widgets/controls",
          "model_name": "ToggleButtonModel",
          "model_module_version": "1.5.0",
          "state": {
            "_dom_classes": [],
            "_model_module": "@jupyter-widgets/controls",
            "_model_module_version": "1.5.0",
            "_model_name": "ToggleButtonModel",
            "_view_count": null,
            "_view_module": "@jupyter-widgets/controls",
            "_view_module_version": "1.5.0",
            "_view_name": "ToggleButtonView",
            "button_style": "",
            "description": "",
            "description_tooltip": null,
            "disabled": false,
            "icon": "globe",
            "layout": "IPY_MODEL_3c10f2900a624323a9d08972505c45c6",
            "style": "IPY_MODEL_e4b41e1aabf94c00abbae186089f3609",
            "tooltip": "Search location/data",
            "value": false
          }
        },
        "e207e194c7c445c9a2ad4151a5724b56": {
          "model_module": "@jupyter-widgets/base",
          "model_name": "LayoutModel",
          "model_module_version": "1.2.0",
          "state": {
            "_model_module": "@jupyter-widgets/base",
            "_model_module_version": "1.2.0",
            "_model_name": "LayoutModel",
            "_view_count": null,
            "_view_module": "@jupyter-widgets/base",
            "_view_module_version": "1.2.0",
            "_view_name": "LayoutView",
            "align_content": null,
            "align_items": null,
            "align_self": null,
            "border": null,
            "bottom": null,
            "display": null,
            "flex": null,
            "flex_flow": null,
            "grid_area": null,
            "grid_auto_columns": null,
            "grid_auto_flow": null,
            "grid_auto_rows": null,
            "grid_column": null,
            "grid_gap": null,
            "grid_row": null,
            "grid_template_areas": null,
            "grid_template_columns": null,
            "grid_template_rows": null,
            "height": null,
            "justify_content": null,
            "justify_items": null,
            "left": null,
            "margin": null,
            "max_height": null,
            "max_width": null,
            "min_height": null,
            "min_width": null,
            "object_fit": null,
            "object_position": null,
            "order": null,
            "overflow": null,
            "overflow_x": null,
            "overflow_y": null,
            "padding": null,
            "right": null,
            "top": null,
            "visibility": null,
            "width": null
          }
        },
        "7ea295aa4b09400593d01d3d6e4aa2dd": {
          "model_module": "@jupyter-widgets/controls",
          "model_name": "ToggleButtonModel",
          "model_module_version": "1.5.0",
          "state": {
            "_dom_classes": [],
            "_model_module": "@jupyter-widgets/controls",
            "_model_module_version": "1.5.0",
            "_model_name": "ToggleButtonModel",
            "_view_count": null,
            "_view_module": "@jupyter-widgets/controls",
            "_view_module_version": "1.5.0",
            "_view_name": "ToggleButtonView",
            "button_style": "",
            "description": "",
            "description_tooltip": null,
            "disabled": false,
            "icon": "wrench",
            "layout": "IPY_MODEL_db73699fa85c46aa85583442ab4afc6b",
            "style": "IPY_MODEL_dd5ea20fc3b6454886d88e1f6f3fa459",
            "tooltip": "Toolbar",
            "value": false
          }
        },
        "285e892b185c49d5b1af2db06881b929": {
          "model_module": "@jupyter-widgets/base",
          "model_name": "LayoutModel",
          "model_module_version": "1.2.0",
          "state": {
            "_model_module": "@jupyter-widgets/base",
            "_model_module_version": "1.2.0",
            "_model_name": "LayoutModel",
            "_view_count": null,
            "_view_module": "@jupyter-widgets/base",
            "_view_module_version": "1.2.0",
            "_view_name": "LayoutView",
            "align_content": null,
            "align_items": null,
            "align_self": null,
            "border": null,
            "bottom": null,
            "display": null,
            "flex": null,
            "flex_flow": null,
            "grid_area": null,
            "grid_auto_columns": null,
            "grid_auto_flow": null,
            "grid_auto_rows": null,
            "grid_column": null,
            "grid_gap": null,
            "grid_row": null,
            "grid_template_areas": null,
            "grid_template_columns": null,
            "grid_template_rows": null,
            "height": null,
            "justify_content": null,
            "justify_items": null,
            "left": null,
            "margin": null,
            "max_height": null,
            "max_width": null,
            "min_height": null,
            "min_width": null,
            "object_fit": null,
            "object_position": null,
            "order": null,
            "overflow": null,
            "overflow_x": null,
            "overflow_y": null,
            "padding": null,
            "right": null,
            "top": null,
            "visibility": null,
            "width": null
          }
        },
        "14bcdd935a9d43f09869467892b1816f": {
          "model_module": "jupyter-leaflet",
          "model_name": "LeafletDivIconModel",
          "model_module_version": "^0.17",
          "state": {
            "_model_module": "jupyter-leaflet",
            "_model_module_version": "^0.17",
            "_model_name": "LeafletDivIconModel",
            "_view_count": null,
            "_view_module": "jupyter-leaflet",
            "_view_module_version": "^0.17",
            "_view_name": "LeafletDivIconView",
            "base": false,
            "bg_pos": [
              0,
              0
            ],
            "bottom": false,
            "html": "<div style=\"font-size: 12pt;color:blue;font-family:arial;font-weight: bold\">6020000010</div>",
            "icon_anchor": [
              12,
              12
            ],
            "icon_size": [
              1,
              1
            ],
            "name": "",
            "options": [
              "bg_pos",
              "html",
              "icon_anchor",
              "icon_size",
              "popup_anchor"
            ],
            "pane": "",
            "popup": null,
            "popup_anchor": [
              0,
              0
            ],
            "popup_max_height": null,
            "popup_max_width": 300,
            "popup_min_width": 50,
            "subitems": []
          }
        },
        "821aa17514c34b13958d7c7d810a286b": {
          "model_module": "jupyter-leaflet",
          "model_name": "LeafletDivIconModel",
          "model_module_version": "^0.17",
          "state": {
            "_model_module": "jupyter-leaflet",
            "_model_module_version": "^0.17",
            "_model_name": "LeafletDivIconModel",
            "_view_count": null,
            "_view_module": "jupyter-leaflet",
            "_view_module_version": "^0.17",
            "_view_name": "LeafletDivIconView",
            "base": false,
            "bg_pos": [
              0,
              0
            ],
            "bottom": false,
            "html": "<div style=\"font-size: 12pt;color:blue;font-family:arial;font-weight: bold\">6020006540</div>",
            "icon_anchor": [
              12,
              12
            ],
            "icon_size": [
              1,
              1
            ],
            "name": "",
            "options": [
              "bg_pos",
              "html",
              "icon_anchor",
              "icon_size",
              "popup_anchor"
            ],
            "pane": "",
            "popup": null,
            "popup_anchor": [
              0,
              0
            ],
            "popup_max_height": null,
            "popup_max_width": 300,
            "popup_min_width": 50,
            "subitems": []
          }
        },
        "fe78a9fbb9c4464aa9f8493d4cf463d3": {
          "model_module": "jupyter-leaflet",
          "model_name": "LeafletDivIconModel",
          "model_module_version": "^0.17",
          "state": {
            "_model_module": "jupyter-leaflet",
            "_model_module_version": "^0.17",
            "_model_name": "LeafletDivIconModel",
            "_view_count": null,
            "_view_module": "jupyter-leaflet",
            "_view_module_version": "^0.17",
            "_view_name": "LeafletDivIconView",
            "base": false,
            "bg_pos": [
              0,
              0
            ],
            "bottom": false,
            "html": "<div style=\"font-size: 12pt;color:blue;font-family:arial;font-weight: bold\">6020008320</div>",
            "icon_anchor": [
              12,
              12
            ],
            "icon_size": [
              1,
              1
            ],
            "name": "",
            "options": [
              "bg_pos",
              "html",
              "icon_anchor",
              "icon_size",
              "popup_anchor"
            ],
            "pane": "",
            "popup": null,
            "popup_anchor": [
              0,
              0
            ],
            "popup_max_height": null,
            "popup_max_width": 300,
            "popup_min_width": 50,
            "subitems": []
          }
        },
        "0b9fde7e2fbd421a8e25145c276cf251": {
          "model_module": "jupyter-leaflet",
          "model_name": "LeafletDivIconModel",
          "model_module_version": "^0.17",
          "state": {
            "_model_module": "jupyter-leaflet",
            "_model_module_version": "^0.17",
            "_model_name": "LeafletDivIconModel",
            "_view_count": null,
            "_view_module": "jupyter-leaflet",
            "_view_module_version": "^0.17",
            "_view_name": "LeafletDivIconView",
            "base": false,
            "bg_pos": [
              0,
              0
            ],
            "bottom": false,
            "html": "<div style=\"font-size: 12pt;color:blue;font-family:arial;font-weight: bold\">6020014330</div>",
            "icon_anchor": [
              12,
              12
            ],
            "icon_size": [
              1,
              1
            ],
            "name": "",
            "options": [
              "bg_pos",
              "html",
              "icon_anchor",
              "icon_size",
              "popup_anchor"
            ],
            "pane": "",
            "popup": null,
            "popup_anchor": [
              0,
              0
            ],
            "popup_max_height": null,
            "popup_max_width": 300,
            "popup_min_width": 50,
            "subitems": []
          }
        },
        "255773cc8e6b499ab810453fd82e9018": {
          "model_module": "jupyter-leaflet",
          "model_name": "LeafletDivIconModel",
          "model_module_version": "^0.17",
          "state": {
            "_model_module": "jupyter-leaflet",
            "_model_module_version": "^0.17",
            "_model_name": "LeafletDivIconModel",
            "_view_count": null,
            "_view_module": "jupyter-leaflet",
            "_view_module_version": "^0.17",
            "_view_name": "LeafletDivIconView",
            "base": false,
            "bg_pos": [
              0,
              0
            ],
            "bottom": false,
            "html": "<div style=\"font-size: 12pt;color:blue;font-family:arial;font-weight: bold\">6020017370</div>",
            "icon_anchor": [
              12,
              12
            ],
            "icon_size": [
              1,
              1
            ],
            "name": "",
            "options": [
              "bg_pos",
              "html",
              "icon_anchor",
              "icon_size",
              "popup_anchor"
            ],
            "pane": "",
            "popup": null,
            "popup_anchor": [
              0,
              0
            ],
            "popup_max_height": null,
            "popup_max_width": 300,
            "popup_min_width": 50,
            "subitems": []
          }
        },
        "5e32add5395645f78ef3beee0f5e43d9": {
          "model_module": "jupyter-leaflet",
          "model_name": "LeafletDivIconModel",
          "model_module_version": "^0.17",
          "state": {
            "_model_module": "jupyter-leaflet",
            "_model_module_version": "^0.17",
            "_model_name": "LeafletDivIconModel",
            "_view_count": null,
            "_view_module": "jupyter-leaflet",
            "_view_module_version": "^0.17",
            "_view_name": "LeafletDivIconView",
            "base": false,
            "bg_pos": [
              0,
              0
            ],
            "bottom": false,
            "html": "<div style=\"font-size: 12pt;color:blue;font-family:arial;font-weight: bold\">6020021870</div>",
            "icon_anchor": [
              12,
              12
            ],
            "icon_size": [
              1,
              1
            ],
            "name": "",
            "options": [
              "bg_pos",
              "html",
              "icon_anchor",
              "icon_size",
              "popup_anchor"
            ],
            "pane": "",
            "popup": null,
            "popup_anchor": [
              0,
              0
            ],
            "popup_max_height": null,
            "popup_max_width": 300,
            "popup_min_width": 50,
            "subitems": []
          }
        },
        "42a8f7988fb14e028cd2f5309edb2982": {
          "model_module": "jupyter-leaflet",
          "model_name": "LeafletDivIconModel",
          "model_module_version": "^0.17",
          "state": {
            "_model_module": "jupyter-leaflet",
            "_model_module_version": "^0.17",
            "_model_name": "LeafletDivIconModel",
            "_view_count": null,
            "_view_module": "jupyter-leaflet",
            "_view_module_version": "^0.17",
            "_view_name": "LeafletDivIconView",
            "base": false,
            "bg_pos": [
              0,
              0
            ],
            "bottom": false,
            "html": "<div style=\"font-size: 12pt;color:blue;font-family:arial;font-weight: bold\">6020029280</div>",
            "icon_anchor": [
              12,
              12
            ],
            "icon_size": [
              1,
              1
            ],
            "name": "",
            "options": [
              "bg_pos",
              "html",
              "icon_anchor",
              "icon_size",
              "popup_anchor"
            ],
            "pane": "",
            "popup": null,
            "popup_anchor": [
              0,
              0
            ],
            "popup_max_height": null,
            "popup_max_width": 300,
            "popup_min_width": 50,
            "subitems": []
          }
        },
        "3c10f2900a624323a9d08972505c45c6": {
          "model_module": "@jupyter-widgets/base",
          "model_name": "LayoutModel",
          "model_module_version": "1.2.0",
          "state": {
            "_model_module": "@jupyter-widgets/base",
            "_model_module_version": "1.2.0",
            "_model_name": "LayoutModel",
            "_view_count": null,
            "_view_module": "@jupyter-widgets/base",
            "_view_module_version": "1.2.0",
            "_view_name": "LayoutView",
            "align_content": null,
            "align_items": null,
            "align_self": null,
            "border": null,
            "bottom": null,
            "display": null,
            "flex": null,
            "flex_flow": null,
            "grid_area": null,
            "grid_auto_columns": null,
            "grid_auto_flow": null,
            "grid_auto_rows": null,
            "grid_column": null,
            "grid_gap": null,
            "grid_row": null,
            "grid_template_areas": null,
            "grid_template_columns": null,
            "grid_template_rows": null,
            "height": "28px",
            "justify_content": null,
            "justify_items": null,
            "left": null,
            "margin": null,
            "max_height": null,
            "max_width": null,
            "min_height": null,
            "min_width": null,
            "object_fit": null,
            "object_position": null,
            "order": null,
            "overflow": null,
            "overflow_x": null,
            "overflow_y": null,
            "padding": "0px 0px 0px 4px",
            "right": null,
            "top": null,
            "visibility": null,
            "width": "28px"
          }
        },
        "e4b41e1aabf94c00abbae186089f3609": {
          "model_module": "@jupyter-widgets/controls",
          "model_name": "DescriptionStyleModel",
          "model_module_version": "1.5.0",
          "state": {
            "_model_module": "@jupyter-widgets/controls",
            "_model_module_version": "1.5.0",
            "_model_name": "DescriptionStyleModel",
            "_view_count": null,
            "_view_module": "@jupyter-widgets/base",
            "_view_module_version": "1.2.0",
            "_view_name": "StyleView",
            "description_width": ""
          }
        },
        "db73699fa85c46aa85583442ab4afc6b": {
          "model_module": "@jupyter-widgets/base",
          "model_name": "LayoutModel",
          "model_module_version": "1.2.0",
          "state": {
            "_model_module": "@jupyter-widgets/base",
            "_model_module_version": "1.2.0",
            "_model_name": "LayoutModel",
            "_view_count": null,
            "_view_module": "@jupyter-widgets/base",
            "_view_module_version": "1.2.0",
            "_view_name": "LayoutView",
            "align_content": null,
            "align_items": null,
            "align_self": null,
            "border": null,
            "bottom": null,
            "display": null,
            "flex": null,
            "flex_flow": null,
            "grid_area": null,
            "grid_auto_columns": null,
            "grid_auto_flow": null,
            "grid_auto_rows": null,
            "grid_column": null,
            "grid_gap": null,
            "grid_row": null,
            "grid_template_areas": null,
            "grid_template_columns": null,
            "grid_template_rows": null,
            "height": "28px",
            "justify_content": null,
            "justify_items": null,
            "left": null,
            "margin": null,
            "max_height": null,
            "max_width": null,
            "min_height": null,
            "min_width": null,
            "object_fit": null,
            "object_position": null,
            "order": null,
            "overflow": null,
            "overflow_x": null,
            "overflow_y": null,
            "padding": "0px 0px 0px 4px",
            "right": null,
            "top": null,
            "visibility": null,
            "width": "28px"
          }
        },
        "dd5ea20fc3b6454886d88e1f6f3fa459": {
          "model_module": "@jupyter-widgets/controls",
          "model_name": "DescriptionStyleModel",
          "model_module_version": "1.5.0",
          "state": {
            "_model_module": "@jupyter-widgets/controls",
            "_model_module_version": "1.5.0",
            "_model_name": "DescriptionStyleModel",
            "_view_count": null,
            "_view_module": "@jupyter-widgets/base",
            "_view_module_version": "1.2.0",
            "_view_name": "StyleView",
            "description_width": ""
          }
        },
        "ff5c5696892a448fa4301e7f70539787": {
          "model_module": "@jupyter-widgets/controls",
          "model_name": "DatePickerModel",
          "model_module_version": "1.5.0",
          "state": {
            "_dom_classes": [],
            "_model_module": "@jupyter-widgets/controls",
            "_model_module_version": "1.5.0",
            "_model_name": "DatePickerModel",
            "_view_count": null,
            "_view_module": "@jupyter-widgets/controls",
            "_view_module_version": "1.5.0",
            "_view_name": "DatePickerView",
            "description": "Fecha Inicial",
            "description_tooltip": null,
            "disabled": false,
            "layout": "IPY_MODEL_bdc63f2834124fde910cb3a8329263d3",
            "style": "IPY_MODEL_afe033edffbf47bf8e7f208aee268b2d",
            "value": {
              "year": 2022,
              "month": 8,
              "date": 1
            }
          }
        },
        "bdc63f2834124fde910cb3a8329263d3": {
          "model_module": "@jupyter-widgets/base",
          "model_name": "LayoutModel",
          "model_module_version": "1.2.0",
          "state": {
            "_model_module": "@jupyter-widgets/base",
            "_model_module_version": "1.2.0",
            "_model_name": "LayoutModel",
            "_view_count": null,
            "_view_module": "@jupyter-widgets/base",
            "_view_module_version": "1.2.0",
            "_view_name": "LayoutView",
            "align_content": null,
            "align_items": null,
            "align_self": null,
            "border": null,
            "bottom": null,
            "display": null,
            "flex": null,
            "flex_flow": null,
            "grid_area": null,
            "grid_auto_columns": null,
            "grid_auto_flow": null,
            "grid_auto_rows": null,
            "grid_column": null,
            "grid_gap": null,
            "grid_row": null,
            "grid_template_areas": null,
            "grid_template_columns": null,
            "grid_template_rows": null,
            "height": null,
            "justify_content": null,
            "justify_items": null,
            "left": null,
            "margin": null,
            "max_height": null,
            "max_width": null,
            "min_height": null,
            "min_width": null,
            "object_fit": null,
            "object_position": null,
            "order": null,
            "overflow": null,
            "overflow_x": null,
            "overflow_y": null,
            "padding": null,
            "right": null,
            "top": null,
            "visibility": null,
            "width": null
          }
        },
        "afe033edffbf47bf8e7f208aee268b2d": {
          "model_module": "@jupyter-widgets/controls",
          "model_name": "DescriptionStyleModel",
          "model_module_version": "1.5.0",
          "state": {
            "_model_module": "@jupyter-widgets/controls",
            "_model_module_version": "1.5.0",
            "_model_name": "DescriptionStyleModel",
            "_view_count": null,
            "_view_module": "@jupyter-widgets/base",
            "_view_module_version": "1.2.0",
            "_view_name": "StyleView",
            "description_width": ""
          }
        },
        "7cce9318e4e8408baeb3f3c18547f810": {
          "model_module": "@jupyter-widgets/controls",
          "model_name": "DatePickerModel",
          "model_module_version": "1.5.0",
          "state": {
            "_dom_classes": [],
            "_model_module": "@jupyter-widgets/controls",
            "_model_module_version": "1.5.0",
            "_model_name": "DatePickerModel",
            "_view_count": null,
            "_view_module": "@jupyter-widgets/controls",
            "_view_module_version": "1.5.0",
            "_view_name": "DatePickerView",
            "description": "Fecha Final",
            "description_tooltip": null,
            "disabled": false,
            "layout": "IPY_MODEL_273f4239d0b543239901218b3c0873b6",
            "style": "IPY_MODEL_2424e983891c4206b979fd2dec2ea88d",
            "value": {
              "year": 2022,
              "month": 8,
              "date": 30
            }
          }
        },
        "273f4239d0b543239901218b3c0873b6": {
          "model_module": "@jupyter-widgets/base",
          "model_name": "LayoutModel",
          "model_module_version": "1.2.0",
          "state": {
            "_model_module": "@jupyter-widgets/base",
            "_model_module_version": "1.2.0",
            "_model_name": "LayoutModel",
            "_view_count": null,
            "_view_module": "@jupyter-widgets/base",
            "_view_module_version": "1.2.0",
            "_view_name": "LayoutView",
            "align_content": null,
            "align_items": null,
            "align_self": null,
            "border": null,
            "bottom": null,
            "display": null,
            "flex": null,
            "flex_flow": null,
            "grid_area": null,
            "grid_auto_columns": null,
            "grid_auto_flow": null,
            "grid_auto_rows": null,
            "grid_column": null,
            "grid_gap": null,
            "grid_row": null,
            "grid_template_areas": null,
            "grid_template_columns": null,
            "grid_template_rows": null,
            "height": null,
            "justify_content": null,
            "justify_items": null,
            "left": null,
            "margin": null,
            "max_height": null,
            "max_width": null,
            "min_height": null,
            "min_width": null,
            "object_fit": null,
            "object_position": null,
            "order": null,
            "overflow": null,
            "overflow_x": null,
            "overflow_y": null,
            "padding": null,
            "right": null,
            "top": null,
            "visibility": null,
            "width": null
          }
        },
        "2424e983891c4206b979fd2dec2ea88d": {
          "model_module": "@jupyter-widgets/controls",
          "model_name": "DescriptionStyleModel",
          "model_module_version": "1.5.0",
          "state": {
            "_model_module": "@jupyter-widgets/controls",
            "_model_module_version": "1.5.0",
            "_model_name": "DescriptionStyleModel",
            "_view_count": null,
            "_view_module": "@jupyter-widgets/base",
            "_view_module_version": "1.2.0",
            "_view_name": "StyleView",
            "description_width": ""
          }
        }
      }
    }
  },
  "cells": [
    {
      "cell_type": "markdown",
      "metadata": {
        "id": "view-in-github",
        "colab_type": "text"
      },
      "source": [
        "<a href=\"https://colab.research.google.com/github/acoiman/swb/blob/main/surface_water_balance.ipynb\" target=\"_parent\"><img src=\"https://colab.research.google.com/assets/colab-badge.svg\" alt=\"Open In Colab\"/></a>"
      ]
    },
    {
      "cell_type": "markdown",
      "metadata": {
        "id": "SrgVY2JHi3Gr"
      },
      "source": [
        "## Estimación el Balance de Agua Superficial y el Volumen de Agua de las Cuencas en Sur América (WWF HydroSHEDS Nivel 2).\n",
        "\n",
        "A través de esta notebook vamos a hacer una aproximación al cálculo  del Balance de Agua Superficial (BAS) y el Volumen de Agua (VA) en las cuencas de sur américa correspondientes al nivel 2 de conjunto de los datos WWF HydroSHEDS. Este análisis lo vamos a efectuar en una serie temporal mensual. \n",
        "\n",
        "Para lograr este objetivo vamos a usar la API Python de Google Earh Engine (GEE) y otras librerías Python. El conjunto de datos que vamos a emplear es el siguiente:\n",
        "\n",
        "- Cuencas de la colección [WWF HydroSHEDS](https://developers.google.com/earth-engine/datasets/catalog/WWF_HydroSHEDS_v1_Basins_hybas_2). Este conjunto de datos proporciona polígonos de cuencas hidrográficas jerárquicas y anidadas, basados en datos ráster de resolución de 15 segundos de arco (aproximadamente 500 m en el ecuador). Las cuencas hidrográficas van desde el nivel 1 (grueso) al nivel 12 (detallado), utilizando el código Pfastetter.\n",
        "- [GLDAS-2.1: Global Land Data Assimilation System](https://developers.google.com/earth-engine/datasets/catalog/NASA_GLDAS_V021_NOAH_G025_T3H). De los datos  GLDAS-2.1  vamos a selecionar la proporción total de precipitación (`Rainf_f_tavg`), la evapotranspiración (`Evap_tavg`) y la escorrentía superficial de la lluvia (`Qs_acc`). La resolución espacial de estos datos es de 0.25 grados de arco, aproximadamente 30 Km.\n",
        "\n",
        "El cálculo del BAS es el siguiente:\n",
        "\n",
        "$${BAS(mm/mes)} = {{precipitación} - {evapotranspiración} - {escorrentía}}*.$$\n",
        "\n",
        "<br/>\n",
        "\n",
        "BAS es una medida de flujo de agua expresado en ${kg/m^2}$ que es equivalente a ${mm}$, cuando lo calculamos por mes obtenemos ${mm/mes}$.\n",
        "\n",
        "<br/>\n",
        "\n",
        "El cálculo del VA es el siguiente: \n",
        "\n",
        "$${VA(m^3/mes)} = {{BAS(mm/mes)} / 1000 * {AreaCuenca(m^2)}}.$$\n",
        "\n",
        "<br/>\n",
        "\n",
        "Lo anterior es  una primera aproximación al cálculo del volumen de agua en la cuenca porque no se toman en cuenta otros factores como el suelo y las aguas subterráneas.\n",
        "\n",
        "Estos datos se cruzarán con otros datos de puntos de calor y área quemadas por cuenca con el fin de establecer patrones entre los incendios forestales y la disponibilidad de agua.\n",
        "\n",
        "<br/>\n",
        "\n",
        "<font size=\"2\">* Fuente: NASA's Applied Remote Sensing Training Program (ARSET)</font> "
      ]
    },
    {
      "cell_type": "markdown",
      "metadata": {
        "id": "47joa7kmi3G7"
      },
      "source": [
        "Para iniciar procedamos a instalar algunos paquetes necesarios."
      ]
    },
    {
      "cell_type": "code",
      "metadata": {
        "id": "b1BjbJ0DJkxc"
      },
      "source": [
        "# installl packages\n",
        "!pip install geopandas\n",
        "!pip install eeconvert\n",
        "!pip install geemap\n",
        "!pip install arrow"
      ],
      "execution_count": null,
      "outputs": []
    },
    {
      "cell_type": "code",
      "source": [
        "!pip uninstall tornado\n",
        "!pip install tornado==4.5.3"
      ],
      "metadata": {
        "id": "8ifxTOHPu8to"
      },
      "execution_count": null,
      "outputs": []
    },
    {
      "cell_type": "markdown",
      "metadata": {
        "id": "WW-cYLkdi3G-"
      },
      "source": [
        "Accedemos a los servicios de GEE."
      ]
    },
    {
      "cell_type": "code",
      "metadata": {
        "colab": {
          "base_uri": "https://localhost:8080/"
        },
        "id": "DWAKkSq-MTfz",
        "outputId": "f63696f0-e6d9-47cd-b92f-b7b3ca3f7bc5"
      },
      "source": [
        "# Authenticate to Earth Engine\n",
        "!earthengine authenticate"
      ],
      "execution_count": 2,
      "outputs": [
        {
          "output_type": "stream",
          "name": "stdout",
          "text": [
            "To authorize access needed by Earth Engine, open the following URL in a web browser and follow the instructions. If the web browser does not start automatically, please manually browse the URL below.\n",
            "\n",
            "    https://code.earthengine.google.com/client-auth?scopes=https%3A//www.googleapis.com/auth/earthengine%20https%3A//www.googleapis.com/auth/devstorage.full_control&request_id=vuAc0w4SNubpJ9mjWwn3oXSVegjFLEesNy9pRtT7i-Q&tc=PXuFZIeUFttDXW6QoQWlh_73FTr_aT2b-gxyA8pKxaY&cc=5SreymJquiiiRi7RVbryAJ_u09grt3rroymW7kJJCW0\n",
            "\n",
            "The authorization workflow will generate a code, which you should paste in the box below.\n",
            "Enter verification code: 4/1ARtbsJoRQJ-cGwbPqEv44nL_VdCh1-qgZWatlVGuK5GKBqpxzbA0v7Wmug8\n",
            "\n",
            "Successfully saved authorization token.\n"
          ]
        }
      ]
    },
    {
      "cell_type": "markdown",
      "metadata": {
        "id": "KS_PwX_9i3HC"
      },
      "source": [
        "Procedamos a importar algunos paquetes necesarios."
      ]
    },
    {
      "cell_type": "code",
      "metadata": {
        "id": "vVGFiNtPOKJL"
      },
      "source": [
        "# import packages\n",
        "import matplotlib.pyplot as plt\n",
        "from pprint import  pprint\n",
        "import eeconvert\n",
        "import ee\n",
        "import folium\n",
        "import geemap.geemap as geemap\n",
        "import geopandas\n",
        "from datetime import date\n",
        "from datetime import datetime\n",
        "import arrow\n",
        "import pandas as pd\n",
        "import ipywidgets as widgets\n",
        "from IPython.display import display\n",
        "import warnings\n",
        "warnings.filterwarnings('ignore')"
      ],
      "execution_count": 3,
      "outputs": []
    },
    {
      "cell_type": "markdown",
      "metadata": {
        "id": "aeuBtWbYi3HE"
      },
      "source": [
        "Inicialicemos GEE. "
      ]
    },
    {
      "cell_type": "code",
      "metadata": {
        "id": "y5BpzmiucmEG"
      },
      "source": [
        "# initialize GEE\n",
        "ee.Initialize()"
      ],
      "execution_count": 4,
      "outputs": []
    },
    {
      "cell_type": "markdown",
      "metadata": {
        "id": "UySpAquii3HF"
      },
      "source": [
        "Accedamos a los servicios de almacenamiento de Google Drive."
      ]
    },
    {
      "cell_type": "code",
      "metadata": {
        "colab": {
          "base_uri": "https://localhost:8080/"
        },
        "id": "1jYeYUR7DXVa",
        "outputId": "3d409313-e0be-487d-8195-6fe18ef0d96e"
      },
      "source": [
        "# Authenticate to Google Drive\n",
        "# Mount Google Drive\n",
        "from google.colab import drive # import drive from google colab\n",
        "\n",
        "# default location for the drive\n",
        "ROOT = \"/content/drive\" \n",
        "print(ROOT) # print content of ROOT (optional)\n",
        "\n",
        "drive.mount(ROOT) # we mount the google drive at /content/drive"
      ],
      "execution_count": 5,
      "outputs": [
        {
          "output_type": "stream",
          "name": "stdout",
          "text": [
            "/content/drive\n",
            "Mounted at /content/drive\n"
          ]
        }
      ]
    },
    {
      "cell_type": "markdown",
      "metadata": {
        "id": "-0MHFy79i3HH"
      },
      "source": [
        "Cambiémonos a nuestra carpeta de trabajo. Se debe crear una carpeta con el nombre Colab_Notebooks y dentro de esta una carpeta con el nombre Taller_GEE_Inc_2021, en caso contrario configure su ruta particular."
      ]
    },
    {
      "cell_type": "code",
      "metadata": {
        "colab": {
          "base_uri": "https://localhost:8080/"
        },
        "id": "o9dIihyn3fu_",
        "outputId": "7235245f-ac2f-4ef8-a2c8-67ec3ac3a96e"
      },
      "source": [
        "%cd \"drive/MyDrive/Colab_Notebooks/visita_ig\""
      ],
      "execution_count": 6,
      "outputs": [
        {
          "output_type": "stream",
          "name": "stdout",
          "text": [
            "/content/drive/MyDrive/Colab_Notebooks/visita_ig\n"
          ]
        }
      ]
    },
    {
      "cell_type": "code",
      "metadata": {
        "id": "wSC2n2L6p7tG"
      },
      "source": [
        "level = ['Nivel 2', 'Nivel 3', 'Nivel 4', 'Nivel 5', 'Nivel 6','Nivel 7', 'Nivel 8', 'Nivel 9', 'Nivel 10', 'Nivel 11', 'Nivel 12']"
      ],
      "execution_count": 7,
      "outputs": []
    },
    {
      "cell_type": "code",
      "metadata": {
        "colab": {
          "base_uri": "https://localhost:8080/",
          "height": 66,
          "referenced_widgets": [
            "8d9b2b6496d847d8af171a196a55ae73",
            "d8461539a797418ba0a7e3544298d624",
            "b448f83560ba4221bbafc2322d4e5174"
          ]
        },
        "id": "UaNGwfU3og_P",
        "outputId": "2681dfe8-bd3b-43ad-89ea-354b3d6381c2"
      },
      "source": [
        "# set up a Jupyter Notebook dropdown widget to pick up a basin level\n",
        "w = widgets.Dropdown(\n",
        "    options= level,\n",
        "    value='Nivel 2'\n",
        "\n",
        ")\n",
        "print('Seleccione un Nivel de Cuencas')\n",
        "display(w)"
      ],
      "execution_count": 8,
      "outputs": [
        {
          "output_type": "stream",
          "name": "stdout",
          "text": [
            "Seleccione un Nivel de Cuencas\n"
          ]
        },
        {
          "output_type": "display_data",
          "data": {
            "text/plain": [
              "Dropdown(options=('Nivel 2', 'Nivel 3', 'Nivel 4', 'Nivel 5', 'Nivel 6', 'Nivel 7', 'Nivel 8', 'Nivel 9', 'Niv…"
            ],
            "application/vnd.jupyter.widget-view+json": {
              "version_major": 2,
              "version_minor": 0,
              "model_id": "8d9b2b6496d847d8af171a196a55ae73"
            }
          },
          "metadata": {
            "application/vnd.jupyter.widget-view+json": {
              "colab": {
                "custom_widget_manager": {
                  "url": "https://ssl.gstatic.com/colaboratory-static/widgets/colab-cdn-widget-manager/d2e234f7cc04bf79/manager.min.js"
                }
              }
            }
          }
        }
      ]
    },
    {
      "cell_type": "code",
      "metadata": {
        "id": "vRqDFADU5nll"
      },
      "source": [
        "if w.value == level[0]:\n",
        "  endurl = 'hybas_2'\n",
        "elif w.value == level[1]:\n",
        "  endurl = 'hybas_3'\n",
        "elif w.value == level[2]:\n",
        "  endurl = 'hybas_4'\n",
        "elif w.value == level[3]:\n",
        "  endurl = 'hybas_5'\n",
        "elif w.value == level[4]:\n",
        "  endurl = 'hybas_6'\n",
        "elif w.value == level[5]:\n",
        "  endurl = 'hybas_7'\n",
        "elif w.value == level[6]:\n",
        "  endurl = 'hybas_8'\n",
        "elif w.value == level[7]:\n",
        "  endurl = 'hybas_9'\n",
        "elif w.value == level[8]:\n",
        "  endurl = 'hybas_10'\n",
        "elif w.value == level[9]:\n",
        "  endurl = 'hybas_11'\n",
        "else:\n",
        "  endurl = 'hybas_12'"
      ],
      "execution_count": 9,
      "outputs": []
    },
    {
      "cell_type": "code",
      "metadata": {
        "colab": {
          "base_uri": "https://localhost:8080/"
        },
        "id": "l11FQuGOOZf-",
        "outputId": "245574c8-07c2-4914-b92f-a94defa46514"
      },
      "source": [
        "colSnippet = 'WWF/HydroSHEDS/v1/Basins/' + endurl\n",
        "print(colSnippet)"
      ],
      "execution_count": 10,
      "outputs": [
        {
          "output_type": "stream",
          "name": "stdout",
          "text": [
            "WWF/HydroSHEDS/v1/Basins/hybas_2\n"
          ]
        }
      ]
    },
    {
      "cell_type": "markdown",
      "metadata": {
        "id": "xruQtc7URprN"
      },
      "source": [
        "Creamos una lista con los IDs de las cuencas en Suramérica, filtramos la colección `WWF HydroSHEDS Basins del nivel 2` de acuerdo a la lista y luego unimos para obtener el polígono de Sur América que será empleado para cortar los datos del GLDAS."
      ]
    },
    {
      "cell_type": "code",
      "metadata": {
        "id": "I19QP2W4DjWM"
      },
      "source": [
        "basin_id = [6020029280, 6020017370, 6020021870, 6020008320,  6020014330, 6020000010, 6020006540];\n",
        "\n",
        "southAmer = (ee.FeatureCollection('WWF/HydroSHEDS/v1/Basins/hybas_2')\n",
        "         .filter(ee.Filter.inList('HYBAS_ID',basin_id))\n",
        "         .union()\n",
        ")"
      ],
      "execution_count": 11,
      "outputs": []
    },
    {
      "cell_type": "markdown",
      "metadata": {
        "id": "1hFprKhvUDEW"
      },
      "source": [
        "Creamos un polígono para filtrar las cuencas de nivel seleccionado."
      ]
    },
    {
      "cell_type": "code",
      "metadata": {
        "id": "Mkqyv0c8ePvS"
      },
      "source": [
        "geometry = ee.Geometry.Polygon([[[-73.29873105727071, 13.479144572417201],\n",
        "                                [-75.44126165031963, 11.486147543732507],\n",
        "                                [-75.43833095188438, 7.191350227504306],\n",
        "                                [-78.57216855727071, 4.284821423021577],\n",
        "                                [-85.25185605727071, -5.371263035360049],\n",
        "                                [-76.28701230727071, -24.30326838962132],\n",
        "                                [-77.69326230727071, -56.032905509323086],\n",
        "                                [-63.279199807270714, -59.04972038791961],\n",
        "                                [-55.544824807270714, -47.94300457794506],\n",
        "                                [-54.314356057270714, -38.35563126516214],\n",
        "                                [-26.540918557270714, -5.136947070874553],\n",
        "                                [-49.392481057270714, 6.9678245412504305],\n",
        "                                [-65.03701230727071, 14.219615877891318]]])"
      ],
      "execution_count": 12,
      "outputs": []
    },
    {
      "cell_type": "code",
      "source": [
        "# create map to visualize the polygon (geometry)\n",
        "Map = geemap.Map(center=(-9.84, -62.45), zoom=3)\n",
        "\n",
        "# add layers to map\n",
        "Map.addLayer(geometry, {}, \"Polígono\")\n",
        "\n",
        "# visualize map\n",
        "Map"
      ],
      "metadata": {
        "colab": {
          "base_uri": "https://localhost:8080/",
          "height": 621,
          "referenced_widgets": [
            "a936a386b7684cf7aedeaf1e20ae6822",
            "ad034ed2128e421b8fd3819a74317561",
            "7cd0089dd57446478b861e7a507b5212",
            "0a2c7bed85f54652a6767eed375ee12f",
            "aff04841ef134bdd826a92b542cf4c29",
            "b7048aaca0d94a2f9a6655a89ccc1f46",
            "9ea44058e6134d20b4ad2026c36573c4",
            "a694eb25dc5a447d9ba0a31f9d586f7a",
            "e6ffd04e71fe423395046e4c14ca0e1b",
            "063ba5945d7f453ba825d11588406fe4",
            "267990c33c2d49a7943f5edf58600eea",
            "d12e022c2def477d83de964e22b97394",
            "7d2da0ce727a478dabbb4d1ae3e3cd2b",
            "b3eb7290c725458c93644dde8f9634fc",
            "b20100d5f34944e3bdffbdfa53ed36b5",
            "c57ddecfb4f0408093b035c5940453b7",
            "3fc14cfaff5a4773be388c53a0bb548d",
            "7f81dc69d57f4b8f82d50bd00edc5651",
            "fc4011ba8092436c954c5ceb4ef2820f",
            "d2a5927c8d514e2a8f201e9b7828f4d4",
            "5e77dddbab524a02ae4dfef8e93c400b",
            "d9c989fb28d84504982ac10ff5ceddce",
            "9ad11c9ca37540bbbe479d675d7efd70",
            "ba03defa48284beba2a413b2760b501d",
            "d6963f0f0b2f484c8feb1ab4e74ce24f",
            "ee5621313fb742378b58f6bb8e982add"
          ]
        },
        "id": "itm5OQfODxYd",
        "outputId": "fcdd4e14-645f-4e78-a710-5ef41212bb3f"
      },
      "execution_count": 42,
      "outputs": [
        {
          "output_type": "display_data",
          "data": {
            "text/plain": [
              "Map(center=[-9.84, -62.45], controls=(WidgetControl(options=['position', 'transparent_bg'], widget=HBox(childr…"
            ],
            "application/vnd.jupyter.widget-view+json": {
              "version_major": 2,
              "version_minor": 0,
              "model_id": "a936a386b7684cf7aedeaf1e20ae6822"
            }
          },
          "metadata": {
            "application/vnd.jupyter.widget-view+json": {
              "colab": {
                "custom_widget_manager": {
                  "url": "https://ssl.gstatic.com/colaboratory-static/widgets/colab-cdn-widget-manager/d2e234f7cc04bf79/manager.min.js"
                }
              }
            }
          }
        }
      ]
    },
    {
      "cell_type": "code",
      "metadata": {
        "id": "v-P52dNHUAmy"
      },
      "source": [
        "# filter FeatureCollection using the polygon\n",
        "basins = (ee.FeatureCollection(colSnippet)\n",
        "          .filterBounds(geometry)\n",
        ")"
      ],
      "execution_count": 13,
      "outputs": []
    },
    {
      "cell_type": "markdown",
      "metadata": {
        "id": "5iBWQmvzi3HM"
      },
      "source": [
        "Ahora visualicemos el polígono de Suramérica y las cuencas de Suramérica en un mapa."
      ]
    },
    {
      "cell_type": "code",
      "metadata": {
        "colab": {
          "base_uri": "https://localhost:8080/",
          "height": 621,
          "referenced_widgets": [
            "efb3083da9054f78abb98dc9d1804fac",
            "2f7d3809463046a991f855002126b775",
            "3b6ca99ed2064e2ab95b2e5bf90117d7",
            "0db6de039a0f419796b721c71ef177cc",
            "68bdd35a0c4d41e0841521176af088d9",
            "20ec5381a578448ead5dd787552b6d6c",
            "c7bf7ad3ba064c16bf57b6db464eb715",
            "a0f5e7f7e1ea4d0e98c829796fcf8358",
            "35611ffeb9f340f39748f19b7e3c565c",
            "f39a41498ca24d4480aba1965499ef9e",
            "db9da626df6e406185c437adbd881ce5",
            "4c39e9043d6f4aaeaabe95e93689f4e7",
            "afcd27ab77674c29ba3d5e5220c1b0a8",
            "7d2da0ce727a478dabbb4d1ae3e3cd2b",
            "fd8c8afc09304b76a3352b974b88d523",
            "866bcd8af3224238b217b8a8f4cca04d",
            "295e468a772c44bfb731838d64e72571",
            "9bc9572a6e5e4380958f340f1d6e7181",
            "08e42d4c6b5c405c8f8629bc1660383a",
            "faadf5c28c194de6b5665b9a844cc6d1",
            "5d4fd5938e864cbdab88f6bfa1010358",
            "8192f6e55a4e4d48a0fa790bf0618cc0",
            "0026d2e494994f9eac46ee3e1eb32d48",
            "b37a50ce04c54b208308db407060d3d5",
            "4907978506894e8daebcd35b500ade3d",
            "9acd2f11d2f545ac9682431b7dfc1282",
            "d79baa7dc5d44803a6fb71d8a10cfdc7",
            "834de8c553cd45d6849383389ef9624d",
            "3d0a5e7c528a4e2b9428237ddfd0e92d",
            "e207e194c7c445c9a2ad4151a5724b56",
            "7ea295aa4b09400593d01d3d6e4aa2dd",
            "285e892b185c49d5b1af2db06881b929",
            "14bcdd935a9d43f09869467892b1816f",
            "821aa17514c34b13958d7c7d810a286b",
            "fe78a9fbb9c4464aa9f8493d4cf463d3",
            "0b9fde7e2fbd421a8e25145c276cf251",
            "255773cc8e6b499ab810453fd82e9018",
            "5e32add5395645f78ef3beee0f5e43d9",
            "42a8f7988fb14e028cd2f5309edb2982",
            "3c10f2900a624323a9d08972505c45c6",
            "e4b41e1aabf94c00abbae186089f3609",
            "db73699fa85c46aa85583442ab4afc6b",
            "dd5ea20fc3b6454886d88e1f6f3fa459"
          ]
        },
        "id": "syLpbaysLMcv",
        "outputId": "7746b254-7580-4013-80c8-e2293b8264d7"
      },
      "source": [
        "# create map\n",
        "Map = geemap.Map(center=(-9.84, -62.45), zoom=3)\n",
        "\n",
        "# layer styles \n",
        "style = {'color': 'black', 'fillColor': \"00000000\"} # basins\n",
        "vis_sa = {\n",
        "    'color': '000000', \n",
        "    'colorOpacity': 1,\n",
        "    'lineType': 'solid', \n",
        "    'fillColorOpacity': 1,\n",
        "    'width': 1    \n",
        "} # South America\n",
        "\n",
        "# add layers to map\n",
        "Map.addLayer(basins.style(**style), {}, \"Cuencas\") # basins\n",
        "Map.addLayer(southAmer , vis_sa, 'Sur América ')\n",
        "\n",
        "# add labels and label style\n",
        "Map.add_labels(\n",
        "    basins,\n",
        "    \"HYBAS_ID\",\n",
        "    font_size=\"12pt\",\n",
        "    font_color=\"blue\",\n",
        "    font_family=\"arial\",\n",
        "    font_weight=\"bold\",\n",
        ")\n",
        "\n",
        "# add map controls\n",
        "Map.addLayerControl()\n",
        "\n",
        "# visualize map\n",
        "Map"
      ],
      "execution_count": 56,
      "outputs": [
        {
          "output_type": "display_data",
          "data": {
            "text/plain": [
              "Map(center=[-9.84, -62.45], controls=(WidgetControl(options=['position', 'transparent_bg'], widget=HBox(childr…"
            ],
            "application/vnd.jupyter.widget-view+json": {
              "version_major": 2,
              "version_minor": 0,
              "model_id": "efb3083da9054f78abb98dc9d1804fac"
            }
          },
          "metadata": {
            "application/vnd.jupyter.widget-view+json": {
              "colab": {
                "custom_widget_manager": {
                  "url": "https://ssl.gstatic.com/colaboratory-static/widgets/colab-cdn-widget-manager/d2e234f7cc04bf79/manager.min.js"
                }
              }
            }
          }
        }
      ]
    },
    {
      "cell_type": "markdown",
      "metadata": {
        "id": "QoBd1JHVoJmW"
      },
      "source": [
        "Seleccionamos la fechas de nuestro periodo de estudio. Si el periodo de tiempo es entre el 01 de enero y el 31 enero, la fecha final debe ser un día adicional de la fecha final deseada, en este caso 01 de febrero."
      ]
    },
    {
      "cell_type": "code",
      "metadata": {
        "id": "WBSHLGDwV270"
      },
      "source": [
        "start = widgets.DatePicker(\n",
        "    description='Fecha Inicial',\n",
        "    disabled=False\n",
        ")"
      ],
      "execution_count": 15,
      "outputs": []
    },
    {
      "cell_type": "code",
      "metadata": {
        "colab": {
          "base_uri": "https://localhost:8080/",
          "height": 49,
          "referenced_widgets": [
            "ff5c5696892a448fa4301e7f70539787",
            "bdc63f2834124fde910cb3a8329263d3",
            "afe033edffbf47bf8e7f208aee268b2d"
          ]
        },
        "id": "5EYhSVm-l_K3",
        "outputId": "b92af32b-e015-4e49-8b89-91c6f2af4e85"
      },
      "source": [
        "display(start)"
      ],
      "execution_count": 16,
      "outputs": [
        {
          "output_type": "display_data",
          "data": {
            "text/plain": [
              "DatePicker(value=None, description='Fecha Inicial')"
            ],
            "application/vnd.jupyter.widget-view+json": {
              "version_major": 2,
              "version_minor": 0,
              "model_id": "ff5c5696892a448fa4301e7f70539787"
            }
          },
          "metadata": {
            "application/vnd.jupyter.widget-view+json": {
              "colab": {
                "custom_widget_manager": {
                  "url": "https://ssl.gstatic.com/colaboratory-static/widgets/colab-cdn-widget-manager/d2e234f7cc04bf79/manager.min.js"
                }
              }
            }
          }
        }
      ]
    },
    {
      "cell_type": "code",
      "metadata": {
        "colab": {
          "base_uri": "https://localhost:8080/"
        },
        "id": "Tcd3rqetaEZb",
        "outputId": "c269ac32-e2db-4b5c-d952-a0c48e914277"
      },
      "source": [
        "print(start.value)"
      ],
      "execution_count": 17,
      "outputs": [
        {
          "output_type": "stream",
          "name": "stdout",
          "text": [
            "2022-09-01\n"
          ]
        }
      ]
    },
    {
      "cell_type": "code",
      "metadata": {
        "id": "hSmoTH86nMW4"
      },
      "source": [
        "end = widgets.DatePicker(\n",
        "    description='Fecha Final',\n",
        "    disabled=False\n",
        ")"
      ],
      "execution_count": 18,
      "outputs": []
    },
    {
      "cell_type": "code",
      "metadata": {
        "colab": {
          "base_uri": "https://localhost:8080/",
          "height": 49,
          "referenced_widgets": [
            "7cce9318e4e8408baeb3f3c18547f810",
            "273f4239d0b543239901218b3c0873b6",
            "2424e983891c4206b979fd2dec2ea88d"
          ]
        },
        "id": "4sctAV0PnTNr",
        "outputId": "6da80039-1213-4acc-d716-0db0b347d28f"
      },
      "source": [
        "display(end)"
      ],
      "execution_count": 19,
      "outputs": [
        {
          "output_type": "display_data",
          "data": {
            "text/plain": [
              "DatePicker(value=None, description='Fecha Final')"
            ],
            "application/vnd.jupyter.widget-view+json": {
              "version_major": 2,
              "version_minor": 0,
              "model_id": "7cce9318e4e8408baeb3f3c18547f810"
            }
          },
          "metadata": {
            "application/vnd.jupyter.widget-view+json": {
              "colab": {
                "custom_widget_manager": {
                  "url": "https://ssl.gstatic.com/colaboratory-static/widgets/colab-cdn-widget-manager/d2e234f7cc04bf79/manager.min.js"
                }
              }
            }
          }
        }
      ]
    },
    {
      "cell_type": "code",
      "metadata": {
        "colab": {
          "base_uri": "https://localhost:8080/"
        },
        "id": "ZqTG9HSRnVgv",
        "outputId": "fad43929-b1ea-4a4b-855c-49d895011b9c"
      },
      "source": [
        "print(end.value)"
      ],
      "execution_count": 20,
      "outputs": [
        {
          "output_type": "stream",
          "name": "stdout",
          "text": [
            "2022-09-30\n"
          ]
        }
      ]
    },
    {
      "cell_type": "markdown",
      "metadata": {
        "id": "Ba67VBZfi3HM"
      },
      "source": [
        "Calculemos las fechas del primer día del mes entre un periodo de tiempo determinado."
      ]
    },
    {
      "cell_type": "code",
      "metadata": {
        "id": "7ss1DulrK_yb"
      },
      "source": [
        "def ini_dates(start, end):\n",
        "    \n",
        "    '''function to create a pandas series containing the first day of a month for given period\n",
        "    Argumets:\n",
        "    start: initial date in format 'year-month-day'\n",
        "    end: final date in format 'year-month-day'\n",
        "    \n",
        "    return: a pandas Series with dates in format 'year-month-day'\n",
        "        \n",
        "    Example: if you want to get the first day between January and February you should enter \n",
        "    '2000-01-01' as initial date and '2000-03-01' as final date\n",
        "    '''\n",
        "    range= pd.date_range(start,end , freq='1M')-pd.offsets.MonthBegin(1)\n",
        "    serie = pd.Series(range.format())\n",
        "    \n",
        "    return serie"
      ],
      "execution_count": 21,
      "outputs": []
    },
    {
      "cell_type": "code",
      "metadata": {
        "id": "mTqmuvydi3HN"
      },
      "source": [
        "startDates = ini_dates(start.value,end.value)"
      ],
      "execution_count": 22,
      "outputs": []
    },
    {
      "cell_type": "code",
      "metadata": {
        "colab": {
          "base_uri": "https://localhost:8080/"
        },
        "id": "Uh8e55S9i3HO",
        "outputId": "18a4e3aa-9012-4ed2-a8b5-6f608bbb2ef0"
      },
      "source": [
        "startDates"
      ],
      "execution_count": 23,
      "outputs": [
        {
          "output_type": "execute_result",
          "data": {
            "text/plain": [
              "0    2022-09-01\n",
              "dtype: object"
            ]
          },
          "metadata": {},
          "execution_count": 23
        }
      ]
    },
    {
      "cell_type": "markdown",
      "metadata": {
        "id": "6Qw2Gd-8i3HO"
      },
      "source": [
        "Calculemos las fechas del último día del mes entre un periodo de tiempo determinado."
      ]
    },
    {
      "cell_type": "code",
      "metadata": {
        "id": "X-x3oOb0i3HP"
      },
      "source": [
        "def fin_dates(start, end):\n",
        "    \n",
        "    '''function to create a pandas series containing the last day of a month for given period\n",
        "    Argumets:\n",
        "    start: initial date in format 'year-month-day'\n",
        "    end: final date in format 'year-month-day'\n",
        "    \n",
        "    return: a pandas Series with dates in format 'year-month-day'\n",
        "        \n",
        "    Example: if you want to get the last day between January and February you should enter \n",
        "    '2000-01-01' as initial date and '2000-03-01' as final date\n",
        "    '''\n",
        "    range= pd.date_range(start,end , freq='1M')-pd.offsets.MonthEnd(0)\n",
        "    serie = pd.Series(range.format())\n",
        "    \n",
        "    return serie"
      ],
      "execution_count": 24,
      "outputs": []
    },
    {
      "cell_type": "code",
      "metadata": {
        "id": "XE4Ih7vRi3HQ"
      },
      "source": [
        "endDates = fin_dates(start.value,end.value)"
      ],
      "execution_count": 25,
      "outputs": []
    },
    {
      "cell_type": "code",
      "metadata": {
        "colab": {
          "base_uri": "https://localhost:8080/"
        },
        "id": "Jr_uZQtGi3HQ",
        "outputId": "9a3aaeec-a20f-4ebc-b77e-1e447004746f"
      },
      "source": [
        "endDates"
      ],
      "execution_count": 26,
      "outputs": [
        {
          "output_type": "execute_result",
          "data": {
            "text/plain": [
              "0    2022-09-30\n",
              "dtype: object"
            ]
          },
          "metadata": {},
          "execution_count": 26
        }
      ]
    },
    {
      "cell_type": "markdown",
      "metadata": {
        "id": "v4DA6WvQi3HQ"
      },
      "source": [
        "En esta sección vamos a calcular Balance de Agua Superficial y el Volumen de Agua por mes para el período y área de estudio. Luego calcularemos las estadísticas zonales (media) del BAS para cada cuenca. Convertiremos el FeatureCollection a un GeoDataFrame para calcular el área por cuenca y el volumen de agua por cuenca. Luego se almacenará toda esta serie temporal en una lista."
      ]
    },
    {
      "cell_type": "code",
      "metadata": {
        "id": "T_CPKUH0Xq78",
        "scrolled": true
      },
      "source": [
        "# list to store dataframe values\n",
        "lst = []\n",
        " \n",
        "for d1, d2 in zip(startDates, endDates):\n",
        "    # d1: start date\n",
        "    # d2: end date\n",
        "\n",
        "    # calculate number of days between d1 and d2\n",
        "    a = arrow.get(d1)\n",
        "    b = arrow.get(d2)\n",
        "    delta = (b-a)\n",
        "    numdays = delta.days\n",
        "\n",
        "    # GLDAS-2.1: Global Land Data Assimilation System\n",
        "    # https://developers.google.com/earth-engine/datasets/catalog/NASA_GLDAS_V021_NOAH_G025_T3H\n",
        "    dataset = ee.ImageCollection('NASA/GLDAS/V021/NOAH/G025/T3H').filter(ee.Filter.date(d1, d2)) \n",
        "    # select total precipitation rate and calculate the mean\n",
        "    precip_rate = dataset.select('Rainf_f_tavg').mean()\n",
        "    # clip to all basins\n",
        "    precip_clip = precip_rate.clip(southAmer)\n",
        "    # convert units to get monthly data\n",
        "    # precipitation is in kg m^2 s^-1  accumulated over 3 hour interval \n",
        "    # Rainf_f_tavg (month){kg/m2} =\n",
        "    # Rainf_f_tavg (month){kg/m2/sec} * 10800{sec/3hr} * 8{3hr/day} * numdays{days}\n",
        "    precip = precip_clip.multiply(10800).multiply(8).multiply(numdays)\n",
        "   \n",
        "    # select evapotranspiration and calculate the mean\n",
        "    evap = dataset.select('Evap_tavg').mean()\n",
        "    # clip to all basins\n",
        "    evap_clip =  evap.clip(southAmer)  \n",
        "    # convert units to get monthly data\n",
        "    # evapotraspiration is in kg m^2 s^-1  accumulated over 3 hour interval \n",
        "    # Evap_tavg (month){kg/m2} =\n",
        "    # Evap_tavg (month){kg/m2/sec} * 10800{sec/3hr} * 8{3hr/day} * numdays{days}\n",
        "    ET =  evap_clip.multiply(10800).multiply(8).multiply(numdays) \n",
        "   \n",
        "    # select storm surface runoff and calculate the mean\n",
        "    ssr = dataset.select('Qs_acc').mean()\n",
        "    # clip to all basins\n",
        "    ssr_clip  =  ssr.clip(southAmer)\n",
        "    # convert units to get monthly data\n",
        "    # runoff is in kg m^2  accumulated over 3 hour interval \n",
        "    # Qs_acc (month){kg/m2} = Qs_acc (month){kg/m2/3hr} * 8{3hr/day} * numdays{days}\n",
        "    runoff =  ssr_clip.multiply(8).multiply(numdays)\n",
        "   \n",
        "    # calculate Surface Water Balance\n",
        "    SWB= precip.subtract(ET);\n",
        "    WB = SWB.subtract(runoff).rename('WB');\n",
        "   \n",
        "    # add reducer output to the features in the collection.\n",
        "    # add the mean of  Surface Water Balance to each basin\n",
        "    saBasinsWB = WB.reduceRegions(**{\n",
        "        'collection': basins,\n",
        "        'reducer': ee.Reducer.mean(),\n",
        "        'scale': 30000\n",
        "    })\n",
        "    # conver fc to gdf\n",
        "    df = eeconvert.fcToGdf(saBasinsWB)\n",
        "\n",
        "    # create FECHA column\n",
        "    df['FECHA'] =  d1.replace('-', '')[:-2]\n",
        "   \n",
        "    # reproject to South America Albers Equal Area Conic\n",
        "    df_proj= df.to_crs(\"+proj=aea +lat_1=-5 +lat_2=-42 +lat_0=-32 +lon_0=-60 +x_0=0 +y_0=0 +ellps=aust_SA +units=m +no_defs\")\n",
        "   \n",
        "    # calculate area in m^2\n",
        "    df_proj[\"AREA_M2\"] = df_proj['geometry'].area\n",
        "\n",
        "    # calculate water volume in m^3\n",
        "    df_proj[\"VOLUMEN_AGUA_M3\"] =  (df_proj['mean'] / 1000) * df_proj['AREA_M2']\n",
        "   \n",
        "    # select and rename columns\n",
        "    df_proj = df_proj[['HYBAS_ID', 'mean', 'FECHA', 'VOLUMEN_AGUA_M3']]\n",
        "    df_proj = df_proj.rename(columns={'mean': 'WB'})\n",
        "\n",
        "    # reorder columns\n",
        "    df_final = df_proj[['FECHA', 'HYBAS_ID','WB', 'VOLUMEN_AGUA_M3']]\n",
        "   \n",
        "    # df values to list\n",
        "    dflist = df_final.values.tolist()\n",
        "    # append dflist to another list\n",
        "    lst.append(dflist)"
      ],
      "execution_count": 27,
      "outputs": []
    },
    {
      "cell_type": "markdown",
      "metadata": {
        "id": "9N0fnhQci3HS"
      },
      "source": [
        "Eliminemos los paréntesis adicionales de la lista."
      ]
    },
    {
      "cell_type": "code",
      "metadata": {
        "id": "X6KIByLikiV8"
      },
      "source": [
        "# flatten list\n",
        "final_list = [i for sublist in lst for i in sublist]"
      ],
      "execution_count": 28,
      "outputs": []
    },
    {
      "cell_type": "markdown",
      "metadata": {
        "id": "LXGvTqFei3HT"
      },
      "source": [
        "A partir de la lista anterior vamos a crear una DataFrame, luego los visualizaremos. "
      ]
    },
    {
      "cell_type": "code",
      "metadata": {
        "id": "mYEZI6NYkLuq"
      },
      "source": [
        "# create  new dataframe from final_list\n",
        "df2 = pd.DataFrame(final_list, columns =['FECHA', 'HYBAS_ID','WB', 'VOLUMEN_AGUA_M3'])"
      ],
      "execution_count": 29,
      "outputs": []
    },
    {
      "cell_type": "code",
      "metadata": {
        "colab": {
          "base_uri": "https://localhost:8080/",
          "height": 206
        },
        "id": "xiH0w8rlk29w",
        "outputId": "e59e170d-e0bf-4338-af61-99afe07556f0"
      },
      "source": [
        "# visualize new dataframe\n",
        "df2.head()"
      ],
      "execution_count": 30,
      "outputs": [
        {
          "output_type": "execute_result",
          "data": {
            "text/plain": [
              "    FECHA    HYBAS_ID         WB  VOLUMEN_AGUA_M3\n",
              "0  202209  6020000010  35.903540     7.565374e+10\n",
              "1  202209  6020006540 -30.027601    -2.067651e+11\n",
              "2  202209  6020008320  -5.803652    -1.217733e+10\n",
              "3  202209  6020014330  10.879021     3.919900e+10\n",
              "4  202209  6020017370  -4.494863    -6.803186e+09"
            ],
            "text/html": [
              "\n",
              "  <div id=\"df-524875ba-e560-41e3-b946-4f2b106bd56d\">\n",
              "    <div class=\"colab-df-container\">\n",
              "      <div>\n",
              "<style scoped>\n",
              "    .dataframe tbody tr th:only-of-type {\n",
              "        vertical-align: middle;\n",
              "    }\n",
              "\n",
              "    .dataframe tbody tr th {\n",
              "        vertical-align: top;\n",
              "    }\n",
              "\n",
              "    .dataframe thead th {\n",
              "        text-align: right;\n",
              "    }\n",
              "</style>\n",
              "<table border=\"1\" class=\"dataframe\">\n",
              "  <thead>\n",
              "    <tr style=\"text-align: right;\">\n",
              "      <th></th>\n",
              "      <th>FECHA</th>\n",
              "      <th>HYBAS_ID</th>\n",
              "      <th>WB</th>\n",
              "      <th>VOLUMEN_AGUA_M3</th>\n",
              "    </tr>\n",
              "  </thead>\n",
              "  <tbody>\n",
              "    <tr>\n",
              "      <th>0</th>\n",
              "      <td>202209</td>\n",
              "      <td>6020000010</td>\n",
              "      <td>35.903540</td>\n",
              "      <td>7.565374e+10</td>\n",
              "    </tr>\n",
              "    <tr>\n",
              "      <th>1</th>\n",
              "      <td>202209</td>\n",
              "      <td>6020006540</td>\n",
              "      <td>-30.027601</td>\n",
              "      <td>-2.067651e+11</td>\n",
              "    </tr>\n",
              "    <tr>\n",
              "      <th>2</th>\n",
              "      <td>202209</td>\n",
              "      <td>6020008320</td>\n",
              "      <td>-5.803652</td>\n",
              "      <td>-1.217733e+10</td>\n",
              "    </tr>\n",
              "    <tr>\n",
              "      <th>3</th>\n",
              "      <td>202209</td>\n",
              "      <td>6020014330</td>\n",
              "      <td>10.879021</td>\n",
              "      <td>3.919900e+10</td>\n",
              "    </tr>\n",
              "    <tr>\n",
              "      <th>4</th>\n",
              "      <td>202209</td>\n",
              "      <td>6020017370</td>\n",
              "      <td>-4.494863</td>\n",
              "      <td>-6.803186e+09</td>\n",
              "    </tr>\n",
              "  </tbody>\n",
              "</table>\n",
              "</div>\n",
              "      <button class=\"colab-df-convert\" onclick=\"convertToInteractive('df-524875ba-e560-41e3-b946-4f2b106bd56d')\"\n",
              "              title=\"Convert this dataframe to an interactive table.\"\n",
              "              style=\"display:none;\">\n",
              "        \n",
              "  <svg xmlns=\"http://www.w3.org/2000/svg\" height=\"24px\"viewBox=\"0 0 24 24\"\n",
              "       width=\"24px\">\n",
              "    <path d=\"M0 0h24v24H0V0z\" fill=\"none\"/>\n",
              "    <path d=\"M18.56 5.44l.94 2.06.94-2.06 2.06-.94-2.06-.94-.94-2.06-.94 2.06-2.06.94zm-11 1L8.5 8.5l.94-2.06 2.06-.94-2.06-.94L8.5 2.5l-.94 2.06-2.06.94zm10 10l.94 2.06.94-2.06 2.06-.94-2.06-.94-.94-2.06-.94 2.06-2.06.94z\"/><path d=\"M17.41 7.96l-1.37-1.37c-.4-.4-.92-.59-1.43-.59-.52 0-1.04.2-1.43.59L10.3 9.45l-7.72 7.72c-.78.78-.78 2.05 0 2.83L4 21.41c.39.39.9.59 1.41.59.51 0 1.02-.2 1.41-.59l7.78-7.78 2.81-2.81c.8-.78.8-2.07 0-2.86zM5.41 20L4 18.59l7.72-7.72 1.47 1.35L5.41 20z\"/>\n",
              "  </svg>\n",
              "      </button>\n",
              "      \n",
              "  <style>\n",
              "    .colab-df-container {\n",
              "      display:flex;\n",
              "      flex-wrap:wrap;\n",
              "      gap: 12px;\n",
              "    }\n",
              "\n",
              "    .colab-df-convert {\n",
              "      background-color: #E8F0FE;\n",
              "      border: none;\n",
              "      border-radius: 50%;\n",
              "      cursor: pointer;\n",
              "      display: none;\n",
              "      fill: #1967D2;\n",
              "      height: 32px;\n",
              "      padding: 0 0 0 0;\n",
              "      width: 32px;\n",
              "    }\n",
              "\n",
              "    .colab-df-convert:hover {\n",
              "      background-color: #E2EBFA;\n",
              "      box-shadow: 0px 1px 2px rgba(60, 64, 67, 0.3), 0px 1px 3px 1px rgba(60, 64, 67, 0.15);\n",
              "      fill: #174EA6;\n",
              "    }\n",
              "\n",
              "    [theme=dark] .colab-df-convert {\n",
              "      background-color: #3B4455;\n",
              "      fill: #D2E3FC;\n",
              "    }\n",
              "\n",
              "    [theme=dark] .colab-df-convert:hover {\n",
              "      background-color: #434B5C;\n",
              "      box-shadow: 0px 1px 3px 1px rgba(0, 0, 0, 0.15);\n",
              "      filter: drop-shadow(0px 1px 2px rgba(0, 0, 0, 0.3));\n",
              "      fill: #FFFFFF;\n",
              "    }\n",
              "  </style>\n",
              "\n",
              "      <script>\n",
              "        const buttonEl =\n",
              "          document.querySelector('#df-524875ba-e560-41e3-b946-4f2b106bd56d button.colab-df-convert');\n",
              "        buttonEl.style.display =\n",
              "          google.colab.kernel.accessAllowed ? 'block' : 'none';\n",
              "\n",
              "        async function convertToInteractive(key) {\n",
              "          const element = document.querySelector('#df-524875ba-e560-41e3-b946-4f2b106bd56d');\n",
              "          const dataTable =\n",
              "            await google.colab.kernel.invokeFunction('convertToInteractive',\n",
              "                                                     [key], {});\n",
              "          if (!dataTable) return;\n",
              "\n",
              "          const docLinkHtml = 'Like what you see? Visit the ' +\n",
              "            '<a target=\"_blank\" href=https://colab.research.google.com/notebooks/data_table.ipynb>data table notebook</a>'\n",
              "            + ' to learn more about interactive tables.';\n",
              "          element.innerHTML = '';\n",
              "          dataTable['output_type'] = 'display_data';\n",
              "          await google.colab.output.renderOutput(dataTable, element);\n",
              "          const docLink = document.createElement('div');\n",
              "          docLink.innerHTML = docLinkHtml;\n",
              "          element.appendChild(docLink);\n",
              "        }\n",
              "      </script>\n",
              "    </div>\n",
              "  </div>\n",
              "  "
            ]
          },
          "metadata": {},
          "execution_count": 30
        }
      ]
    },
    {
      "cell_type": "markdown",
      "metadata": {
        "id": "kFqhlJV5VQyj"
      },
      "source": [
        "Para una mejor compresión, a continuación, crearemos un campo con el VA en millardo de metros cúbicos. Un millardo es el número natural equivalente a mil millones (1 000 000 000) o, en notación científica, $10^{9}$."
      ]
    },
    {
      "cell_type": "code",
      "metadata": {
        "colab": {
          "base_uri": "https://localhost:8080/",
          "height": 206
        },
        "id": "ZHC3PYDAVP5l",
        "outputId": "89265c91-8894-494f-97a4-f4f73b11280c"
      },
      "source": [
        "df2['VOLUMEN_AGUA_MM3'] = round(df2['VOLUMEN_AGUA_M3'] / 1000000000, 2)\n",
        "df2.head()"
      ],
      "execution_count": 31,
      "outputs": [
        {
          "output_type": "execute_result",
          "data": {
            "text/plain": [
              "    FECHA    HYBAS_ID         WB  VOLUMEN_AGUA_M3  VOLUMEN_AGUA_MM3\n",
              "0  202209  6020000010  35.903540     7.565374e+10             75.65\n",
              "1  202209  6020006540 -30.027601    -2.067651e+11           -206.77\n",
              "2  202209  6020008320  -5.803652    -1.217733e+10            -12.18\n",
              "3  202209  6020014330  10.879021     3.919900e+10             39.20\n",
              "4  202209  6020017370  -4.494863    -6.803186e+09             -6.80"
            ],
            "text/html": [
              "\n",
              "  <div id=\"df-e820eae5-ab32-422c-9a8e-bbd277632679\">\n",
              "    <div class=\"colab-df-container\">\n",
              "      <div>\n",
              "<style scoped>\n",
              "    .dataframe tbody tr th:only-of-type {\n",
              "        vertical-align: middle;\n",
              "    }\n",
              "\n",
              "    .dataframe tbody tr th {\n",
              "        vertical-align: top;\n",
              "    }\n",
              "\n",
              "    .dataframe thead th {\n",
              "        text-align: right;\n",
              "    }\n",
              "</style>\n",
              "<table border=\"1\" class=\"dataframe\">\n",
              "  <thead>\n",
              "    <tr style=\"text-align: right;\">\n",
              "      <th></th>\n",
              "      <th>FECHA</th>\n",
              "      <th>HYBAS_ID</th>\n",
              "      <th>WB</th>\n",
              "      <th>VOLUMEN_AGUA_M3</th>\n",
              "      <th>VOLUMEN_AGUA_MM3</th>\n",
              "    </tr>\n",
              "  </thead>\n",
              "  <tbody>\n",
              "    <tr>\n",
              "      <th>0</th>\n",
              "      <td>202209</td>\n",
              "      <td>6020000010</td>\n",
              "      <td>35.903540</td>\n",
              "      <td>7.565374e+10</td>\n",
              "      <td>75.65</td>\n",
              "    </tr>\n",
              "    <tr>\n",
              "      <th>1</th>\n",
              "      <td>202209</td>\n",
              "      <td>6020006540</td>\n",
              "      <td>-30.027601</td>\n",
              "      <td>-2.067651e+11</td>\n",
              "      <td>-206.77</td>\n",
              "    </tr>\n",
              "    <tr>\n",
              "      <th>2</th>\n",
              "      <td>202209</td>\n",
              "      <td>6020008320</td>\n",
              "      <td>-5.803652</td>\n",
              "      <td>-1.217733e+10</td>\n",
              "      <td>-12.18</td>\n",
              "    </tr>\n",
              "    <tr>\n",
              "      <th>3</th>\n",
              "      <td>202209</td>\n",
              "      <td>6020014330</td>\n",
              "      <td>10.879021</td>\n",
              "      <td>3.919900e+10</td>\n",
              "      <td>39.20</td>\n",
              "    </tr>\n",
              "    <tr>\n",
              "      <th>4</th>\n",
              "      <td>202209</td>\n",
              "      <td>6020017370</td>\n",
              "      <td>-4.494863</td>\n",
              "      <td>-6.803186e+09</td>\n",
              "      <td>-6.80</td>\n",
              "    </tr>\n",
              "  </tbody>\n",
              "</table>\n",
              "</div>\n",
              "      <button class=\"colab-df-convert\" onclick=\"convertToInteractive('df-e820eae5-ab32-422c-9a8e-bbd277632679')\"\n",
              "              title=\"Convert this dataframe to an interactive table.\"\n",
              "              style=\"display:none;\">\n",
              "        \n",
              "  <svg xmlns=\"http://www.w3.org/2000/svg\" height=\"24px\"viewBox=\"0 0 24 24\"\n",
              "       width=\"24px\">\n",
              "    <path d=\"M0 0h24v24H0V0z\" fill=\"none\"/>\n",
              "    <path d=\"M18.56 5.44l.94 2.06.94-2.06 2.06-.94-2.06-.94-.94-2.06-.94 2.06-2.06.94zm-11 1L8.5 8.5l.94-2.06 2.06-.94-2.06-.94L8.5 2.5l-.94 2.06-2.06.94zm10 10l.94 2.06.94-2.06 2.06-.94-2.06-.94-.94-2.06-.94 2.06-2.06.94z\"/><path d=\"M17.41 7.96l-1.37-1.37c-.4-.4-.92-.59-1.43-.59-.52 0-1.04.2-1.43.59L10.3 9.45l-7.72 7.72c-.78.78-.78 2.05 0 2.83L4 21.41c.39.39.9.59 1.41.59.51 0 1.02-.2 1.41-.59l7.78-7.78 2.81-2.81c.8-.78.8-2.07 0-2.86zM5.41 20L4 18.59l7.72-7.72 1.47 1.35L5.41 20z\"/>\n",
              "  </svg>\n",
              "      </button>\n",
              "      \n",
              "  <style>\n",
              "    .colab-df-container {\n",
              "      display:flex;\n",
              "      flex-wrap:wrap;\n",
              "      gap: 12px;\n",
              "    }\n",
              "\n",
              "    .colab-df-convert {\n",
              "      background-color: #E8F0FE;\n",
              "      border: none;\n",
              "      border-radius: 50%;\n",
              "      cursor: pointer;\n",
              "      display: none;\n",
              "      fill: #1967D2;\n",
              "      height: 32px;\n",
              "      padding: 0 0 0 0;\n",
              "      width: 32px;\n",
              "    }\n",
              "\n",
              "    .colab-df-convert:hover {\n",
              "      background-color: #E2EBFA;\n",
              "      box-shadow: 0px 1px 2px rgba(60, 64, 67, 0.3), 0px 1px 3px 1px rgba(60, 64, 67, 0.15);\n",
              "      fill: #174EA6;\n",
              "    }\n",
              "\n",
              "    [theme=dark] .colab-df-convert {\n",
              "      background-color: #3B4455;\n",
              "      fill: #D2E3FC;\n",
              "    }\n",
              "\n",
              "    [theme=dark] .colab-df-convert:hover {\n",
              "      background-color: #434B5C;\n",
              "      box-shadow: 0px 1px 3px 1px rgba(0, 0, 0, 0.15);\n",
              "      filter: drop-shadow(0px 1px 2px rgba(0, 0, 0, 0.3));\n",
              "      fill: #FFFFFF;\n",
              "    }\n",
              "  </style>\n",
              "\n",
              "      <script>\n",
              "        const buttonEl =\n",
              "          document.querySelector('#df-e820eae5-ab32-422c-9a8e-bbd277632679 button.colab-df-convert');\n",
              "        buttonEl.style.display =\n",
              "          google.colab.kernel.accessAllowed ? 'block' : 'none';\n",
              "\n",
              "        async function convertToInteractive(key) {\n",
              "          const element = document.querySelector('#df-e820eae5-ab32-422c-9a8e-bbd277632679');\n",
              "          const dataTable =\n",
              "            await google.colab.kernel.invokeFunction('convertToInteractive',\n",
              "                                                     [key], {});\n",
              "          if (!dataTable) return;\n",
              "\n",
              "          const docLinkHtml = 'Like what you see? Visit the ' +\n",
              "            '<a target=\"_blank\" href=https://colab.research.google.com/notebooks/data_table.ipynb>data table notebook</a>'\n",
              "            + ' to learn more about interactive tables.';\n",
              "          element.innerHTML = '';\n",
              "          dataTable['output_type'] = 'display_data';\n",
              "          await google.colab.output.renderOutput(dataTable, element);\n",
              "          const docLink = document.createElement('div');\n",
              "          docLink.innerHTML = docLinkHtml;\n",
              "          element.appendChild(docLink);\n",
              "        }\n",
              "      </script>\n",
              "    </div>\n",
              "  </div>\n",
              "  "
            ]
          },
          "metadata": {},
          "execution_count": 31
        }
      ]
    },
    {
      "cell_type": "markdown",
      "metadata": {
        "id": "Vq31XDhCYoI_"
      },
      "source": [
        "A continuación, procedemos a calcular los [cuartiles](https://support.minitab.com/es-mx/minitab/18/help-and-how-to/graphs/how-to/boxplot/interpret-the-results/quartiles/) para  a clasificar el volumen de agua en millardos de ${m^3}$ de toda la serie temporal.\n"
      ]
    },
    {
      "cell_type": "code",
      "metadata": {
        "colab": {
          "base_uri": "https://localhost:8080/"
        },
        "id": "1wUe2RFEXONR",
        "outputId": "6709ecff-99bd-4098-daeb-a0390be9028b"
      },
      "source": [
        "# calculate quantiles\n",
        "dfquantiles = df2['VOLUMEN_AGUA_MM3'].quantile([0.25, 0.50, 0.75]) \n",
        "\n",
        "# adjust quantile 0.25 to 0 to include all negative data into a category\n",
        "dfquantiles[0.25] =0\n",
        "dfquantiles"
      ],
      "execution_count": 33,
      "outputs": [
        {
          "output_type": "execute_result",
          "data": {
            "text/plain": [
              "0.25     0.000\n",
              "0.50    19.630\n",
              "0.75    56.395\n",
              "Name: VOLUMEN_AGUA_MM3, dtype: float64"
            ]
          },
          "metadata": {},
          "execution_count": 33
        }
      ]
    },
    {
      "cell_type": "markdown",
      "metadata": {
        "id": "vvKNfACQbbFg"
      },
      "source": [
        "Con estos resultado podemos constuir la siguiente tabla de clasificación. Es importante indicar que la clasificación de los cuartiles va a depender del rango de los datos.\n",
        "\n",
        "<style type=\"text/css\">\n",
        ".tg  {border-collapse:collapse;border-spacing:0;}\n",
        ".tg td{border-color:black;border-style:solid;border-width:1px;font-family:Arial, sans-serif;font-size:14px;\n",
        "  overflow:hidden;padding:10px 5px;word-break:normal;}\n",
        ".tg th{border-color:black;border-style:solid;border-width:1px;font-family:Arial, sans-serif;font-size:14px;\n",
        "  font-weight:normal;overflow:hidden;padding:10px 5px;word-break:normal;}\n",
        ".tg .tg-g0ma{border-color:inherit;font-size:xx-large;font-weight:bold;text-align:left;vertical-align:top}\n",
        ".tg .tg-8afn{border-color:inherit;font-size:xx-large;text-align:left;vertical-align:top}\n",
        "@media screen and (max-width: 767px) {.tg {width: auto !important;}.tg col {width: auto !important;}.tg-wrap {overflow-x: auto;-webkit-overflow-scrolling: touch;}}</style>\n",
        "<div class=\"tg-wrap\"><table class=\"tg\">\n",
        "<thead>\n",
        "  <tr>\n",
        "    <th class=\"tg-g0ma\">Rango</th>\n",
        "    <th class=\"tg-g0ma\">Clase</th>\n",
        "  </tr>\n",
        "</thead>\n",
        "<tbody>\n",
        "  <tr>\n",
        "    <td class=\"tg-8afn\">&lt; 0</td>\n",
        "    <td class=\"tg-8afn\">Baja</td>\n",
        "  </tr>\n",
        "  <tr>\n",
        "    <td class=\"tg-8afn\">0 - 31.73</td>\n",
        "    <td class=\"tg-8afn\">Media</td>\n",
        "  </tr>\n",
        "  <tr>\n",
        "    <td class=\"tg-8afn\">31.73 - 113.16</td>\n",
        "    <td class=\"tg-8afn\">Alto</td>\n",
        "  </tr>\n",
        "  <tr>\n",
        "    <td class=\"tg-8afn\">&gt; 113.16</td>\n",
        "    <td class=\"tg-8afn\">Muy Alto</td>\n",
        "  </tr>\n",
        "</tbody>\n",
        "</table></div>"
      ]
    },
    {
      "cell_type": "code",
      "metadata": {
        "colab": {
          "base_uri": "https://localhost:8080/",
          "height": 206
        },
        "id": "9u7w2tv-baQi",
        "outputId": "f6eb0361-c742-40cf-d105-451b932f745e"
      },
      "source": [
        "#labeling of groups\n",
        "df2['CLASE_VAMM3'] = 'Muy Alto'\n",
        "df2['CLASE_VAMM3'][df2['VOLUMEN_AGUA_MM3'] < dfquantiles[0.75]] = 'Alto'   \n",
        "df2['CLASE_VAMM3'][df2['VOLUMEN_AGUA_MM3'] < dfquantiles[0.50]] = 'Medio'   \n",
        "df2['CLASE_VAMM3'][df2['VOLUMEN_AGUA_MM3'] < dfquantiles[0.25]] = 'Bajo' \n",
        "df2.head()"
      ],
      "execution_count": 34,
      "outputs": [
        {
          "output_type": "execute_result",
          "data": {
            "text/plain": [
              "    FECHA    HYBAS_ID         WB  VOLUMEN_AGUA_M3  VOLUMEN_AGUA_MM3  \\\n",
              "0  202209  6020000010  35.903540     7.565374e+10             75.65   \n",
              "1  202209  6020006540 -30.027601    -2.067651e+11           -206.77   \n",
              "2  202209  6020008320  -5.803652    -1.217733e+10            -12.18   \n",
              "3  202209  6020014330  10.879021     3.919900e+10             39.20   \n",
              "4  202209  6020017370  -4.494863    -6.803186e+09             -6.80   \n",
              "\n",
              "  CLASE_VAMM3  \n",
              "0    Muy Alto  \n",
              "1        Bajo  \n",
              "2        Bajo  \n",
              "3        Alto  \n",
              "4        Bajo  "
            ],
            "text/html": [
              "\n",
              "  <div id=\"df-de5c3e68-c340-489b-adbd-5fb91c77b2f1\">\n",
              "    <div class=\"colab-df-container\">\n",
              "      <div>\n",
              "<style scoped>\n",
              "    .dataframe tbody tr th:only-of-type {\n",
              "        vertical-align: middle;\n",
              "    }\n",
              "\n",
              "    .dataframe tbody tr th {\n",
              "        vertical-align: top;\n",
              "    }\n",
              "\n",
              "    .dataframe thead th {\n",
              "        text-align: right;\n",
              "    }\n",
              "</style>\n",
              "<table border=\"1\" class=\"dataframe\">\n",
              "  <thead>\n",
              "    <tr style=\"text-align: right;\">\n",
              "      <th></th>\n",
              "      <th>FECHA</th>\n",
              "      <th>HYBAS_ID</th>\n",
              "      <th>WB</th>\n",
              "      <th>VOLUMEN_AGUA_M3</th>\n",
              "      <th>VOLUMEN_AGUA_MM3</th>\n",
              "      <th>CLASE_VAMM3</th>\n",
              "    </tr>\n",
              "  </thead>\n",
              "  <tbody>\n",
              "    <tr>\n",
              "      <th>0</th>\n",
              "      <td>202209</td>\n",
              "      <td>6020000010</td>\n",
              "      <td>35.903540</td>\n",
              "      <td>7.565374e+10</td>\n",
              "      <td>75.65</td>\n",
              "      <td>Muy Alto</td>\n",
              "    </tr>\n",
              "    <tr>\n",
              "      <th>1</th>\n",
              "      <td>202209</td>\n",
              "      <td>6020006540</td>\n",
              "      <td>-30.027601</td>\n",
              "      <td>-2.067651e+11</td>\n",
              "      <td>-206.77</td>\n",
              "      <td>Bajo</td>\n",
              "    </tr>\n",
              "    <tr>\n",
              "      <th>2</th>\n",
              "      <td>202209</td>\n",
              "      <td>6020008320</td>\n",
              "      <td>-5.803652</td>\n",
              "      <td>-1.217733e+10</td>\n",
              "      <td>-12.18</td>\n",
              "      <td>Bajo</td>\n",
              "    </tr>\n",
              "    <tr>\n",
              "      <th>3</th>\n",
              "      <td>202209</td>\n",
              "      <td>6020014330</td>\n",
              "      <td>10.879021</td>\n",
              "      <td>3.919900e+10</td>\n",
              "      <td>39.20</td>\n",
              "      <td>Alto</td>\n",
              "    </tr>\n",
              "    <tr>\n",
              "      <th>4</th>\n",
              "      <td>202209</td>\n",
              "      <td>6020017370</td>\n",
              "      <td>-4.494863</td>\n",
              "      <td>-6.803186e+09</td>\n",
              "      <td>-6.80</td>\n",
              "      <td>Bajo</td>\n",
              "    </tr>\n",
              "  </tbody>\n",
              "</table>\n",
              "</div>\n",
              "      <button class=\"colab-df-convert\" onclick=\"convertToInteractive('df-de5c3e68-c340-489b-adbd-5fb91c77b2f1')\"\n",
              "              title=\"Convert this dataframe to an interactive table.\"\n",
              "              style=\"display:none;\">\n",
              "        \n",
              "  <svg xmlns=\"http://www.w3.org/2000/svg\" height=\"24px\"viewBox=\"0 0 24 24\"\n",
              "       width=\"24px\">\n",
              "    <path d=\"M0 0h24v24H0V0z\" fill=\"none\"/>\n",
              "    <path d=\"M18.56 5.44l.94 2.06.94-2.06 2.06-.94-2.06-.94-.94-2.06-.94 2.06-2.06.94zm-11 1L8.5 8.5l.94-2.06 2.06-.94-2.06-.94L8.5 2.5l-.94 2.06-2.06.94zm10 10l.94 2.06.94-2.06 2.06-.94-2.06-.94-.94-2.06-.94 2.06-2.06.94z\"/><path d=\"M17.41 7.96l-1.37-1.37c-.4-.4-.92-.59-1.43-.59-.52 0-1.04.2-1.43.59L10.3 9.45l-7.72 7.72c-.78.78-.78 2.05 0 2.83L4 21.41c.39.39.9.59 1.41.59.51 0 1.02-.2 1.41-.59l7.78-7.78 2.81-2.81c.8-.78.8-2.07 0-2.86zM5.41 20L4 18.59l7.72-7.72 1.47 1.35L5.41 20z\"/>\n",
              "  </svg>\n",
              "      </button>\n",
              "      \n",
              "  <style>\n",
              "    .colab-df-container {\n",
              "      display:flex;\n",
              "      flex-wrap:wrap;\n",
              "      gap: 12px;\n",
              "    }\n",
              "\n",
              "    .colab-df-convert {\n",
              "      background-color: #E8F0FE;\n",
              "      border: none;\n",
              "      border-radius: 50%;\n",
              "      cursor: pointer;\n",
              "      display: none;\n",
              "      fill: #1967D2;\n",
              "      height: 32px;\n",
              "      padding: 0 0 0 0;\n",
              "      width: 32px;\n",
              "    }\n",
              "\n",
              "    .colab-df-convert:hover {\n",
              "      background-color: #E2EBFA;\n",
              "      box-shadow: 0px 1px 2px rgba(60, 64, 67, 0.3), 0px 1px 3px 1px rgba(60, 64, 67, 0.15);\n",
              "      fill: #174EA6;\n",
              "    }\n",
              "\n",
              "    [theme=dark] .colab-df-convert {\n",
              "      background-color: #3B4455;\n",
              "      fill: #D2E3FC;\n",
              "    }\n",
              "\n",
              "    [theme=dark] .colab-df-convert:hover {\n",
              "      background-color: #434B5C;\n",
              "      box-shadow: 0px 1px 3px 1px rgba(0, 0, 0, 0.15);\n",
              "      filter: drop-shadow(0px 1px 2px rgba(0, 0, 0, 0.3));\n",
              "      fill: #FFFFFF;\n",
              "    }\n",
              "  </style>\n",
              "\n",
              "      <script>\n",
              "        const buttonEl =\n",
              "          document.querySelector('#df-de5c3e68-c340-489b-adbd-5fb91c77b2f1 button.colab-df-convert');\n",
              "        buttonEl.style.display =\n",
              "          google.colab.kernel.accessAllowed ? 'block' : 'none';\n",
              "\n",
              "        async function convertToInteractive(key) {\n",
              "          const element = document.querySelector('#df-de5c3e68-c340-489b-adbd-5fb91c77b2f1');\n",
              "          const dataTable =\n",
              "            await google.colab.kernel.invokeFunction('convertToInteractive',\n",
              "                                                     [key], {});\n",
              "          if (!dataTable) return;\n",
              "\n",
              "          const docLinkHtml = 'Like what you see? Visit the ' +\n",
              "            '<a target=\"_blank\" href=https://colab.research.google.com/notebooks/data_table.ipynb>data table notebook</a>'\n",
              "            + ' to learn more about interactive tables.';\n",
              "          element.innerHTML = '';\n",
              "          dataTable['output_type'] = 'display_data';\n",
              "          await google.colab.output.renderOutput(dataTable, element);\n",
              "          const docLink = document.createElement('div');\n",
              "          docLink.innerHTML = docLinkHtml;\n",
              "          element.appendChild(docLink);\n",
              "        }\n",
              "      </script>\n",
              "    </div>\n",
              "  </div>\n",
              "  "
            ]
          },
          "metadata": {},
          "execution_count": 34
        }
      ]
    },
    {
      "cell_type": "markdown",
      "metadata": {
        "id": "Y1gc_gkvQQOt",
        "outputId": "dd96af01-55d0-472d-bc72-5df8da446675"
      },
      "source": [
        "Finalmente exportemos los datos en formato csv"
      ]
    },
    {
      "cell_type": "code",
      "metadata": {
        "id": "6Seul4mCi3HW"
      },
      "source": [
        "df2.to_csv('wb2000_2019.csv', index=False)"
      ],
      "execution_count": null,
      "outputs": []
    }
  ]
}