{
  "nbformat": 4,
  "nbformat_minor": 0,
  "metadata": {
    "colab": {
      "name": "surface_water_balance.ipynb",
      "provenance": [],
      "collapsed_sections": [],
      "include_colab_link": true
    },
    "kernelspec": {
      "display_name": "Python 3",
      "language": "python",
      "name": "python3"
    },
    "language_info": {
      "codemirror_mode": {
        "name": "ipython",
        "version": 3
      },
      "file_extension": ".py",
      "mimetype": "text/x-python",
      "name": "python",
      "nbconvert_exporter": "python",
      "pygments_lexer": "ipython3",
      "version": "3.7.3"
    },
    "widgets": {
      "application/vnd.jupyter.widget-state+json": {
        "711c10300ab24c958bd0f0424750e553": {
          "model_module": "@jupyter-widgets/controls",
          "model_name": "DropdownModel",
          "state": {
            "_options_labels": [
              "Nivel 2",
              "Nivel 3",
              "Nivel 4",
              "Nivel 5",
              "Nivel 6",
              "Nivel 7",
              "Nivel 8",
              "Nivel 9",
              "Nivel 10",
              "Nivel 11",
              "Nivel 12"
            ],
            "_view_name": "DropdownView",
            "style": "IPY_MODEL_daee23cd90d94739800fcaef0f541ffa",
            "_dom_classes": [],
            "description": "",
            "_model_name": "DropdownModel",
            "index": 0,
            "_view_module": "@jupyter-widgets/controls",
            "_model_module_version": "1.5.0",
            "_view_count": null,
            "disabled": false,
            "_view_module_version": "1.5.0",
            "description_tooltip": null,
            "_model_module": "@jupyter-widgets/controls",
            "layout": "IPY_MODEL_b8705bd9634b4feb828ab875f629580a"
          }
        },
        "daee23cd90d94739800fcaef0f541ffa": {
          "model_module": "@jupyter-widgets/controls",
          "model_name": "DescriptionStyleModel",
          "state": {
            "_view_name": "StyleView",
            "_model_name": "DescriptionStyleModel",
            "description_width": "",
            "_view_module": "@jupyter-widgets/base",
            "_model_module_version": "1.5.0",
            "_view_count": null,
            "_view_module_version": "1.2.0",
            "_model_module": "@jupyter-widgets/controls"
          }
        },
        "b8705bd9634b4feb828ab875f629580a": {
          "model_module": "@jupyter-widgets/base",
          "model_name": "LayoutModel",
          "state": {
            "_view_name": "LayoutView",
            "grid_template_rows": null,
            "right": null,
            "justify_content": null,
            "_view_module": "@jupyter-widgets/base",
            "overflow": null,
            "_model_module_version": "1.2.0",
            "_view_count": null,
            "flex_flow": null,
            "width": null,
            "min_width": null,
            "border": null,
            "align_items": null,
            "bottom": null,
            "_model_module": "@jupyter-widgets/base",
            "top": null,
            "grid_column": null,
            "overflow_y": null,
            "overflow_x": null,
            "grid_auto_flow": null,
            "grid_area": null,
            "grid_template_columns": null,
            "flex": null,
            "_model_name": "LayoutModel",
            "justify_items": null,
            "grid_row": null,
            "max_height": null,
            "align_content": null,
            "visibility": null,
            "align_self": null,
            "height": null,
            "min_height": null,
            "padding": null,
            "grid_auto_rows": null,
            "grid_gap": null,
            "max_width": null,
            "order": null,
            "_view_module_version": "1.2.0",
            "grid_template_areas": null,
            "object_position": null,
            "object_fit": null,
            "grid_auto_columns": null,
            "margin": null,
            "display": null,
            "left": null
          }
        },
        "66a8de59c9814110a3139e98d8a392ac": {
          "model_module": "@jupyter-widgets/controls",
          "model_name": "DatePickerModel",
          "state": {
            "_view_name": "DatePickerView",
            "style": "IPY_MODEL_86f1bf4f297c497a8ff75624ef53b3f3",
            "_dom_classes": [],
            "description": "Fecha Inicial",
            "_model_name": "DatePickerModel",
            "_view_module": "@jupyter-widgets/controls",
            "_model_module_version": "1.5.0",
            "value": {
              "year": 2000,
              "month": 0,
              "date": 1
            },
            "_view_count": null,
            "disabled": false,
            "_view_module_version": "1.5.0",
            "description_tooltip": null,
            "_model_module": "@jupyter-widgets/controls",
            "layout": "IPY_MODEL_8ccde43995194d8eb3c3e01a47d4a17e"
          }
        },
        "86f1bf4f297c497a8ff75624ef53b3f3": {
          "model_module": "@jupyter-widgets/controls",
          "model_name": "DescriptionStyleModel",
          "state": {
            "_view_name": "StyleView",
            "_model_name": "DescriptionStyleModel",
            "description_width": "",
            "_view_module": "@jupyter-widgets/base",
            "_model_module_version": "1.5.0",
            "_view_count": null,
            "_view_module_version": "1.2.0",
            "_model_module": "@jupyter-widgets/controls"
          }
        },
        "8ccde43995194d8eb3c3e01a47d4a17e": {
          "model_module": "@jupyter-widgets/base",
          "model_name": "LayoutModel",
          "state": {
            "_view_name": "LayoutView",
            "grid_template_rows": null,
            "right": null,
            "justify_content": null,
            "_view_module": "@jupyter-widgets/base",
            "overflow": null,
            "_model_module_version": "1.2.0",
            "_view_count": null,
            "flex_flow": null,
            "width": null,
            "min_width": null,
            "border": null,
            "align_items": null,
            "bottom": null,
            "_model_module": "@jupyter-widgets/base",
            "top": null,
            "grid_column": null,
            "overflow_y": null,
            "overflow_x": null,
            "grid_auto_flow": null,
            "grid_area": null,
            "grid_template_columns": null,
            "flex": null,
            "_model_name": "LayoutModel",
            "justify_items": null,
            "grid_row": null,
            "max_height": null,
            "align_content": null,
            "visibility": null,
            "align_self": null,
            "height": null,
            "min_height": null,
            "padding": null,
            "grid_auto_rows": null,
            "grid_gap": null,
            "max_width": null,
            "order": null,
            "_view_module_version": "1.2.0",
            "grid_template_areas": null,
            "object_position": null,
            "object_fit": null,
            "grid_auto_columns": null,
            "margin": null,
            "display": null,
            "left": null
          }
        },
        "f45ce4337c0d4af1b1aa6c8a53268ff9": {
          "model_module": "@jupyter-widgets/controls",
          "model_name": "DatePickerModel",
          "state": {
            "_view_name": "DatePickerView",
            "style": "IPY_MODEL_42f4d020d40e47f98c72fb6308b952d7",
            "_dom_classes": [],
            "description": "Fecha Final",
            "_model_name": "DatePickerModel",
            "_view_module": "@jupyter-widgets/controls",
            "_model_module_version": "1.5.0",
            "value": {
              "year": 2019,
              "month": 11,
              "date": 31
            },
            "_view_count": null,
            "disabled": false,
            "_view_module_version": "1.5.0",
            "description_tooltip": null,
            "_model_module": "@jupyter-widgets/controls",
            "layout": "IPY_MODEL_b2e5c67aa24a46639fa3f1a3089cbf00"
          }
        },
        "42f4d020d40e47f98c72fb6308b952d7": {
          "model_module": "@jupyter-widgets/controls",
          "model_name": "DescriptionStyleModel",
          "state": {
            "_view_name": "StyleView",
            "_model_name": "DescriptionStyleModel",
            "description_width": "",
            "_view_module": "@jupyter-widgets/base",
            "_model_module_version": "1.5.0",
            "_view_count": null,
            "_view_module_version": "1.2.0",
            "_model_module": "@jupyter-widgets/controls"
          }
        },
        "b2e5c67aa24a46639fa3f1a3089cbf00": {
          "model_module": "@jupyter-widgets/base",
          "model_name": "LayoutModel",
          "state": {
            "_view_name": "LayoutView",
            "grid_template_rows": null,
            "right": null,
            "justify_content": null,
            "_view_module": "@jupyter-widgets/base",
            "overflow": null,
            "_model_module_version": "1.2.0",
            "_view_count": null,
            "flex_flow": null,
            "width": null,
            "min_width": null,
            "border": null,
            "align_items": null,
            "bottom": null,
            "_model_module": "@jupyter-widgets/base",
            "top": null,
            "grid_column": null,
            "overflow_y": null,
            "overflow_x": null,
            "grid_auto_flow": null,
            "grid_area": null,
            "grid_template_columns": null,
            "flex": null,
            "_model_name": "LayoutModel",
            "justify_items": null,
            "grid_row": null,
            "max_height": null,
            "align_content": null,
            "visibility": null,
            "align_self": null,
            "height": null,
            "min_height": null,
            "padding": null,
            "grid_auto_rows": null,
            "grid_gap": null,
            "max_width": null,
            "order": null,
            "_view_module_version": "1.2.0",
            "grid_template_areas": null,
            "object_position": null,
            "object_fit": null,
            "grid_auto_columns": null,
            "margin": null,
            "display": null,
            "left": null
          }
        }
      }
    }
  },
  "cells": [
    {
      "cell_type": "markdown",
      "metadata": {
        "id": "view-in-github",
        "colab_type": "text"
      },
      "source": [
        "<a href=\"https://colab.research.google.com/github/acoiman/swb/blob/main/surface_water_balance.ipynb\" target=\"_parent\"><img src=\"https://colab.research.google.com/assets/colab-badge.svg\" alt=\"Open In Colab\"/></a>"
      ]
    },
    {
      "cell_type": "markdown",
      "metadata": {
        "id": "SrgVY2JHi3Gr"
      },
      "source": [
        "## Estimación el Balance de Agua Superficial y el Volumen de Agua de las Cuencas en Sur América (WWF HydroSHEDS Nivel 2).\n",
        "\n",
        "A través de esta notebook vamos a usa a hacer el cálculo aproximado del Balance de Agua Superficial (BAS) y el Volumen de Agua (VA) en las cuencas de sur américa correspondientes al nivel 2 de conjunto de los datos WWF HydroSHEDS. Este análisis lo vamos a efectuar en una serie temporal mensual. \n",
        "\n",
        "Para lograr este objetivo vamos a usar la API Python de Google Earh Engine (GEE) y otras librerías Python. El conjunto de datos que vamos a emplear es el siguiente:\n",
        "\n",
        "- Cuencas de la colección [WWF HydroSHEDS](https://developers.google.com/earth-engine/datasets/catalog/WWF_HydroSHEDS_v1_Basins_hybas_2). Este conjunto de datos proporciona polígonos de cuencas hidrográficas jerárquicas y anidadas, basados en datos ráster de resolución de 15 segundos de arco (aproximadamente 500 m en el ecuador). Las cuencas hidrográficas van desde el nivel 1 (grueso) al nivel 12 (detallado), utilizando el código Pfastetter.\n",
        "- [GLDAS-2.1: Global Land Data Assimilation System](https://developers.google.com/earth-engine/datasets/catalog/NASA_GLDAS_V021_NOAH_G025_T3H). De los datos  GLDAS-2.1  vamos a selecionar la proporción total de precipitación (`Rainf_f_tavg`), la evapotranspiración (`Evap_tavg`) y la escorrentía superficial de la lluvia (`Qs_acc`). La resolución espacial de estos datos es de 0.25 grados de arco, aproximadamente 30 Km.\n",
        "\n",
        "El cálculo del BAS es el siguiente:\n",
        "\n",
        "$${BAS(mm/mes)} = {{precipitación} - {evapotranspiración} - {escorrentía}}*.$$\n",
        "\n",
        "<br/>\n",
        "\n",
        "BAS es una medida de flujo de agua expresado en ${kg/m^2}$ que es equivalente a ${mm}$, cuando lo calculamos por mes obtenemos ${mm/mes}$.\n",
        "\n",
        "<br/>\n",
        "\n",
        "El cálculo del VA es el siguiente: \n",
        "\n",
        "$${VA(m^3/mes)} = {{BAS(mm/mes)} * 1000 * {AreaCuenca(m^2)}}.$$\n",
        "\n",
        "<br/>\n",
        "\n",
        "Lo anterior es  una primera aproximación al cálculo del volumen de agua en la cuenca porque no se toman en cuenta otros factores como el suelo y las aguas subterráneas.\n",
        "\n",
        "Estos datos se cruzarán con otros datos de puntos de calor y área quemadas por cuenca con el fin de establecer patrones entre los incendios forestales y la disponibilidad de agua.\n",
        "\n",
        "<br/>\n",
        "\n",
        "<font size=\"2\">* Fuente: NASA's Applied Remote Sensing Training Program (ARSET)</font> "
      ]
    },
    {
      "cell_type": "markdown",
      "metadata": {
        "id": "47joa7kmi3G7"
      },
      "source": [
        "Para iniciar procedamos a instalar algunos paquetes necesarios."
      ]
    },
    {
      "cell_type": "code",
      "metadata": {
        "id": "b1BjbJ0DJkxc"
      },
      "source": [
        "# installl packages\n",
        "!pip install geopandas\n",
        "!pip install eeconvert\n",
        "!pip install geemap\n",
        "!pip install arrow"
      ],
      "execution_count": null,
      "outputs": []
    },
    {
      "cell_type": "markdown",
      "metadata": {
        "id": "WW-cYLkdi3G-"
      },
      "source": [
        "Accedemos a los servicios de GEE."
      ]
    },
    {
      "cell_type": "code",
      "metadata": {
        "colab": {
          "base_uri": "https://localhost:8080/"
        },
        "id": "DWAKkSq-MTfz",
        "outputId": "d9fbcfd0-c6bc-4322-b47e-0ecb19ceab87"
      },
      "source": [
        "# Authenticate to Earth Engine\n",
        "!earthengine authenticate"
      ],
      "execution_count": null,
      "outputs": [
        {
          "output_type": "stream",
          "text": [
            "/usr/local/lib/python3.7/dist-packages/requests/__init__.py:91: RequestsDependencyWarning: urllib3 (1.26.3) or chardet (3.0.4) doesn't match a supported version!\n",
            "  RequestsDependencyWarning)\n",
            "WARNING:tensorflow:From /usr/local/lib/python3.7/dist-packages/tensorflow/python/compat/v2_compat.py:96: disable_resource_variables (from tensorflow.python.ops.variable_scope) is deprecated and will be removed in a future version.\n",
            "Instructions for updating:\n",
            "non-resource variables are not supported in the long term\n",
            "Running command using Cloud API.  Set --no-use_cloud_api to go back to using the API\n",
            "\n",
            "To authorize access needed by Earth Engine, open the following URL in a web browser and follow the instructions. If the web browser does not start automatically, please manually browse the URL below.\n",
            "\n",
            "    https://accounts.google.com/o/oauth2/auth?client_id=517222506229-vsmmajv00ul0bs7p89v5m89qs8eb9359.apps.googleusercontent.com&scope=https%3A%2F%2Fwww.googleapis.com%2Fauth%2Fearthengine+https%3A%2F%2Fwww.googleapis.com%2Fauth%2Fdevstorage.full_control&redirect_uri=urn%3Aietf%3Awg%3Aoauth%3A2.0%3Aoob&response_type=code&code_challenge=TCeJuZuM9y-bYPEWWeWSaDV_AI9YqurlY9f-LbbB6Is&code_challenge_method=S256\n",
            "\n",
            "The authorization workflow will generate a code, which you should paste in the box below. \n",
            "Enter verification code: 4/1AY0e-g7jIkHzOHeRUUhL2h_6xoxEge1iIRMk3TE894TC07pf4ZUD4jwv2fg\n",
            "\n",
            "Successfully saved authorization token.\n"
          ],
          "name": "stdout"
        }
      ]
    },
    {
      "cell_type": "markdown",
      "metadata": {
        "id": "KS_PwX_9i3HC"
      },
      "source": [
        "Procedamos a importar algunos paquetes necesarios."
      ]
    },
    {
      "cell_type": "code",
      "metadata": {
        "id": "vVGFiNtPOKJL"
      },
      "source": [
        "# import packages\n",
        "import matplotlib.pyplot as plt\n",
        "from pprint import  pprint\n",
        "import eeconvert\n",
        "import ee\n",
        "import folium\n",
        "import geemap\n",
        "import geopandas\n",
        "from datetime import date\n",
        "from datetime import datetime\n",
        "import arrow\n",
        "import pandas as pd\n",
        "import ipywidgets as widgets\n",
        "from IPython.display import display\n",
        "import warnings\n",
        "warnings.filterwarnings('ignore')"
      ],
      "execution_count": null,
      "outputs": []
    },
    {
      "cell_type": "markdown",
      "metadata": {
        "id": "aeuBtWbYi3HE"
      },
      "source": [
        "Inicialicemos GEE. "
      ]
    },
    {
      "cell_type": "code",
      "metadata": {
        "id": "y5BpzmiucmEG"
      },
      "source": [
        "# initialize GEE\n",
        "ee.Initialize()"
      ],
      "execution_count": null,
      "outputs": []
    },
    {
      "cell_type": "markdown",
      "metadata": {
        "id": "UySpAquii3HF"
      },
      "source": [
        "Accedamos a los servicios de almacenamiento de Google Drive."
      ]
    },
    {
      "cell_type": "code",
      "metadata": {
        "colab": {
          "base_uri": "https://localhost:8080/"
        },
        "id": "1jYeYUR7DXVa",
        "outputId": "cec3ef44-8e8a-435a-84a6-5b4630fba652"
      },
      "source": [
        "# Authenticate to Google Drive\n",
        "# Mount Google Drive\n",
        "from google.colab import drive # import drive from google colab\n",
        "\n",
        "# default location for the drive\n",
        "ROOT = \"/content/drive\" \n",
        "print(ROOT) # print content of ROOT (optional)\n",
        "\n",
        "drive.mount(ROOT) # we mount the google drive at /content/drive"
      ],
      "execution_count": null,
      "outputs": [
        {
          "output_type": "stream",
          "text": [
            "/content/drive\n",
            "Mounted at /content/drive\n"
          ],
          "name": "stdout"
        }
      ]
    },
    {
      "cell_type": "markdown",
      "metadata": {
        "id": "-0MHFy79i3HH"
      },
      "source": [
        "Cambiémonos a nuestra carpeta de trabajo"
      ]
    },
    {
      "cell_type": "code",
      "metadata": {
        "colab": {
          "base_uri": "https://localhost:8080/"
        },
        "id": "o9dIihyn3fu_",
        "outputId": "80152e70-576a-4410-8bc3-9c15830dcab1"
      },
      "source": [
        "%cd \"drive/MyDrive/Colab_Notebooks/Taller_GEE_Inc_2021\""
      ],
      "execution_count": null,
      "outputs": [
        {
          "output_type": "stream",
          "text": [
            "/content/drive/MyDrive/Colab_Notebooks/Taller_GEE_Inc_2021\n"
          ],
          "name": "stdout"
        }
      ]
    },
    {
      "cell_type": "code",
      "metadata": {
        "id": "wSC2n2L6p7tG"
      },
      "source": [
        "level = ['Nivel 2', 'Nivel 3', 'Nivel 4', 'Nivel 5', 'Nivel 6','Nivel 7', 'Nivel 8', 'Nivel 9', 'Nivel 10', 'Nivel 11', 'Nivel 12']"
      ],
      "execution_count": null,
      "outputs": []
    },
    {
      "cell_type": "code",
      "metadata": {
        "colab": {
          "base_uri": "https://localhost:8080/",
          "height": 67,
          "referenced_widgets": [
            "711c10300ab24c958bd0f0424750e553",
            "daee23cd90d94739800fcaef0f541ffa",
            "b8705bd9634b4feb828ab875f629580a"
          ]
        },
        "id": "UaNGwfU3og_P",
        "outputId": "77b6a1b6-ff09-4a64-8e09-024bc878d55a"
      },
      "source": [
        "# set up a Jupyter Notebook dropdown widget to pick up a basin level\r\n",
        "w = widgets.Dropdown(\r\n",
        "    options= level,\r\n",
        "    value='Nivel 2'\r\n",
        "\r\n",
        ")\r\n",
        "print('Seleccione un Nivel de Cuencas')\r\n",
        "display(w)"
      ],
      "execution_count": null,
      "outputs": [
        {
          "output_type": "stream",
          "text": [
            "Seleccione un Nivel de Cuencas\n"
          ],
          "name": "stdout"
        },
        {
          "output_type": "display_data",
          "data": {
            "application/vnd.jupyter.widget-view+json": {
              "model_id": "711c10300ab24c958bd0f0424750e553",
              "version_minor": 0,
              "version_major": 2
            },
            "text/plain": [
              "Dropdown(options=('Nivel 2', 'Nivel 3', 'Nivel 4', 'Nivel 5', 'Nivel 6', 'Nivel 7', 'Nivel 8', 'Nivel 9', 'Niv…"
            ]
          },
          "metadata": {
            "tags": []
          }
        }
      ]
    },
    {
      "cell_type": "code",
      "metadata": {
        "id": "vRqDFADU5nll"
      },
      "source": [
        "if w.value == level[0]:\r\n",
        "  endurl = 'hybas_2'\r\n",
        "elif w.value == level[1]:\r\n",
        "  endurl = 'hybas_3'\r\n",
        "elif w.value == level[2]:\r\n",
        "  endurl = 'hybas_4'\r\n",
        "elif w.value == level[3]:\r\n",
        "  endurl = 'hybas_5'\r\n",
        "elif w.value == level[4]:\r\n",
        "  endurl = 'hybas_6'\r\n",
        "elif w.value == level[5]:\r\n",
        "  endurl = 'hybas_7'\r\n",
        "elif w.value == level[6]:\r\n",
        "  endurl = 'hybas_8'\r\n",
        "elif w.value == level[7]:\r\n",
        "  endurl = 'hybas_9'\r\n",
        "elif w.value == level[8]:\r\n",
        "  endurl = 'hybas_10'\r\n",
        "elif w.value == level[9]:\r\n",
        "  endurl = 'hybas_11'\r\n",
        "else:\r\n",
        "  endurl = 'hybas_12'"
      ],
      "execution_count": null,
      "outputs": []
    },
    {
      "cell_type": "code",
      "metadata": {
        "colab": {
          "base_uri": "https://localhost:8080/"
        },
        "id": "l11FQuGOOZf-",
        "outputId": "2ee12b9f-b936-4f65-f330-d8b53f0c1a5e"
      },
      "source": [
        "colSnippet = 'WWF/HydroSHEDS/v1/Basins/' + endurl\r\n",
        "print(colSnippet)"
      ],
      "execution_count": null,
      "outputs": [
        {
          "output_type": "stream",
          "text": [
            "WWF/HydroSHEDS/v1/Basins/hybas_2\n"
          ],
          "name": "stdout"
        }
      ]
    },
    {
      "cell_type": "markdown",
      "metadata": {
        "id": "xruQtc7URprN"
      },
      "source": [
        "Creamos una lista con los IDs de las cuencas en Suramérica, filtramos la colección `WWF HydroSHEDS Basins del nivel 2` de acuerdo a la lista y luego unimos para obtener el polígono de Sur América que será empleado para cortar los datos del GLDAS."
      ]
    },
    {
      "cell_type": "code",
      "metadata": {
        "id": "I19QP2W4DjWM"
      },
      "source": [
        "basin_id = [6020029280, 6020017370, 6020021870, 6020008320,  6020014330, 6020000010, 6020006540];\r\n",
        "\r\n",
        "southAmer = (ee.FeatureCollection(WWF/HydroSHEDS/v1/Basins/hybas_2)\r\n",
        "         .filter(ee.Filter.inList('HYBAS_ID',basin_id))\r\n",
        "         .union()\r\n",
        ")"
      ],
      "execution_count": null,
      "outputs": []
    },
    {
      "cell_type": "markdown",
      "metadata": {
        "id": "1hFprKhvUDEW"
      },
      "source": [
        "Creamos un polígono para filtrar las cuencas de nivel seleccionado."
      ]
    },
    {
      "cell_type": "code",
      "metadata": {
        "id": "Mkqyv0c8ePvS"
      },
      "source": [
        "geometry = ee.Geometry.Polygon([[[-73.29873105727071, 13.479144572417201],\r\n",
        "                                [-75.44126165031963, 11.486147543732507],\r\n",
        "                                [-75.43833095188438, 7.191350227504306],\r\n",
        "                                [-78.57216855727071, 4.284821423021577],\r\n",
        "                                [-85.25185605727071, -5.371263035360049],\r\n",
        "                                [-76.28701230727071, -24.30326838962132],\r\n",
        "                                [-77.69326230727071, -56.032905509323086],\r\n",
        "                                [-63.279199807270714, -59.04972038791961],\r\n",
        "                                [-55.544824807270714, -47.94300457794506],\r\n",
        "                                [-54.314356057270714, -38.35563126516214],\r\n",
        "                                [-26.540918557270714, -5.136947070874553],\r\n",
        "                                [-49.392481057270714, 6.9678245412504305],\r\n",
        "                                [-65.03701230727071, 14.219615877891318]]])"
      ],
      "execution_count": null,
      "outputs": []
    },
    {
      "cell_type": "code",
      "metadata": {
        "id": "v-P52dNHUAmy"
      },
      "source": [
        "basins = (ee.FeatureCollection(colSnippet)\r\n",
        "          .filterBounds(geometry)\r\n",
        ")"
      ],
      "execution_count": null,
      "outputs": []
    },
    {
      "cell_type": "markdown",
      "metadata": {
        "id": "5iBWQmvzi3HM"
      },
      "source": [
        "Ahora visualicemos el polígono de Suramérica y las cuencas Suramérica en un mapa."
      ]
    },
    {
      "cell_type": "code",
      "metadata": {
        "colab": {
          "base_uri": "https://localhost:8080/",
          "height": 689
        },
        "id": "syLpbaysLMcv",
        "outputId": "661dac62-c54e-45b3-f3a2-73abf5cff40e"
      },
      "source": [
        "# create map\n",
        "Map = geemap.Map(center=(-9.84, -62.45), zoom=3)\n",
        "\n",
        "vis_bas = {\n",
        "    'color': '0000FF', \n",
        "    'colorOpacity': 0.80,\n",
        "    'lineType': 'solid', \n",
        "    'fillColorOpacity': 0.66,\n",
        "    'width': 1    \n",
        "}\n",
        "vis_sa = {\n",
        "    'color': '000000', \n",
        "    'colorOpacity': 1,\n",
        "    'lineType': 'solid', \n",
        "    'fillColorOpacity': 1,\n",
        "    'width': 1    \n",
        "}\n",
        "\n",
        "# add layers to map\n",
        "Map.addLayer(southAmer , vis_sa, 'Sur América ', False)\n",
        "Map.addLayer(basins, vis_bas, 'Cuencas', True)\n",
        "Map.addLayerControl()\n",
        "Map"
      ],
      "execution_count": null,
      "outputs": [
        {
          "output_type": "execute_result",
          "data": {
            "text/html": [
              "<div style=\"width:100%;\"><div style=\"position:relative;width:100%;height:0;padding-bottom:60%;\"><span style=\"color:#565656\">Make this Notebook Trusted to load map: File -> Trust Notebook</span><iframe src=\"about:blank\" style=\"position:absolute;width:100%;height:100%;left:0;top:0;border:none !important;\" data-html=%3C%21DOCTYPE%20html%3E%0A%3Chead%3E%20%20%20%20%0A%20%20%20%20%3Cmeta%20http-equiv%3D%22content-type%22%20content%3D%22text/html%3B%20charset%3DUTF-8%22%20/%3E%0A%20%20%20%20%0A%20%20%20%20%20%20%20%20%3Cscript%3E%0A%20%20%20%20%20%20%20%20%20%20%20%20L_NO_TOUCH%20%3D%20false%3B%0A%20%20%20%20%20%20%20%20%20%20%20%20L_DISABLE_3D%20%3D%20false%3B%0A%20%20%20%20%20%20%20%20%3C/script%3E%0A%20%20%20%20%0A%20%20%20%20%3Cstyle%3Ehtml%2C%20body%20%7Bwidth%3A%20100%25%3Bheight%3A%20100%25%3Bmargin%3A%200%3Bpadding%3A%200%3B%7D%3C/style%3E%0A%20%20%20%20%3Cstyle%3E%23map%20%7Bposition%3Aabsolute%3Btop%3A0%3Bbottom%3A0%3Bright%3A0%3Bleft%3A0%3B%7D%3C/style%3E%0A%20%20%20%20%3Cscript%20src%3D%22https%3A//cdn.jsdelivr.net/npm/leaflet%401.6.0/dist/leaflet.js%22%3E%3C/script%3E%0A%20%20%20%20%3Cscript%20src%3D%22https%3A//code.jquery.com/jquery-1.12.4.min.js%22%3E%3C/script%3E%0A%20%20%20%20%3Cscript%20src%3D%22https%3A//maxcdn.bootstrapcdn.com/bootstrap/3.2.0/js/bootstrap.min.js%22%3E%3C/script%3E%0A%20%20%20%20%3Cscript%20src%3D%22https%3A//cdnjs.cloudflare.com/ajax/libs/Leaflet.awesome-markers/2.0.2/leaflet.awesome-markers.js%22%3E%3C/script%3E%0A%20%20%20%20%3Clink%20rel%3D%22stylesheet%22%20href%3D%22https%3A//cdn.jsdelivr.net/npm/leaflet%401.6.0/dist/leaflet.css%22/%3E%0A%20%20%20%20%3Clink%20rel%3D%22stylesheet%22%20href%3D%22https%3A//maxcdn.bootstrapcdn.com/bootstrap/3.2.0/css/bootstrap.min.css%22/%3E%0A%20%20%20%20%3Clink%20rel%3D%22stylesheet%22%20href%3D%22https%3A//maxcdn.bootstrapcdn.com/bootstrap/3.2.0/css/bootstrap-theme.min.css%22/%3E%0A%20%20%20%20%3Clink%20rel%3D%22stylesheet%22%20href%3D%22https%3A//maxcdn.bootstrapcdn.com/font-awesome/4.6.3/css/font-awesome.min.css%22/%3E%0A%20%20%20%20%3Clink%20rel%3D%22stylesheet%22%20href%3D%22https%3A//cdnjs.cloudflare.com/ajax/libs/Leaflet.awesome-markers/2.0.2/leaflet.awesome-markers.css%22/%3E%0A%20%20%20%20%3Clink%20rel%3D%22stylesheet%22%20href%3D%22https%3A//cdn.jsdelivr.net/gh/python-visualization/folium/folium/templates/leaflet.awesome.rotate.min.css%22/%3E%0A%20%20%20%20%0A%20%20%20%20%20%20%20%20%20%20%20%20%3Cmeta%20name%3D%22viewport%22%20content%3D%22width%3Ddevice-width%2C%0A%20%20%20%20%20%20%20%20%20%20%20%20%20%20%20%20initial-scale%3D1.0%2C%20maximum-scale%3D1.0%2C%20user-scalable%3Dno%22%20/%3E%0A%20%20%20%20%20%20%20%20%20%20%20%20%3Cstyle%3E%0A%20%20%20%20%20%20%20%20%20%20%20%20%20%20%20%20%23map_7d466d07badf48d09c82035b9025779c%20%7B%0A%20%20%20%20%20%20%20%20%20%20%20%20%20%20%20%20%20%20%20%20position%3A%20relative%3B%0A%20%20%20%20%20%20%20%20%20%20%20%20%20%20%20%20%20%20%20%20width%3A%20100.0%25%3B%0A%20%20%20%20%20%20%20%20%20%20%20%20%20%20%20%20%20%20%20%20height%3A%20100.0%25%3B%0A%20%20%20%20%20%20%20%20%20%20%20%20%20%20%20%20%20%20%20%20left%3A%200.0%25%3B%0A%20%20%20%20%20%20%20%20%20%20%20%20%20%20%20%20%20%20%20%20top%3A%200.0%25%3B%0A%20%20%20%20%20%20%20%20%20%20%20%20%20%20%20%20%7D%0A%20%20%20%20%20%20%20%20%20%20%20%20%3C/style%3E%0A%20%20%20%20%20%20%20%20%0A%20%20%20%20%3Cscript%20src%3D%22https%3A//cdnjs.cloudflare.com/ajax/libs/leaflet.fullscreen/1.4.2/Control.FullScreen.min.js%22%3E%3C/script%3E%0A%20%20%20%20%3Clink%20rel%3D%22stylesheet%22%20href%3D%22https%3A//cdnjs.cloudflare.com/ajax/libs/leaflet.fullscreen/1.4.2/Control.FullScreen.min.css%22/%3E%0A%3C/head%3E%0A%3Cbody%3E%20%20%20%20%0A%20%20%20%20%0A%20%20%20%20%20%20%20%20%20%20%20%20%3Cdiv%20class%3D%22folium-map%22%20id%3D%22map_7d466d07badf48d09c82035b9025779c%22%20%3E%3C/div%3E%0A%20%20%20%20%20%20%20%20%0A%3C/body%3E%0A%3Cscript%3E%20%20%20%20%0A%20%20%20%20%0A%20%20%20%20%20%20%20%20%20%20%20%20var%20map_7d466d07badf48d09c82035b9025779c%20%3D%20L.map%28%0A%20%20%20%20%20%20%20%20%20%20%20%20%20%20%20%20%22map_7d466d07badf48d09c82035b9025779c%22%2C%0A%20%20%20%20%20%20%20%20%20%20%20%20%20%20%20%20%7B%0A%20%20%20%20%20%20%20%20%20%20%20%20%20%20%20%20%20%20%20%20center%3A%20%5B-9.84%2C%20-62.45%5D%2C%0A%20%20%20%20%20%20%20%20%20%20%20%20%20%20%20%20%20%20%20%20crs%3A%20L.CRS.EPSG3857%2C%0A%20%20%20%20%20%20%20%20%20%20%20%20%20%20%20%20%20%20%20%20zoom%3A%203%2C%0A%20%20%20%20%20%20%20%20%20%20%20%20%20%20%20%20%20%20%20%20zoomControl%3A%20true%2C%0A%20%20%20%20%20%20%20%20%20%20%20%20%20%20%20%20%20%20%20%20preferCanvas%3A%20false%2C%0A%20%20%20%20%20%20%20%20%20%20%20%20%20%20%20%20%20%20%20%20eeInitialize%3A%20true%2C%0A%20%20%20%20%20%20%20%20%20%20%20%20%20%20%20%20%20%20%20%20addGoogleMap%3A%20true%2C%0A%20%20%20%20%20%20%20%20%20%20%20%20%20%20%20%20%20%20%20%20pluginLatlngpopup%3A%20true%2C%0A%20%20%20%20%20%20%20%20%20%20%20%20%20%20%20%20%20%20%20%20pluginFullscreen%3A%20true%2C%0A%20%20%20%20%20%20%20%20%20%20%20%20%20%20%20%20%20%20%20%20pluginDraw%3A%20false%2C%0A%20%20%20%20%20%20%20%20%20%20%20%20%20%20%20%20%20%20%20%20DrawExport%3A%20true%2C%0A%20%20%20%20%20%20%20%20%20%20%20%20%20%20%20%20%20%20%20%20pluginMinimap%3A%20false%2C%0A%20%20%20%20%20%20%20%20%20%20%20%20%20%20%20%20%20%20%20%20pluginLayercontrol%3A%20false%2C%0A%20%20%20%20%20%20%20%20%20%20%20%20%20%20%20%20%7D%0A%20%20%20%20%20%20%20%20%20%20%20%20%29%3B%0A%0A%20%20%20%20%20%20%20%20%20%20%20%20%0A%0A%20%20%20%20%20%20%20%20%0A%20%20%20%20%0A%20%20%20%20%20%20%20%20%20%20%20%20var%20tile_layer_fb5d67a5cf1a4b2d857747896e556d96%20%3D%20L.tileLayer%28%0A%20%20%20%20%20%20%20%20%20%20%20%20%20%20%20%20%22https%3A//%7Bs%7D.tile.openstreetmap.org/%7Bz%7D/%7Bx%7D/%7By%7D.png%22%2C%0A%20%20%20%20%20%20%20%20%20%20%20%20%20%20%20%20%7B%22attribution%22%3A%20%22Data%20by%20%5Cu0026copy%3B%20%5Cu003ca%20href%3D%5C%22http%3A//openstreetmap.org%5C%22%5Cu003eOpenStreetMap%5Cu003c/a%5Cu003e%2C%20under%20%5Cu003ca%20href%3D%5C%22http%3A//www.openstreetmap.org/copyright%5C%22%5Cu003eODbL%5Cu003c/a%5Cu003e.%22%2C%20%22detectRetina%22%3A%20false%2C%20%22maxNativeZoom%22%3A%2018%2C%20%22maxZoom%22%3A%2018%2C%20%22minZoom%22%3A%200%2C%20%22noWrap%22%3A%20false%2C%20%22opacity%22%3A%201%2C%20%22subdomains%22%3A%20%22abc%22%2C%20%22tms%22%3A%20false%7D%0A%20%20%20%20%20%20%20%20%20%20%20%20%29.addTo%28map_7d466d07badf48d09c82035b9025779c%29%3B%0A%20%20%20%20%20%20%20%20%0A%20%20%20%20%0A%20%20%20%20%20%20%20%20%20%20%20%20var%20tile_layer_0d857b01e37f4e828e349cb70152b6ec%20%3D%20L.tileLayer%28%0A%20%20%20%20%20%20%20%20%20%20%20%20%20%20%20%20%22https%3A//mt1.google.com/vt/lyrs%3Dm%5Cu0026x%3D%7Bx%7D%5Cu0026y%3D%7By%7D%5Cu0026z%3D%7Bz%7D%22%2C%0A%20%20%20%20%20%20%20%20%20%20%20%20%20%20%20%20%7B%22attribution%22%3A%20%22Google%22%2C%20%22detectRetina%22%3A%20false%2C%20%22maxNativeZoom%22%3A%2018%2C%20%22maxZoom%22%3A%2018%2C%20%22minZoom%22%3A%200%2C%20%22noWrap%22%3A%20false%2C%20%22opacity%22%3A%201%2C%20%22subdomains%22%3A%20%22abc%22%2C%20%22tms%22%3A%20false%7D%0A%20%20%20%20%20%20%20%20%20%20%20%20%29.addTo%28map_7d466d07badf48d09c82035b9025779c%29%3B%0A%20%20%20%20%20%20%20%20%0A%20%20%20%20%0A%20%20%20%20%20%20%20%20%20%20%20%20%20%20%20%20var%20lat_lng_popup_73c3148c5b3140458cb4f2f5b941aa1e%20%3D%20L.popup%28%29%3B%0A%20%20%20%20%20%20%20%20%20%20%20%20%20%20%20%20function%20latLngPop%28e%29%20%7B%0A%20%20%20%20%20%20%20%20%20%20%20%20%20%20%20%20%20%20%20%20lat_lng_popup_73c3148c5b3140458cb4f2f5b941aa1e%0A%20%20%20%20%20%20%20%20%20%20%20%20%20%20%20%20%20%20%20%20%20%20%20%20.setLatLng%28e.latlng%29%0A%20%20%20%20%20%20%20%20%20%20%20%20%20%20%20%20%20%20%20%20%20%20%20%20.setContent%28%22Latitude%3A%20%22%20%2B%20e.latlng.lat.toFixed%284%29%20%2B%0A%20%20%20%20%20%20%20%20%20%20%20%20%20%20%20%20%20%20%20%20%20%20%20%20%20%20%20%20%20%20%20%20%20%20%20%20%22%3Cbr%3ELongitude%3A%20%22%20%2B%20e.latlng.lng.toFixed%284%29%29%0A%20%20%20%20%20%20%20%20%20%20%20%20%20%20%20%20%20%20%20%20%20%20%20%20.openOn%28map_7d466d07badf48d09c82035b9025779c%29%3B%0A%20%20%20%20%20%20%20%20%20%20%20%20%20%20%20%20%20%20%20%20%7D%0A%20%20%20%20%20%20%20%20%20%20%20%20%20%20%20%20map_7d466d07badf48d09c82035b9025779c.on%28%27click%27%2C%20latLngPop%29%3B%0A%20%20%20%20%20%20%20%20%20%20%20%20%0A%20%20%20%20%0A%20%20%20%20%20%20%20%20%20%20%20%20L.control.fullscreen%28%0A%20%20%20%20%20%20%20%20%20%20%20%20%20%20%20%20%7B%22forceSeparateButton%22%3A%20false%2C%20%22position%22%3A%20%22topleft%22%2C%20%22title%22%3A%20%22Full%20Screen%22%2C%20%22titleCancel%22%3A%20%22Exit%20Full%20Screen%22%7D%0A%20%20%20%20%20%20%20%20%20%20%20%20%29.addTo%28map_7d466d07badf48d09c82035b9025779c%29%3B%0A%20%20%20%20%20%20%20%20%0A%20%20%20%20%0A%20%20%20%20%20%20%20%20%20%20%20%20map_7d466d07badf48d09c82035b9025779c.fitBounds%28%0A%20%20%20%20%20%20%20%20%20%20%20%20%20%20%20%20%5B%5B-9.84%2C%20-62.45%5D%2C%20%5B-9.84%2C%20-62.45%5D%5D%2C%0A%20%20%20%20%20%20%20%20%20%20%20%20%20%20%20%20%7B%22maxZoom%22%3A%203%7D%0A%20%20%20%20%20%20%20%20%20%20%20%20%29%3B%0A%20%20%20%20%20%20%20%20%0A%20%20%20%20%0A%20%20%20%20%20%20%20%20%20%20%20%20var%20tile_layer_9e968951bf0f4837ab306c1ed7b8f1ab%20%3D%20L.tileLayer%28%0A%20%20%20%20%20%20%20%20%20%20%20%20%20%20%20%20%22https%3A//earthengine.googleapis.com/v1alpha/projects/earthengine-legacy/maps/afb888114015b1746e53b542545af140-c10d9c3d4f4a9d2055ec15e6db8c786a/tiles/%7Bz%7D/%7Bx%7D/%7By%7D%22%2C%0A%20%20%20%20%20%20%20%20%20%20%20%20%20%20%20%20%7B%22attribution%22%3A%20%22Google%20Earth%20Engine%22%2C%20%22detectRetina%22%3A%20false%2C%20%22maxNativeZoom%22%3A%2018%2C%20%22maxZoom%22%3A%2018%2C%20%22minZoom%22%3A%200%2C%20%22noWrap%22%3A%20false%2C%20%22opacity%22%3A%201.0%2C%20%22subdomains%22%3A%20%22abc%22%2C%20%22tms%22%3A%20false%7D%0A%20%20%20%20%20%20%20%20%20%20%20%20%29.addTo%28map_7d466d07badf48d09c82035b9025779c%29%3B%0A%20%20%20%20%20%20%20%20%0A%20%20%20%20%0A%20%20%20%20%20%20%20%20%20%20%20%20var%20tile_layer_bbb027f5fb30434f9a1f143ee45644c7%20%3D%20L.tileLayer%28%0A%20%20%20%20%20%20%20%20%20%20%20%20%20%20%20%20%22https%3A//earthengine.googleapis.com/v1alpha/projects/earthengine-legacy/maps/783a2bbb7db15007b08a6d7007be3099-54d20d44b39d190ef47e4991159a3398/tiles/%7Bz%7D/%7Bx%7D/%7By%7D%22%2C%0A%20%20%20%20%20%20%20%20%20%20%20%20%20%20%20%20%7B%22attribution%22%3A%20%22Google%20Earth%20Engine%22%2C%20%22detectRetina%22%3A%20false%2C%20%22maxNativeZoom%22%3A%2018%2C%20%22maxZoom%22%3A%2018%2C%20%22minZoom%22%3A%200%2C%20%22noWrap%22%3A%20false%2C%20%22opacity%22%3A%201.0%2C%20%22subdomains%22%3A%20%22abc%22%2C%20%22tms%22%3A%20false%7D%0A%20%20%20%20%20%20%20%20%20%20%20%20%29.addTo%28map_7d466d07badf48d09c82035b9025779c%29%3B%0A%20%20%20%20%20%20%20%20%0A%20%20%20%20%0A%20%20%20%20%20%20%20%20%20%20%20%20var%20layer_control_c39ce9df1aab461d936daad6d43900d3%20%3D%20%7B%0A%20%20%20%20%20%20%20%20%20%20%20%20%20%20%20%20base_layers%20%3A%20%7B%0A%20%20%20%20%20%20%20%20%20%20%20%20%20%20%20%20%20%20%20%20%22openstreetmap%22%20%3A%20tile_layer_fb5d67a5cf1a4b2d857747896e556d96%2C%0A%20%20%20%20%20%20%20%20%20%20%20%20%20%20%20%20%7D%2C%0A%20%20%20%20%20%20%20%20%20%20%20%20%20%20%20%20overlays%20%3A%20%20%7B%0A%20%20%20%20%20%20%20%20%20%20%20%20%20%20%20%20%20%20%20%20%22Google%20Maps%22%20%3A%20tile_layer_0d857b01e37f4e828e349cb70152b6ec%2C%0A%20%20%20%20%20%20%20%20%20%20%20%20%20%20%20%20%20%20%20%20%22Sur%20Am%5Cu00e9rica%20%22%20%3A%20tile_layer_9e968951bf0f4837ab306c1ed7b8f1ab%2C%0A%20%20%20%20%20%20%20%20%20%20%20%20%20%20%20%20%20%20%20%20%22Cuencas%22%20%3A%20tile_layer_bbb027f5fb30434f9a1f143ee45644c7%2C%0A%20%20%20%20%20%20%20%20%20%20%20%20%20%20%20%20%7D%2C%0A%20%20%20%20%20%20%20%20%20%20%20%20%7D%3B%0A%20%20%20%20%20%20%20%20%20%20%20%20L.control.layers%28%0A%20%20%20%20%20%20%20%20%20%20%20%20%20%20%20%20layer_control_c39ce9df1aab461d936daad6d43900d3.base_layers%2C%0A%20%20%20%20%20%20%20%20%20%20%20%20%20%20%20%20layer_control_c39ce9df1aab461d936daad6d43900d3.overlays%2C%0A%20%20%20%20%20%20%20%20%20%20%20%20%20%20%20%20%7B%22autoZIndex%22%3A%20true%2C%20%22collapsed%22%3A%20true%2C%20%22position%22%3A%20%22topright%22%7D%0A%20%20%20%20%20%20%20%20%20%20%20%20%29.addTo%28map_7d466d07badf48d09c82035b9025779c%29%3B%0A%20%20%20%20%20%20%20%20%20%20%20%20tile_layer_9e968951bf0f4837ab306c1ed7b8f1ab.remove%28%29%3B%0A%20%20%20%20%20%20%20%20%0A%3C/script%3E onload=\"this.contentDocument.open();this.contentDocument.write(    decodeURIComponent(this.getAttribute('data-html')));this.contentDocument.close();\" allowfullscreen webkitallowfullscreen mozallowfullscreen></iframe></div></div>"
            ],
            "text/plain": [
              "<geemap.eefolium.Map at 0x7f58b2154050>"
            ]
          },
          "metadata": {
            "tags": []
          },
          "execution_count": 90
        }
      ]
    },
    {
      "cell_type": "markdown",
      "metadata": {
        "id": "QoBd1JHVoJmW"
      },
      "source": [
        "Seleccionamos la fechas de nuestro periodo de estudio. Si el periodo de tiempo es entre el 01 de enero y el 31 enero, la fecha final debe ser un día adicional de la fecha final deseada, en este caso 01 de febrero."
      ]
    },
    {
      "cell_type": "code",
      "metadata": {
        "id": "WBSHLGDwV270"
      },
      "source": [
        "start = widgets.DatePicker(\r\n",
        "    description='Fecha Inicial',\r\n",
        "    disabled=False\r\n",
        ")"
      ],
      "execution_count": null,
      "outputs": []
    },
    {
      "cell_type": "code",
      "metadata": {
        "colab": {
          "base_uri": "https://localhost:8080/",
          "height": 49,
          "referenced_widgets": [
            "66a8de59c9814110a3139e98d8a392ac",
            "86f1bf4f297c497a8ff75624ef53b3f3",
            "8ccde43995194d8eb3c3e01a47d4a17e"
          ]
        },
        "id": "5EYhSVm-l_K3",
        "outputId": "0c056b4f-503d-4460-ee79-0dbd5be25462"
      },
      "source": [
        "display(start)"
      ],
      "execution_count": null,
      "outputs": [
        {
          "output_type": "display_data",
          "data": {
            "application/vnd.jupyter.widget-view+json": {
              "model_id": "66a8de59c9814110a3139e98d8a392ac",
              "version_minor": 0,
              "version_major": 2
            },
            "text/plain": [
              "DatePicker(value=None, description='Fecha Inicial')"
            ]
          },
          "metadata": {
            "tags": []
          }
        }
      ]
    },
    {
      "cell_type": "code",
      "metadata": {
        "id": "hSmoTH86nMW4"
      },
      "source": [
        "end = widgets.DatePicker(\r\n",
        "    description='Fecha Final',\r\n",
        "    disabled=False\r\n",
        ")"
      ],
      "execution_count": null,
      "outputs": []
    },
    {
      "cell_type": "code",
      "metadata": {
        "colab": {
          "base_uri": "https://localhost:8080/",
          "height": 49,
          "referenced_widgets": [
            "f45ce4337c0d4af1b1aa6c8a53268ff9",
            "42f4d020d40e47f98c72fb6308b952d7",
            "b2e5c67aa24a46639fa3f1a3089cbf00"
          ]
        },
        "id": "4sctAV0PnTNr",
        "outputId": "1eb6a7c5-9093-446f-8b78-1522eceb5967"
      },
      "source": [
        "display(end)"
      ],
      "execution_count": null,
      "outputs": [
        {
          "output_type": "display_data",
          "data": {
            "application/vnd.jupyter.widget-view+json": {
              "model_id": "f45ce4337c0d4af1b1aa6c8a53268ff9",
              "version_minor": 0,
              "version_major": 2
            },
            "text/plain": [
              "DatePicker(value=None, description='Fecha Final')"
            ]
          },
          "metadata": {
            "tags": []
          }
        }
      ]
    },
    {
      "cell_type": "code",
      "metadata": {
        "colab": {
          "base_uri": "https://localhost:8080/"
        },
        "id": "ZqTG9HSRnVgv",
        "outputId": "0a1e13d1-eb55-4513-edcd-add5b38538c8"
      },
      "source": [
        "print(end.value)"
      ],
      "execution_count": null,
      "outputs": [
        {
          "output_type": "stream",
          "text": [
            "2019-12-31\n"
          ],
          "name": "stdout"
        }
      ]
    },
    {
      "cell_type": "markdown",
      "metadata": {
        "id": "Ba67VBZfi3HM"
      },
      "source": [
        "Calculemos las fechas del primer día del mes entre un periodo de tiempo determinado."
      ]
    },
    {
      "cell_type": "code",
      "metadata": {
        "id": "7ss1DulrK_yb"
      },
      "source": [
        "def ini_dates(start, end):\n",
        "    \n",
        "    '''function to create a pandas series containing the first day of a month for given period\n",
        "    Argumets:\n",
        "    start: initial date in format 'year-month-day'\n",
        "    end: final date in format 'year-month-day'\n",
        "    \n",
        "    return: a pandas Series with dates in format 'year-month-day'\n",
        "        \n",
        "    Example: if you want to get the first day between January and February you should enter \n",
        "    '2000-01-01' as initial date and '2000-03-01' as final date\n",
        "    '''\n",
        "    range= pd.date_range(start,end , freq='1M')-pd.offsets.MonthBegin(1)\n",
        "    serie = pd.Series(range.format())\n",
        "    \n",
        "    return serie"
      ],
      "execution_count": null,
      "outputs": []
    },
    {
      "cell_type": "code",
      "metadata": {
        "id": "mTqmuvydi3HN"
      },
      "source": [
        "startDates = ini_dates(start.value,end.value)"
      ],
      "execution_count": null,
      "outputs": []
    },
    {
      "cell_type": "code",
      "metadata": {
        "colab": {
          "base_uri": "https://localhost:8080/"
        },
        "id": "Uh8e55S9i3HO",
        "outputId": "ce32a91b-3a89-4be2-cf35-d3b9ec28f599"
      },
      "source": [
        "startDates"
      ],
      "execution_count": null,
      "outputs": [
        {
          "output_type": "execute_result",
          "data": {
            "text/plain": [
              "0      2000-01-01\n",
              "1      2000-02-01\n",
              "2      2000-03-01\n",
              "3      2000-04-01\n",
              "4      2000-05-01\n",
              "          ...    \n",
              "235    2019-08-01\n",
              "236    2019-09-01\n",
              "237    2019-10-01\n",
              "238    2019-11-01\n",
              "239    2019-12-01\n",
              "Length: 240, dtype: object"
            ]
          },
          "metadata": {
            "tags": []
          },
          "execution_count": 120
        }
      ]
    },
    {
      "cell_type": "markdown",
      "metadata": {
        "id": "6Qw2Gd-8i3HO"
      },
      "source": [
        "Calculemos las fechas del último día del mes entre un periodo de tiempo determinado."
      ]
    },
    {
      "cell_type": "code",
      "metadata": {
        "id": "X-x3oOb0i3HP"
      },
      "source": [
        "def fin_dates(start, end):\n",
        "    \n",
        "    '''function to create a pandas series containing the last day of a month for given period\n",
        "    Argumets:\n",
        "    start: initial date in format 'year-month-day'\n",
        "    end: final date in format 'year-month-day'\n",
        "    \n",
        "    return: a pandas Series with dates in format 'year-month-day'\n",
        "        \n",
        "    Example: if you want to get the last day between January and February you should enter \n",
        "    '2000-01-01' as initial date and '2000-03-01' as final date\n",
        "    '''\n",
        "    range= pd.date_range(start,end , freq='1M')-pd.offsets.MonthEnd(0)\n",
        "    serie = pd.Series(range.format())\n",
        "    \n",
        "    return serie"
      ],
      "execution_count": null,
      "outputs": []
    },
    {
      "cell_type": "code",
      "metadata": {
        "id": "XE4Ih7vRi3HQ"
      },
      "source": [
        "endDates = fin_dates(start.value,end.value)"
      ],
      "execution_count": null,
      "outputs": []
    },
    {
      "cell_type": "code",
      "metadata": {
        "colab": {
          "base_uri": "https://localhost:8080/"
        },
        "id": "Jr_uZQtGi3HQ",
        "outputId": "57450216-ef6c-43f0-ea7b-3e3da2b8b99c"
      },
      "source": [
        "endDates"
      ],
      "execution_count": null,
      "outputs": [
        {
          "output_type": "execute_result",
          "data": {
            "text/plain": [
              "0      2000-01-31\n",
              "1      2000-02-29\n",
              "2      2000-03-31\n",
              "3      2000-04-30\n",
              "4      2000-05-31\n",
              "          ...    \n",
              "235    2019-08-31\n",
              "236    2019-09-30\n",
              "237    2019-10-31\n",
              "238    2019-11-30\n",
              "239    2019-12-31\n",
              "Length: 240, dtype: object"
            ]
          },
          "metadata": {
            "tags": []
          },
          "execution_count": 126
        }
      ]
    },
    {
      "cell_type": "markdown",
      "metadata": {
        "id": "v4DA6WvQi3HQ"
      },
      "source": [
        "En esta sección vamos a calcular Balance de Agua Superficial y el Volumen de Agua por mes para el período y área de estudio. Luego calcularemos las estadísticas zonales (media) del BAS para cada cuenca. Convertiremos el FeatureCollection a un GeoDataFrame para calcular el área por cuenca y el volumen de agua por cuenca. Luego se almacenará toda esta serie temporal en una lista."
      ]
    },
    {
      "cell_type": "code",
      "metadata": {
        "colab": {
          "background_save": true
        },
        "id": "T_CPKUH0Xq78",
        "scrolled": true
      },
      "source": [
        "# list to store dataframe values\n",
        "lst = []\n",
        " \n",
        "for d1, d2 in zip(startDates, endDates):\n",
        "    # d1: start date\n",
        "    # d2: end date\n",
        "\n",
        "    # calculate number of days between d1 and d2\n",
        "    a = arrow.get(d1)\n",
        "    b = arrow.get(d2)\n",
        "    delta = (b-a)\n",
        "    numdays = delta.days\n",
        "\n",
        "    # GLDAS-2.1: Global Land Data Assimilation System\n",
        "    # https://developers.google.com/earth-engine/datasets/catalog/NASA_GLDAS_V021_NOAH_G025_T3H\n",
        "    dataset = ee.ImageCollection('NASA/GLDAS/V021/NOAH/G025/T3H').filter(ee.Filter.date(d1, d2)) \n",
        "    # select total precipitation rate and calculate the mean\n",
        "    precip_rate = dataset.select('Rainf_f_tavg').mean()\n",
        "    # clip to all basins\n",
        "    precip_clip = precip_rate.clip(southAmer)\n",
        "    # convert units to get monthly data\n",
        "    # precipitation is in kg m^2 s^-1  accumulated over 3 hour interval \n",
        "    # Rainf_f_tavg (month){kg/m2} =\n",
        "    # Rainf_f_tavg (month){kg/m2/sec} * 10800{sec/3hr} * 8{3hr/day} * 30{days}\n",
        "    precip = precip_clip.multiply(10800).multiply(8).multiply(numdays)\n",
        "   \n",
        "    # select evapotranspiration and calculate the mean\n",
        "    evap = dataset.select('Evap_tavg').mean()\n",
        "    # clip to all basins\n",
        "    evap_clip =  evap.clip(southAmer)  \n",
        "    # convert units to get monthly data\n",
        "    # evapotraspiration is in kg m^2 s^-1  accumulated over 3 hour interval \n",
        "    # Evap_tavg (month){kg/m2} =\n",
        "    # Evap_tavg (month){kg/m2/sec} * 10800{sec/3hr} * 8{3hr/day} * 30{days}\n",
        "    ET =  evap_clip.multiply(10800).multiply(8).multiply(numdays) \n",
        "   \n",
        "    # select storm surface runoff and calculate the mean\n",
        "    ssr = dataset.select('Qs_acc').mean()\n",
        "    # clip to all basins\n",
        "    ssr_clip  =  ssr.clip(southAmer)\n",
        "    # convert units to get monthly data\n",
        "    # runoff is in kg m^2  accumulated over 3 hour interval \n",
        "    # Qs_acc (month){kg/m2} = Qs_acc (month){kg/m2/3hr} * 8{3hr/day} * 30{days}\n",
        "    runoff =  ssr_clip.multiply(8).multiply(30)\n",
        "   \n",
        "    # calculate Surface Water Balance\n",
        "    SWB= precip.subtract(ET);\n",
        "    WB = SWB.subtract(runoff).rename('WB');\n",
        "   \n",
        "    # add reducer output to the features in the collection.\n",
        "    # add the mean of  Surface Water Balance to each basin\n",
        "    saBasinsWB = WB.reduceRegions(**{\n",
        "        'collection': saBasins,\n",
        "        'reducer': ee.Reducer.mean(),\n",
        "        'scale': 30000\n",
        "    })\n",
        "    # conver fc to gdf\n",
        "    df = eeconvert.fcToGdf(saBasinsWB)\n",
        "\n",
        "    # create FECHA column\n",
        "    df['FECHA'] =  d1.replace('-', '')[:-2]\n",
        "   \n",
        "    # reproject to South America Albers Equal Area Conic\n",
        "    df_proj= df.to_crs(\"+proj=aea +lat_1=-5 +lat_2=-42 +lat_0=-32 +lon_0=-60 +x_0=0 +y_0=0 +ellps=aust_SA +units=m +no_defs\")\n",
        "   \n",
        "    # calculate area in m^2\n",
        "    df_proj[\"AREA_M2\"] = df_proj['geometry'].area\n",
        "\n",
        "    # calculate water volume in m^3\n",
        "    df_proj[\"VOLUMEN_AGUA_M3\"] =  (df_proj['mean'] / 1000) * df_proj['AREA_M2']\n",
        "   \n",
        "    # select and rename columns\n",
        "    df_proj = df_proj[['HYBAS_ID', 'mean', 'FECHA', 'VOLUMEN_AGUA_M3']]\n",
        "    df_proj = df_proj.rename(columns={'mean': 'WB'})\n",
        "\n",
        "    # reorder columns\n",
        "    df_final = df_proj[['FECHA', 'HYBAS_ID','WB', 'VOLUMEN_AGUA_M3']]\n",
        "   \n",
        "    # df values to list\n",
        "    dflist = df_final.values.tolist()\n",
        "    # append dflist to another list\n",
        "    lst.append(dflist)"
      ],
      "execution_count": null,
      "outputs": []
    },
    {
      "cell_type": "markdown",
      "metadata": {
        "id": "9N0fnhQci3HS"
      },
      "source": [
        "Eliminemos los paréntesis adicionales de la lista."
      ]
    },
    {
      "cell_type": "code",
      "metadata": {
        "id": "X6KIByLikiV8"
      },
      "source": [
        "# flatten list\n",
        "final_list = [i for sublist in lst for i in sublist]"
      ],
      "execution_count": null,
      "outputs": []
    },
    {
      "cell_type": "markdown",
      "metadata": {
        "id": "LXGvTqFei3HT"
      },
      "source": [
        "A partir de la lista anterior vamos a crear una DataFrame, luego los visualizaremos. "
      ]
    },
    {
      "cell_type": "code",
      "metadata": {
        "id": "mYEZI6NYkLuq"
      },
      "source": [
        "# create  new dataframe from final_list\n",
        "df2 = pd.DataFrame(final_list, columns =['FECHA', 'HYBAS_ID','WB', 'VOLUMEN_AGUA_M3'])"
      ],
      "execution_count": null,
      "outputs": []
    },
    {
      "cell_type": "code",
      "metadata": {
        "colab": {
          "base_uri": "https://localhost:8080/",
          "height": 198
        },
        "id": "xiH0w8rlk29w",
        "outputId": "475a96ce-53bb-41e4-966d-5ce8f055d193"
      },
      "source": [
        "# visualize new dataframe\n",
        "df2.head()"
      ],
      "execution_count": null,
      "outputs": [
        {
          "output_type": "execute_result",
          "data": {
            "text/html": [
              "<div>\n",
              "<style scoped>\n",
              "    .dataframe tbody tr th:only-of-type {\n",
              "        vertical-align: middle;\n",
              "    }\n",
              "\n",
              "    .dataframe tbody tr th {\n",
              "        vertical-align: top;\n",
              "    }\n",
              "\n",
              "    .dataframe thead th {\n",
              "        text-align: right;\n",
              "    }\n",
              "</style>\n",
              "<table border=\"1\" class=\"dataframe\">\n",
              "  <thead>\n",
              "    <tr style=\"text-align: right;\">\n",
              "      <th></th>\n",
              "      <th>FECHA</th>\n",
              "      <th>HYBAS_ID</th>\n",
              "      <th>WB</th>\n",
              "      <th>VOLUMEN_AGUA_M3</th>\n",
              "    </tr>\n",
              "  </thead>\n",
              "  <tbody>\n",
              "    <tr>\n",
              "      <th>0</th>\n",
              "      <td>200001</td>\n",
              "      <td>6020029280</td>\n",
              "      <td>50.485892</td>\n",
              "      <td>2.567859e+10</td>\n",
              "    </tr>\n",
              "    <tr>\n",
              "      <th>1</th>\n",
              "      <td>200001</td>\n",
              "      <td>6020017370</td>\n",
              "      <td>-0.368568</td>\n",
              "      <td>-5.578442e+08</td>\n",
              "    </tr>\n",
              "    <tr>\n",
              "      <th>2</th>\n",
              "      <td>200001</td>\n",
              "      <td>6020021870</td>\n",
              "      <td>16.590427</td>\n",
              "      <td>1.796544e+10</td>\n",
              "    </tr>\n",
              "    <tr>\n",
              "      <th>3</th>\n",
              "      <td>200001</td>\n",
              "      <td>6020008320</td>\n",
              "      <td>71.562333</td>\n",
              "      <td>1.501534e+11</td>\n",
              "    </tr>\n",
              "    <tr>\n",
              "      <th>4</th>\n",
              "      <td>200001</td>\n",
              "      <td>6020014330</td>\n",
              "      <td>41.925067</td>\n",
              "      <td>1.510633e+11</td>\n",
              "    </tr>\n",
              "  </tbody>\n",
              "</table>\n",
              "</div>"
            ],
            "text/plain": [
              "    FECHA    HYBAS_ID         WB  VOLUMEN_AGUA_M3\n",
              "0  200001  6020029280  50.485892     2.567859e+10\n",
              "1  200001  6020017370  -0.368568    -5.578442e+08\n",
              "2  200001  6020021870  16.590427     1.796544e+10\n",
              "3  200001  6020008320  71.562333     1.501534e+11\n",
              "4  200001  6020014330  41.925067     1.510633e+11"
            ]
          },
          "metadata": {
            "tags": []
          },
          "execution_count": 8
        }
      ]
    },
    {
      "cell_type": "code",
      "metadata": {
        "colab": {
          "base_uri": "https://localhost:8080/"
        },
        "id": "3I6lKWjUdQgT",
        "outputId": "a710f5e7-96a5-45a0-b8c7-26023f42079a"
      },
      "source": [
        "len(df2) # 7 cuencas * 12 meses * 20 años = 1680"
      ],
      "execution_count": null,
      "outputs": [
        {
          "output_type": "execute_result",
          "data": {
            "text/plain": [
              "1680"
            ]
          },
          "metadata": {
            "tags": []
          },
          "execution_count": 10
        }
      ]
    },
    {
      "cell_type": "markdown",
      "metadata": {
        "id": "kFqhlJV5VQyj"
      },
      "source": [
        "Para una mejor compresión, a continuación, crearemos un campo con el VA en millardo de metros cúbicos. Un millardo es el número natural equivalente a mil millones (1 000 000 000) o, en notación científica, $10^{9}$."
      ]
    },
    {
      "cell_type": "code",
      "metadata": {
        "colab": {
          "base_uri": "https://localhost:8080/",
          "height": 198
        },
        "id": "ZHC3PYDAVP5l",
        "outputId": "5c2f24de-da75-488e-ec17-1530986c0500"
      },
      "source": [
        "df2['VOLUMEN_AGUA_MM3'] = round(df2['VOLUMEN_AGUA_M3'] / 1000000000, 2)\r\n",
        "df2.head()"
      ],
      "execution_count": null,
      "outputs": [
        {
          "output_type": "execute_result",
          "data": {
            "text/html": [
              "<div>\n",
              "<style scoped>\n",
              "    .dataframe tbody tr th:only-of-type {\n",
              "        vertical-align: middle;\n",
              "    }\n",
              "\n",
              "    .dataframe tbody tr th {\n",
              "        vertical-align: top;\n",
              "    }\n",
              "\n",
              "    .dataframe thead th {\n",
              "        text-align: right;\n",
              "    }\n",
              "</style>\n",
              "<table border=\"1\" class=\"dataframe\">\n",
              "  <thead>\n",
              "    <tr style=\"text-align: right;\">\n",
              "      <th></th>\n",
              "      <th>FECHA</th>\n",
              "      <th>HYBAS_ID</th>\n",
              "      <th>WB</th>\n",
              "      <th>VOLUMEN_AGUA_M3</th>\n",
              "      <th>VOLUMEN_AGUA_MM3</th>\n",
              "    </tr>\n",
              "  </thead>\n",
              "  <tbody>\n",
              "    <tr>\n",
              "      <th>0</th>\n",
              "      <td>200001</td>\n",
              "      <td>6020029280</td>\n",
              "      <td>50.485892</td>\n",
              "      <td>2.567859e+10</td>\n",
              "      <td>25.68</td>\n",
              "    </tr>\n",
              "    <tr>\n",
              "      <th>1</th>\n",
              "      <td>200001</td>\n",
              "      <td>6020017370</td>\n",
              "      <td>-0.368568</td>\n",
              "      <td>-5.578442e+08</td>\n",
              "      <td>-0.56</td>\n",
              "    </tr>\n",
              "    <tr>\n",
              "      <th>2</th>\n",
              "      <td>200001</td>\n",
              "      <td>6020021870</td>\n",
              "      <td>16.590427</td>\n",
              "      <td>1.796544e+10</td>\n",
              "      <td>17.97</td>\n",
              "    </tr>\n",
              "    <tr>\n",
              "      <th>3</th>\n",
              "      <td>200001</td>\n",
              "      <td>6020008320</td>\n",
              "      <td>71.562333</td>\n",
              "      <td>1.501534e+11</td>\n",
              "      <td>150.15</td>\n",
              "    </tr>\n",
              "    <tr>\n",
              "      <th>4</th>\n",
              "      <td>200001</td>\n",
              "      <td>6020014330</td>\n",
              "      <td>41.925067</td>\n",
              "      <td>1.510633e+11</td>\n",
              "      <td>151.06</td>\n",
              "    </tr>\n",
              "  </tbody>\n",
              "</table>\n",
              "</div>"
            ],
            "text/plain": [
              "    FECHA    HYBAS_ID         WB  VOLUMEN_AGUA_M3  VOLUMEN_AGUA_MM3\n",
              "0  200001  6020029280  50.485892     2.567859e+10             25.68\n",
              "1  200001  6020017370  -0.368568    -5.578442e+08             -0.56\n",
              "2  200001  6020021870  16.590427     1.796544e+10             17.97\n",
              "3  200001  6020008320  71.562333     1.501534e+11            150.15\n",
              "4  200001  6020014330  41.925067     1.510633e+11            151.06"
            ]
          },
          "metadata": {
            "tags": []
          },
          "execution_count": 5
        }
      ]
    },
    {
      "cell_type": "markdown",
      "metadata": {
        "id": "Vq31XDhCYoI_"
      },
      "source": [
        "A continuación, procedemos a calcular los [cuartiles](https://support.minitab.com/es-mx/minitab/18/help-and-how-to/graphs/how-to/boxplot/interpret-the-results/quartiles/) para  a clasificar el volumen de agua en millardos de ${m^3}$ de toda la serie temporal.\r\n"
      ]
    },
    {
      "cell_type": "code",
      "metadata": {
        "colab": {
          "base_uri": "https://localhost:8080/"
        },
        "id": "1wUe2RFEXONR",
        "outputId": "d39d1f9e-7949-4e99-e23e-f6eaed604795"
      },
      "source": [
        "# calculate quantiles\r\n",
        "dfquantiles = df2['VOLUMEN_AGUA_MM3'].quantile([0.25, 0.50, 0.75]) \r\n",
        "\r\n",
        "# adjust quantile 0.25 to 0 to include all negative data into a category\r\n",
        "dfquantiles[0.25] =0\r\n",
        "dfquantiles"
      ],
      "execution_count": null,
      "outputs": [
        {
          "output_type": "execute_result",
          "data": {
            "text/plain": [
              "0.25      0.000\n",
              "0.50     31.730\n",
              "0.75    113.165\n",
              "Name: VOLUMEN_AGUA_MM3, dtype: float64"
            ]
          },
          "metadata": {
            "tags": []
          },
          "execution_count": 7
        }
      ]
    },
    {
      "cell_type": "markdown",
      "metadata": {
        "id": "vvKNfACQbbFg"
      },
      "source": [
        "Con estos resultado podemos constuir la siguiente tabla de clasificación:\r\n",
        "\r\n",
        "<style type=\"text/css\">\r\n",
        ".tg  {border-collapse:collapse;border-spacing:0;}\r\n",
        ".tg td{border-color:black;border-style:solid;border-width:1px;font-family:Arial, sans-serif;font-size:14px;\r\n",
        "  overflow:hidden;padding:10px 5px;word-break:normal;}\r\n",
        ".tg th{border-color:black;border-style:solid;border-width:1px;font-family:Arial, sans-serif;font-size:14px;\r\n",
        "  font-weight:normal;overflow:hidden;padding:10px 5px;word-break:normal;}\r\n",
        ".tg .tg-g0ma{border-color:inherit;font-size:xx-large;font-weight:bold;text-align:left;vertical-align:top}\r\n",
        ".tg .tg-8afn{border-color:inherit;font-size:xx-large;text-align:left;vertical-align:top}\r\n",
        "@media screen and (max-width: 767px) {.tg {width: auto !important;}.tg col {width: auto !important;}.tg-wrap {overflow-x: auto;-webkit-overflow-scrolling: touch;}}</style>\r\n",
        "<div class=\"tg-wrap\"><table class=\"tg\">\r\n",
        "<thead>\r\n",
        "  <tr>\r\n",
        "    <th class=\"tg-g0ma\">Rango</th>\r\n",
        "    <th class=\"tg-g0ma\">Clase</th>\r\n",
        "  </tr>\r\n",
        "</thead>\r\n",
        "<tbody>\r\n",
        "  <tr>\r\n",
        "    <td class=\"tg-8afn\">&lt; 0</td>\r\n",
        "    <td class=\"tg-8afn\">Baja</td>\r\n",
        "  </tr>\r\n",
        "  <tr>\r\n",
        "    <td class=\"tg-8afn\">0 - 31.73</td>\r\n",
        "    <td class=\"tg-8afn\">Media</td>\r\n",
        "  </tr>\r\n",
        "  <tr>\r\n",
        "    <td class=\"tg-8afn\">31.73 - 113.16</td>\r\n",
        "    <td class=\"tg-8afn\">Alto</td>\r\n",
        "  </tr>\r\n",
        "  <tr>\r\n",
        "    <td class=\"tg-8afn\">&gt; 113.16</td>\r\n",
        "    <td class=\"tg-8afn\">Muy Alto</td>\r\n",
        "  </tr>\r\n",
        "</tbody>\r\n",
        "</table></div>"
      ]
    },
    {
      "cell_type": "code",
      "metadata": {
        "colab": {
          "base_uri": "https://localhost:8080/",
          "height": 198
        },
        "id": "9u7w2tv-baQi",
        "outputId": "b6b5d427-056c-4653-bcfe-168a2bb2682b"
      },
      "source": [
        "#labeling of groups\r\n",
        "df2['CLASE_VAMM3'] = 'Muy Alto'\r\n",
        "df2['CLASE_VAMM3'][df2['VOLUMEN_AGUA_MM3'] < dfquantiles[0.75]] = 'Alto'   \r\n",
        "df2['CLASE_VAMM3'][df2['VOLUMEN_AGUA_MM3'] < dfquantiles[0.50]] = 'Medio'   \r\n",
        "df2['CLASE_VAMM3'][df2['VOLUMEN_AGUA_MM3'] < dfquantiles[0.25]] = 'Bajo' \r\n",
        "df2.head()"
      ],
      "execution_count": null,
      "outputs": [
        {
          "output_type": "execute_result",
          "data": {
            "text/html": [
              "<div>\n",
              "<style scoped>\n",
              "    .dataframe tbody tr th:only-of-type {\n",
              "        vertical-align: middle;\n",
              "    }\n",
              "\n",
              "    .dataframe tbody tr th {\n",
              "        vertical-align: top;\n",
              "    }\n",
              "\n",
              "    .dataframe thead th {\n",
              "        text-align: right;\n",
              "    }\n",
              "</style>\n",
              "<table border=\"1\" class=\"dataframe\">\n",
              "  <thead>\n",
              "    <tr style=\"text-align: right;\">\n",
              "      <th></th>\n",
              "      <th>FECHA</th>\n",
              "      <th>HYBAS_ID</th>\n",
              "      <th>WB</th>\n",
              "      <th>VOLUMEN_AGUA_M3</th>\n",
              "      <th>VOLUMEN_AGUA_MM3</th>\n",
              "      <th>CLASE_VAMM3</th>\n",
              "    </tr>\n",
              "  </thead>\n",
              "  <tbody>\n",
              "    <tr>\n",
              "      <th>0</th>\n",
              "      <td>200001</td>\n",
              "      <td>6020029280</td>\n",
              "      <td>50.485892</td>\n",
              "      <td>2.567859e+10</td>\n",
              "      <td>25.68</td>\n",
              "      <td>Medio</td>\n",
              "    </tr>\n",
              "    <tr>\n",
              "      <th>1</th>\n",
              "      <td>200001</td>\n",
              "      <td>6020017370</td>\n",
              "      <td>-0.368568</td>\n",
              "      <td>-5.578442e+08</td>\n",
              "      <td>-0.56</td>\n",
              "      <td>Bajo</td>\n",
              "    </tr>\n",
              "    <tr>\n",
              "      <th>2</th>\n",
              "      <td>200001</td>\n",
              "      <td>6020021870</td>\n",
              "      <td>16.590427</td>\n",
              "      <td>1.796544e+10</td>\n",
              "      <td>17.97</td>\n",
              "      <td>Medio</td>\n",
              "    </tr>\n",
              "    <tr>\n",
              "      <th>3</th>\n",
              "      <td>200001</td>\n",
              "      <td>6020008320</td>\n",
              "      <td>71.562333</td>\n",
              "      <td>1.501534e+11</td>\n",
              "      <td>150.15</td>\n",
              "      <td>Muy Alto</td>\n",
              "    </tr>\n",
              "    <tr>\n",
              "      <th>4</th>\n",
              "      <td>200001</td>\n",
              "      <td>6020014330</td>\n",
              "      <td>41.925067</td>\n",
              "      <td>1.510633e+11</td>\n",
              "      <td>151.06</td>\n",
              "      <td>Muy Alto</td>\n",
              "    </tr>\n",
              "  </tbody>\n",
              "</table>\n",
              "</div>"
            ],
            "text/plain": [
              "    FECHA    HYBAS_ID         WB  VOLUMEN_AGUA_M3  VOLUMEN_AGUA_MM3 CLASE_VAMM3\n",
              "0  200001  6020029280  50.485892     2.567859e+10             25.68       Medio\n",
              "1  200001  6020017370  -0.368568    -5.578442e+08             -0.56        Bajo\n",
              "2  200001  6020021870  16.590427     1.796544e+10             17.97       Medio\n",
              "3  200001  6020008320  71.562333     1.501534e+11            150.15    Muy Alto\n",
              "4  200001  6020014330  41.925067     1.510633e+11            151.06    Muy Alto"
            ]
          },
          "metadata": {
            "tags": []
          },
          "execution_count": 12
        }
      ]
    },
    {
      "cell_type": "markdown",
      "metadata": {
        "id": "Y1gc_gkvQQOt",
        "outputId": "dd96af01-55d0-472d-bc72-5df8da446675"
      },
      "source": [
        "Finalmente exportemos los datos en formato csv"
      ]
    },
    {
      "cell_type": "code",
      "metadata": {
        "id": "6Seul4mCi3HW"
      },
      "source": [
        "df2.to_csv('wb2000_2019.csv', index=False)"
      ],
      "execution_count": null,
      "outputs": []
    }
  ]
}